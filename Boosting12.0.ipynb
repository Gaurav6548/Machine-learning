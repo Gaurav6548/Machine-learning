{
 "cells": [
  {
   "cell_type": "markdown",
   "metadata": {
    "_cell_guid": "79c7e3d0-c299-4dcb-8224-4455121ee9b0",
    "_uuid": "d629ff2d2480ee46fbb7e2d37f6b5fab8052498a",
    "collapsed": true,
    "id": "u93kzhf1D3UX",
    "jupyter": {
     "outputs_hidden": true
    }
   },
   "source": [
    "\n",
    "# <center><u>**`Ensemble ML Algorithms - Boosting`**</u></center>\n",
    "\n",
    "\n",
    "\n",
    "\n",
    "## **`TalkingData: Fraudulent Click Prediction`**\n",
    "\n",
    "\n",
    "\n",
    "\n"
   ]
  },
  {
   "cell_type": "markdown",
   "metadata": {
    "id": "DThpWOx6D3UZ"
   },
   "source": [
    "In this assignment, we will apply various boosting algorithms to solve an interesting classification problem from the domain of 'digital fraud'.\n",
    "\n",
    "The analysis is divided into the following sections:\n",
    "- `Understanding the business problem`\n",
    "- `Understanding and exploring the data`\n",
    "- `Feature engineering: Creating new features`\n",
    "- `Model building and evaluation: AdaBoost`\n",
    "- `Modelling building and evaluation: Gradient Boosting`\n",
    "- `Modelling building and evaluation: XGBoost`\n",
    "- `Modelling building and evaluation: LightGBM`\n",
    "- `Modelling building and evaluation: CatBoost`\n",
    "\n",
    "\n"
   ]
  },
  {
   "cell_type": "markdown",
   "metadata": {
    "id": "AZvCLMIhD3Ua"
   },
   "source": [
    "## **`Understanding the Business Problem`**\n",
    "\n",
    "<p style='text-align: right;'> 5 points</p>\n",
    "\n",
    "\n",
    "<a href=\"https://www.talkingdata.com/\">TalkingData</a> is a Chinese big data company, and one of their areas of expertise is mobile advertisements.\n",
    "\n",
    "In mobile advertisements, **click fraud** is a major source of losses. Click fraud is the practice of repeatedly clicking on an advertisement hosted on a website with the intention of generating revenue for the host website or draining revenue from the advertiser.\n",
    "\n",
    "In this case, TalkingData happens to be serving the advertisers (their clients). TalkingData cover a whopping **approx. 70% of the active mobile devices in China**, of which 90% are potentially fraudulent (i.e. the user is actually not going to download the app after clicking).\n",
    "\n",
    "You can imagine the amount of money they can help clients save if they are able to predict whether a given click is fraudulent (or equivalently, whether a given click will result in a download). \n",
    "\n",
    "Their current approach to solve this problem is that they've generated a blacklist of IP addresses - those IPs which produce lots of clicks, but never install any apps. Now, they want to try some advanced techniques to predict the probability of a click being genuine/fraud.\n",
    "\n",
    "In this problem, we will use the features associated with clicks, such as IP address, operating system, device type, time of click etc. to predict the probability of a click being fraud.\n",
    "\n",
    "They have released <a href=\"https://www.kaggle.com/c/talkingdata-adtracking-fraud-detection\">the problem on Kaggle here.</a>."
   ]
  },
  {
   "cell_type": "markdown",
   "metadata": {
    "id": "mOroROEND3Ub"
   },
   "source": [
    "## **`Understanding and Exploring the Data`**\n",
    "\n",
    "The data contains observations of about 240 million clicks, and whether a given click resulted in a download or not (1/0). \n",
    "\n",
    "On Kaggle, the data is split into train.csv and train_sample.csv (100,000 observations). We'll use the smaller train_sample.csv in this notebook for speed, though while training the model for Kaggle submissions, the full training data will obviously produce better results.\n",
    "\n",
    "The detailed data dictionary is mentioned here:\n",
    "- ```ip```: ip address of click.\n",
    "- ```app```: app id for marketing.\n",
    "- ```device```: device type id of user mobile phone (e.g., iphone 6 plus, iphone 7, huawei mate 7, etc.)\n",
    "- ```os```: os version id of user mobile phone\n",
    "- ```channel```: channel id of mobile ad publisher\n",
    "- ```click_time```: timestamp of click (UTC)\n",
    "- ```attributed_time```: if user download the app for after clicking an ad, this is the time of the app download\n",
    "- ```is_attributed```: the target that is to be predicted, indicating the app was downloaded\n",
    "\n",
    "Let's try finding some useful trends in the data."
   ]
  },
  {
   "cell_type": "code",
   "execution_count": 1,
   "metadata": {
    "id": "ikrMVyDEPcLa",
    "outputId": "801d0a82-7bc0-4c4b-cfa5-d5148052c62b"
   },
   "outputs": [
    {
     "name": "stdout",
     "output_type": "stream",
     "text": [
      "Requirement already satisfied: xgboost in ./anaconda3/lib/python3.11/site-packages (2.0.3)\n",
      "Requirement already satisfied: numpy in ./anaconda3/lib/python3.11/site-packages (from xgboost) (1.24.3)\n",
      "Requirement already satisfied: scipy in ./anaconda3/lib/python3.11/site-packages (from xgboost) (1.11.1)\n",
      "Note: you may need to restart the kernel to use updated packages.\n"
     ]
    }
   ],
   "source": [
    "pip install xgboost"
   ]
  },
  {
   "cell_type": "code",
   "execution_count": 2,
   "metadata": {
    "_cell_guid": "5ba86a36-b8be-44db-ad92-e3cddbb354d1",
    "_uuid": "cd4d66f4ecc6daa0ea4cab6359fc5203112f245c",
    "id": "wEs3rPsoD3Uc"
   },
   "outputs": [],
   "source": [
    "#importing important libraries\n",
    "\n",
    "import numpy as np \n",
    "import pandas as pd \n",
    "import sklearn\n",
    "import matplotlib.pyplot as plt\n",
    "import seaborn as sns\n",
    "\n",
    "from sklearn.model_selection import train_test_split\n",
    "from sklearn.model_selection import KFold\n",
    "from sklearn.model_selection import GridSearchCV\n",
    "from sklearn.model_selection import RandomizedSearchCV\n",
    "\n",
    "from sklearn.model_selection import cross_val_score\n",
    "from sklearn.preprocessing import LabelEncoder\n",
    "from sklearn.tree import DecisionTreeClassifier\n",
    "from sklearn.ensemble import AdaBoostClassifier\n",
    "from sklearn.ensemble import GradientBoostingClassifier\n",
    "from sklearn import metrics\n",
    "import xgboost as xgb\n",
    "from xgboost import XGBClassifier\n",
    "from xgboost import plot_importance\n",
    "import gc # for deleting unused variables\n",
    "%matplotlib inline\n",
    "\n",
    "import os\n",
    "import warnings\n",
    "warnings.filterwarnings('ignore')"
   ]
  },
  {
   "cell_type": "markdown",
   "metadata": {
    "_cell_guid": "d408baf0-f640-45f3-8dec-141746a985a8",
    "_uuid": "7a3dc1d7ebed1cdc9818338682bf5858e276681e",
    "id": "4rn6B52SD3Ud"
   },
   "source": [
    "#### `Reading the Data` \n",
    "\n",
    "The code below reads the train_sample.csv file if you set testing = True, else reads the full train.csv file. You can read the sample while tuning the model etc., and then run the model on the full data once done.\n",
    "\n",
    "#### `Important Note: Save memory when the data is huge`\n",
    "\n",
    "Since the training data is quite huge, the program will be quite slow if you don't consciously follow some best practices to save memory. This notebook demonstrates some of those practices. "
   ]
  },
  {
   "cell_type": "code",
   "execution_count": 3,
   "metadata": {
    "_cell_guid": "54ed4833-efb3-4adf-971b-28a56ae19d01",
    "_uuid": "bac7dea7334ff1fb925347f9302b3d06e189fbc7",
    "id": "ylU947HvD3Ue"
   },
   "outputs": [],
   "source": [
    "# reading training data\n",
    "\n",
    "# specify column dtypes to save memory (by default pandas reads some columns as floats)\n",
    "# note that click_id is only in test data, not training data\n",
    "dtypes = {\n",
    "        'ip'            : 'uint16',\n",
    "        'app'           : 'uint16',\n",
    "        'device'        : 'uint16',\n",
    "        'os'            : 'uint16',\n",
    "        'channel'       : 'uint16',\n",
    "        'is_attributed' : 'uint8',\n",
    "        'click_id'      : 'uint32' \n",
    "        }\n",
    "\n",
    "# read training_sample.csv for quick testing/debug, else read the full train.csv\n",
    "testing = True\n",
    "if testing:\n",
    "    train_path = \"train_sample.csv\"\n",
    "    skiprows = None\n",
    "    nrows = None\n",
    "    colnames=['ip','app','device','os', 'channel', 'click_time', 'is_attributed']\n",
    "else:\n",
    "    train_path = \"train.csv\"\n",
    "    skiprows = range(1, 144903891)\n",
    "    nrows = 10000000\n",
    "    colnames=['ip','app','device','os', 'channel', 'click_time', 'is_attributed']\n",
    "\n",
    "# read training data (train_sample.csv)\n",
    "train_sample = pd.read_csv(\"train_sample.csv\")\n",
    "\n",
    "\n",
    "\n"
   ]
  },
  {
   "cell_type": "code",
   "execution_count": 4,
   "metadata": {
    "_cell_guid": "98d1b00a-8ee6-4959-9091-e8b56e4bcb15",
    "_uuid": "a9f5559317e6cc476c47b166bd95118c9f29dbbe",
    "colab": {
     "base_uri": "https://localhost:8080/"
    },
    "id": "__DK7dKCD3Ug",
    "outputId": "3e49a52a-7661-4d14-d0fb-bb0457510af2"
   },
   "outputs": [
    {
     "data": {
      "text/plain": [
       "100000"
      ]
     },
     "execution_count": 4,
     "metadata": {},
     "output_type": "execute_result"
    }
   ],
   "source": [
    "# Printing length of training data\n",
    "\n",
    "len(train_sample)\n"
   ]
  },
  {
   "cell_type": "markdown",
   "metadata": {
    "id": "MCt2oiT6D3Uj"
   },
   "source": [
    "To get memory consumed by each column use memory_usage() function on train_sample\n",
    "\n",
    "Refer: https://www.w3resource.com/pandas/dataframe/dataframe-memory_usage.php"
   ]
  },
  {
   "cell_type": "code",
   "execution_count": 5,
   "metadata": {
    "_cell_guid": "7743ffd9-a38c-4130-b7d4-373e324bd9ae",
    "_uuid": "663ed1e0137fce0f2a5b2ebd02c7bf6a35c506c7",
    "colab": {
     "base_uri": "https://localhost:8080/"
    },
    "id": "pqrdhOIyD3Uk",
    "outputId": "ef1fd632-ed3d-46c9-bd1a-c297383a4594",
    "scrolled": true
   },
   "outputs": [
    {
     "data": {
      "text/plain": [
       "Index                 132\n",
       "ip                 800000\n",
       "app                800000\n",
       "device             800000\n",
       "os                 800000\n",
       "channel            800000\n",
       "click_time         800000\n",
       "attributed_time    800000\n",
       "is_attributed      800000\n",
       "dtype: int64"
      ]
     },
     "execution_count": 5,
     "metadata": {},
     "output_type": "execute_result"
    }
   ],
   "source": [
    "# Displays memory consumed by each column ---\n",
    "train_sample.memory_usage()\n",
    "\n"
   ]
  },
  {
   "cell_type": "markdown",
   "metadata": {
    "id": "2oETlzPKD3Ul"
   },
   "source": [
    "To get space used by training data then use sum of memory consumed by each variable divided by 1024**2\n"
   ]
  },
  {
   "cell_type": "code",
   "execution_count": 6,
   "metadata": {
    "_cell_guid": "196408ab-7891-4f75-bf3a-c491525ab4ff",
    "_uuid": "4c4323fe3fdf0f12fd065c83b253385a5826413c",
    "colab": {
     "base_uri": "https://localhost:8080/"
    },
    "id": "BW05Lt3DD3Ul",
    "outputId": "b263617c-d776-48ad-d2fb-9aff7ddc73f1"
   },
   "outputs": [
    {
     "name": "stdout",
     "output_type": "stream",
     "text": [
      "Training dataset uses 6.103641510009766 MB\n"
     ]
    }
   ],
   "source": [
    "# space used by training data\n",
    "print(\"Training dataset uses\",train_sample.memory_usage().sum()/1024**2,\"MB\")\n",
    "\n",
    "\n"
   ]
  },
  {
   "cell_type": "code",
   "execution_count": 7,
   "metadata": {
    "_cell_guid": "85dce024-c56b-412d-b230-7a42d1e61661",
    "_uuid": "831d573b61c925fed93c55d4a4094e2f374e727b",
    "colab": {
     "base_uri": "https://localhost:8080/",
     "height": 205
    },
    "id": "tAPg-EDgD3Um",
    "outputId": "f853e3df-4d3d-4600-9763-8e275c6d5eea",
    "scrolled": true
   },
   "outputs": [],
   "source": [
    "# training data top rows\n",
    "train_sample.head()\n",
    "train_sample.drop('attributed_time',axis=1,inplace=True)\n",
    "\n"
   ]
  },
  {
   "cell_type": "markdown",
   "metadata": {
    "_cell_guid": "047cdedb-b9a4-4185-9079-31d19e418dd5",
    "_uuid": "bdca59dbbab3ea6e7938ed6348bda8b022b54437",
    "id": "r_u94Wa8D3Un"
   },
   "source": [
    "### `Exploring the Data - Univariate Analysis`\n"
   ]
  },
  {
   "cell_type": "markdown",
   "metadata": {
    "_cell_guid": "f1924177-9395-4f17-bbec-6746cf8c360e",
    "_uuid": "778a6efbfc8c7c9d82f6aa6c84af3e145777be13",
    "id": "RAONtm2kD3Un"
   },
   "source": [
    "Let's now understand and explore the data. Let's start with understanding the size and data types of the train_sample data."
   ]
  },
  {
   "cell_type": "code",
   "execution_count": 8,
   "metadata": {
    "_cell_guid": "4539d9f9-fe8e-438b-9c6e-8d0f4d089e17",
    "_uuid": "0aff4ad2d4abb7a49cfeccbd0d65f96a5256eab8",
    "colab": {
     "base_uri": "https://localhost:8080/"
    },
    "id": "VFe2i-5fD3Un",
    "outputId": "9cbda44b-b7a6-488e-b32e-20aa79204885"
   },
   "outputs": [
    {
     "name": "stdout",
     "output_type": "stream",
     "text": [
      "<class 'pandas.core.frame.DataFrame'>\n",
      "RangeIndex: 100000 entries, 0 to 99999\n",
      "Data columns (total 7 columns):\n",
      " #   Column         Non-Null Count   Dtype \n",
      "---  ------         --------------   ----- \n",
      " 0   ip             100000 non-null  int64 \n",
      " 1   app            100000 non-null  int64 \n",
      " 2   device         100000 non-null  int64 \n",
      " 3   os             100000 non-null  int64 \n",
      " 4   channel        100000 non-null  int64 \n",
      " 5   click_time     100000 non-null  object\n",
      " 6   is_attributed  100000 non-null  int64 \n",
      "dtypes: int64(6), object(1)\n",
      "memory usage: 5.3+ MB\n"
     ]
    }
   ],
   "source": [
    "# look at non-null values, null values, number of entries etc.\n",
    "train_sample.info()\n",
    "\n",
    "\n"
   ]
  },
  {
   "cell_type": "markdown",
   "metadata": {
    "id": "AiyvMM1rD3Uo"
   },
   "source": [
    "You can see that there is no missing values\n",
    "\n",
    "## `Basic exploratory analysis `\n",
    "\n",
    "<p style='text-align: right;'> 10 points</p>\n",
    "\n",
    "\n",
    "1. Number of unique values in each column\n"
   ]
  },
  {
   "cell_type": "code",
   "execution_count": 9,
   "metadata": {
    "_cell_guid": "dd930aa6-557f-4b59-9a36-8f940324f594",
    "_uuid": "816535e82869da6601f9dd7227a201adda9843d1",
    "colab": {
     "base_uri": "https://localhost:8080/"
    },
    "id": "DD8nAsb-D3Uo",
    "outputId": "f23befe8-9c38-4b2e-8f3d-da573f40f25e"
   },
   "outputs": [
    {
     "data": {
      "text/plain": [
       "{'ip': 34857,\n",
       " 'app': 161,\n",
       " 'device': 100,\n",
       " 'os': 130,\n",
       " 'channel': 161,\n",
       " 'click_time': 80350,\n",
       " 'is_attributed': 2}"
      ]
     },
     "execution_count": 9,
     "metadata": {},
     "output_type": "execute_result"
    }
   ],
   "source": [
    "# Define a function to fetch unique values in each column\n",
    "def fraction_unique(x):\n",
    "    # return unique values\n",
    "    return len(train_sample[x].unique())\n",
    "\n",
    "# one line code to use above function and creating a dictionary\n",
    "number_unique_vals = {x: fraction_unique(x) for x in train_sample.columns}\n",
    "\n",
    "\n",
    "\n",
    "#print dictionary of Unique values\n",
    "number_unique_vals\n",
    "\n",
    "\n",
    "\n"
   ]
  },
  {
   "cell_type": "markdown",
   "metadata": {
    "id": "ZNc24VdED3Uo"
   },
   "source": [
    "2. Checking data type of each columns"
   ]
  },
  {
   "cell_type": "code",
   "execution_count": 10,
   "metadata": {
    "_cell_guid": "408e795a-2d0d-4ae0-bf96-868721d9394d",
    "_uuid": "c6bd82f7f439f73bf543d2313c82e4d3e99519e4",
    "colab": {
     "base_uri": "https://localhost:8080/"
    },
    "id": "TIBrWcz8D3Up",
    "outputId": "86eaf9c0-b65e-4ed2-8c13-ec33401acf73"
   },
   "outputs": [
    {
     "data": {
      "text/plain": [
       "ip                int64\n",
       "app               int64\n",
       "device            int64\n",
       "os                int64\n",
       "channel           int64\n",
       "click_time       object\n",
       "is_attributed     int64\n",
       "dtype: object"
      ]
     },
     "execution_count": 10,
     "metadata": {},
     "output_type": "execute_result"
    }
   ],
   "source": [
    "# each column data type\n",
    "train_sample.dtypes\n",
    "\n",
    "\n",
    "\n"
   ]
  },
  {
   "cell_type": "markdown",
   "metadata": {
    "id": "2T3DGwEID3Up"
   },
   "source": [
    "You will see that all columns apart from click time are originally int type, though note that they are all actually categorical "
   ]
  },
  {
   "cell_type": "markdown",
   "metadata": {
    "_cell_guid": "a329709b-2d48-4b32-8491-d0a3a57a9635",
    "_uuid": "16271bff54cffd07c656c21023b0a1cb62297960",
    "id": "oiX69GjLD3Uq"
   },
   "source": [
    "There are certain 'apps' which have quite high number of instances/rows (each row is a click). So lets plot it below "
   ]
  },
  {
   "cell_type": "code",
   "execution_count": 11,
   "metadata": {
    "_cell_guid": "3e9c25d8-31a7-4b43-b2ac-5ecc21921f26",
    "_uuid": "b99fbb4955c7f05d78495d958d16d673479aca64",
    "colab": {
     "base_uri": "https://localhost:8080/",
     "height": 351
    },
    "id": "CLmSle3kD3Uq",
    "outputId": "7a1ada8d-3755-4548-d893-19933fac4ce0"
   },
   "outputs": [
    {
     "data": {
      "text/plain": [
       "<Axes: xlabel='app', ylabel='count'>"
      ]
     },
     "execution_count": 11,
     "metadata": {},
     "output_type": "execute_result"
    },
    {
     "data": {
      "image/png": "[encoded data removed]",
      "text/plain": [
       "<Figure size 1500x600 with 1 Axes>"
      ]
     },
     "metadata": {},
     "output_type": "display_data"
    }
   ],
   "source": [
    "#distribution of 'app' \n",
    "plt.figure(figsize=(15, 6))\n",
    "sns.countplot(x=\"app\",data=train_sample)\n",
    "\n",
    "\n"
   ]
  },
  {
   "cell_type": "markdown",
   "metadata": {
    "id": "6Tb5ICFGD3Ur"
   },
   "source": [
    "some 'apps' have a disproportionately high number of clicks (>15k), and some are very rare (3-4)\n",
    "\n",
    "Let us now plot device distribution below "
   ]
  },
  {
   "cell_type": "code",
   "execution_count": 12,
   "metadata": {
    "_cell_guid": "77e73dce-cf2f-43a9-b0a8-fe5956ff99a9",
    "_uuid": "d3815fab7e31db39452c9fca0b3ade757124da25",
    "colab": {
     "base_uri": "https://localhost:8080/",
     "height": 350
    },
    "id": "ljelEux4D3Ur",
    "outputId": "2877efec-903b-42e0-89b5-0dd591dfda81"
   },
   "outputs": [
    {
     "data": {
      "text/plain": [
       "<Axes: xlabel='device', ylabel='count'>"
      ]
     },
     "execution_count": 12,
     "metadata": {},
     "output_type": "execute_result"
    },
    {
     "data": {
      "image/png": "[encoded data removed]",
      "text/plain": [
       "<Figure size 1500x600 with 1 Axes>"
      ]
     },
     "metadata": {},
     "output_type": "display_data"
    }
   ],
   "source": [
    "# distribution of 'device' \n",
    "plt.figure(figsize=(15, 6))\n",
    "sns.countplot(x='device',data=train_sample)\n",
    "\n",
    "\n",
    "\n"
   ]
  },
  {
   "cell_type": "markdown",
   "metadata": {
    "id": "BhKCORYWD3Ur"
   },
   "source": [
    "The above result is expected because a few popular devices are used heavily\n",
    "\n",
    "Let us now plot channel below"
   ]
  },
  {
   "cell_type": "code",
   "execution_count": 13,
   "metadata": {
    "_cell_guid": "098c5d37-5302-45e8-9845-eb3dfa7be87b",
    "_uuid": "656c6cfa30d189febea9bb4c12b2f2519c0b0cef",
    "colab": {
     "base_uri": "https://localhost:8080/",
     "height": 353
    },
    "id": "e23wBoTRD3Us",
    "outputId": "02ef9d14-e66f-4206-8d76-d62f10dee608"
   },
   "outputs": [
    {
     "data": {
      "text/plain": [
       "<Axes: xlabel='channel', ylabel='count'>"
      ]
     },
     "execution_count": 13,
     "metadata": {},
     "output_type": "execute_result"
    },
    {
     "data": {
      "image/png": "[encoded data removed]",
      "text/plain": [
       "<Figure size 1500x600 with 1 Axes>"
      ]
     },
     "metadata": {},
     "output_type": "display_data"
    }
   ],
   "source": [
    "# distribution of 'channel' \n",
    "\n",
    "plt.figure(figsize=(15, 6))\n",
    "sns.countplot(x='channel',data=train_sample)\n",
    "\n",
    "\n",
    "\n",
    "\n"
   ]
  },
  {
   "cell_type": "markdown",
   "metadata": {
    "id": "rdMi9jwED3Us"
   },
   "source": [
    "you can see abobe that various channels get clicks in comparable quantities\n",
    "\n",
    "Lets see distribution of 'os' now "
   ]
  },
  {
   "cell_type": "code",
   "execution_count": 14,
   "metadata": {
    "_cell_guid": "c39356d4-3f97-41be-944f-ce88db264365",
    "_uuid": "8f33610186e195da39033b9a64cd2d11b244113a",
    "colab": {
     "base_uri": "https://localhost:8080/",
     "height": 354
    },
    "id": "HTxIlxxND3Us",
    "outputId": "84ae299d-e499-4b56-aedb-d8769b2dd8db"
   },
   "outputs": [
    {
     "data": {
      "text/plain": [
       "<Axes: xlabel='os', ylabel='count'>"
      ]
     },
     "execution_count": 14,
     "metadata": {},
     "output_type": "execute_result"
    },
    {
     "data": {
      "image/png": "[encoded data removed]",
      "text/plain": [
       "<Figure size 1500x600 with 1 Axes>"
      ]
     },
     "metadata": {},
     "output_type": "display_data"
    }
   ],
   "source": [
    "# distribution of 'os' \n",
    "\n",
    "plt.figure(figsize=(15, 6))\n",
    "\n",
    "sns.countplot(x='os',data=train_sample)\n",
    "\n",
    "\n",
    "\n"
   ]
  },
  {
   "cell_type": "markdown",
   "metadata": {
    "id": "EhwMZakkD3Ut"
   },
   "source": [
    "there are a couple commos OSes (android and ios?), though some are rare and can indicate suspicion \n"
   ]
  },
  {
   "cell_type": "markdown",
   "metadata": {
    "_cell_guid": "a52d4651-f5ca-45e0-8b20-ec1f70d80edb",
    "_uuid": "6604d330cee83328b4e28790829c82b40fe83ef1",
    "id": "G6082JlGD3Ut"
   },
   "source": [
    "Let's now look at the distribution of the target  variable 'is_attributed'."
   ]
  },
  {
   "cell_type": "code",
   "execution_count": 15,
   "metadata": {
    "_cell_guid": "332d0c92-31f6-4109-91ba-5d1f38725ca8",
    "_uuid": "755b0ff3de0028805b6e33fe5b6fb70e5a1247d5",
    "colab": {
     "base_uri": "https://localhost:8080/"
    },
    "id": "--eILMxTD3Ut",
    "outputId": "251802a7-40b2-4edb-efde-93d7b3e6edf5",
    "scrolled": true
   },
   "outputs": [
    {
     "data": {
      "text/plain": [
       "is_attributed\n",
       "0    99.773\n",
       "1     0.227\n",
       "Name: count, dtype: float64"
      ]
     },
     "execution_count": 15,
     "metadata": {},
     "output_type": "execute_result"
    }
   ],
   "source": [
    "# target variable distribution\n",
    "(train_sample['is_attributed'].value_counts()/len(train_sample.index))*100\n",
    "\n",
    "\n"
   ]
  },
  {
   "cell_type": "markdown",
   "metadata": {
    "_cell_guid": "030933bd-d06b-42c8-8d1e-882f70776a74",
    "_uuid": "b604a87e4ca95bbcbe40e3192f7b66774c03d84d",
    "id": "c9tYYBg1D3Ut"
   },
   "source": [
    "Only **about 0.2% of clicks are 'fraudulent'**, which is expected in a fraud detection problem. Such high class imbalance is probably going to be the toughest challenge of this problem."
   ]
  },
  {
   "cell_type": "markdown",
   "metadata": {
    "_cell_guid": "7285fbce-6dd1-4638-80c6-8f8d94d1593c",
    "_uuid": "bca20461412ff0d2ba2d87a515785e8a762fd343",
    "id": "6jEZyNtED3Uu"
   },
   "source": [
    "### **`Exploring the Data - Segmented Univariate Analysis`**\n",
    "\n",
    "Let's now look at how the target variable varies with the various predictors."
   ]
  },
  {
   "cell_type": "code",
   "execution_count": 16,
   "metadata": {
    "_cell_guid": "73089123-995e-4142-8aa9-784bbcddccb2",
    "_uuid": "1a5d777dc7d2a003752eefd8af94c4433099bf44",
    "colab": {
     "base_uri": "https://localhost:8080/",
     "height": 454
    },
    "id": "JGkQoYTSD3Uu",
    "outputId": "a98516ec-c43c-4b4d-87bc-06db638284b2",
    "scrolled": true
   },
   "outputs": [
    {
     "data": {
      "text/html": [
       "<div>\n",
       "<style scoped>\n",
       "    .dataframe tbody tr th:only-of-type {\n",
       "        vertical-align: middle;\n",
       "    }\n",
       "\n",
       "    .dataframe tbody tr th {\n",
       "        vertical-align: top;\n",
       "    }\n",
       "\n",
       "    .dataframe thead th {\n",
       "        text-align: right;\n",
       "    }\n",
       "</style>\n",
       "<table border=\"1\" class=\"dataframe\">\n",
       "  <thead>\n",
       "    <tr style=\"text-align: right;\">\n",
       "      <th></th>\n",
       "      <th>mean</th>\n",
       "      <th>count</th>\n",
       "    </tr>\n",
       "    <tr>\n",
       "      <th>app</th>\n",
       "      <th></th>\n",
       "      <th></th>\n",
       "    </tr>\n",
       "  </thead>\n",
       "  <tbody>\n",
       "    <tr>\n",
       "      <th>1</th>\n",
       "      <td>0.000000</td>\n",
       "      <td>3135</td>\n",
       "    </tr>\n",
       "    <tr>\n",
       "      <th>2</th>\n",
       "      <td>0.000000</td>\n",
       "      <td>11737</td>\n",
       "    </tr>\n",
       "    <tr>\n",
       "      <th>3</th>\n",
       "      <td>0.000219</td>\n",
       "      <td>18279</td>\n",
       "    </tr>\n",
       "    <tr>\n",
       "      <th>4</th>\n",
       "      <td>0.000000</td>\n",
       "      <td>58</td>\n",
       "    </tr>\n",
       "    <tr>\n",
       "      <th>5</th>\n",
       "      <td>0.074468</td>\n",
       "      <td>188</td>\n",
       "    </tr>\n",
       "    <tr>\n",
       "      <th>...</th>\n",
       "      <td>...</td>\n",
       "      <td>...</td>\n",
       "    </tr>\n",
       "    <tr>\n",
       "      <th>486</th>\n",
       "      <td>0.000000</td>\n",
       "      <td>1</td>\n",
       "    </tr>\n",
       "    <tr>\n",
       "      <th>536</th>\n",
       "      <td>0.000000</td>\n",
       "      <td>1</td>\n",
       "    </tr>\n",
       "    <tr>\n",
       "      <th>538</th>\n",
       "      <td>0.000000</td>\n",
       "      <td>1</td>\n",
       "    </tr>\n",
       "    <tr>\n",
       "      <th>548</th>\n",
       "      <td>0.000000</td>\n",
       "      <td>1</td>\n",
       "    </tr>\n",
       "    <tr>\n",
       "      <th>551</th>\n",
       "      <td>0.000000</td>\n",
       "      <td>1</td>\n",
       "    </tr>\n",
       "  </tbody>\n",
       "</table>\n",
       "<p>161 rows × 2 columns</p>\n",
       "</div>"
      ],
      "text/plain": [
       "         mean  count\n",
       "app                 \n",
       "1    0.000000   3135\n",
       "2    0.000000  11737\n",
       "3    0.000219  18279\n",
       "4    0.000000     58\n",
       "5    0.074468    188\n",
       "..        ...    ...\n",
       "486  0.000000      1\n",
       "536  0.000000      1\n",
       "538  0.000000      1\n",
       "548  0.000000      1\n",
       "551  0.000000      1\n",
       "\n",
       "[161 rows x 2 columns]"
      ]
     },
     "execution_count": 16,
     "metadata": {},
     "output_type": "execute_result"
    }
   ],
   "source": [
    "# Get average of 'is_attributed', or 'download rate' grouped with app\n",
    "app_target = train_sample.groupby('app').is_attributed.agg(['mean','count'])\n",
    "\n",
    "\n",
    "\n",
    "# print app_target\n",
    "app_target\n",
    "\n",
    "\n"
   ]
  },
  {
   "cell_type": "markdown",
   "metadata": {
    "id": "-9re9UfeD3Uu"
   },
   "source": [
    "This is clearly non-readable, so let's first get rid of all the apps that are very rare (say which comprise of less than 20% clicks) and plot the rest."
   ]
  },
  {
   "cell_type": "code",
   "execution_count": 17,
   "metadata": {
    "colab": {
     "base_uri": "https://localhost:8080/",
     "height": 205
    },
    "id": "tpClVS04D3Uu",
    "outputId": "12aad1d1-71ed-4579-b8d6-527f0a6414d2",
    "scrolled": true
   },
   "outputs": [
    {
     "data": {
      "text/html": [
       "<div>\n",
       "<style scoped>\n",
       "    .dataframe tbody tr th:only-of-type {\n",
       "        vertical-align: middle;\n",
       "    }\n",
       "\n",
       "    .dataframe tbody tr th {\n",
       "        vertical-align: top;\n",
       "    }\n",
       "\n",
       "    .dataframe thead th {\n",
       "        text-align: right;\n",
       "    }\n",
       "</style>\n",
       "<table border=\"1\" class=\"dataframe\">\n",
       "  <thead>\n",
       "    <tr style=\"text-align: right;\">\n",
       "      <th></th>\n",
       "      <th>app</th>\n",
       "      <th>count</th>\n",
       "      <th>ip</th>\n",
       "      <th>device</th>\n",
       "      <th>os</th>\n",
       "      <th>channel</th>\n",
       "      <th>click_time</th>\n",
       "      <th>is_attributed</th>\n",
       "    </tr>\n",
       "  </thead>\n",
       "  <tbody>\n",
       "    <tr>\n",
       "      <th>0</th>\n",
       "      <td>1</td>\n",
       "      <td>3135</td>\n",
       "      <td>17059</td>\n",
       "      <td>1</td>\n",
       "      <td>17</td>\n",
       "      <td>135</td>\n",
       "      <td>2017-11-09 01:17:58</td>\n",
       "      <td>0</td>\n",
       "    </tr>\n",
       "    <tr>\n",
       "      <th>1</th>\n",
       "      <td>1</td>\n",
       "      <td>3135</td>\n",
       "      <td>52432</td>\n",
       "      <td>1</td>\n",
       "      <td>13</td>\n",
       "      <td>115</td>\n",
       "      <td>2017-11-07 17:22:52</td>\n",
       "      <td>0</td>\n",
       "    </tr>\n",
       "    <tr>\n",
       "      <th>2</th>\n",
       "      <td>1</td>\n",
       "      <td>3135</td>\n",
       "      <td>89242</td>\n",
       "      <td>1</td>\n",
       "      <td>27</td>\n",
       "      <td>124</td>\n",
       "      <td>2017-11-07 09:37:21</td>\n",
       "      <td>0</td>\n",
       "    </tr>\n",
       "    <tr>\n",
       "      <th>3</th>\n",
       "      <td>1</td>\n",
       "      <td>3135</td>\n",
       "      <td>123994</td>\n",
       "      <td>1</td>\n",
       "      <td>19</td>\n",
       "      <td>101</td>\n",
       "      <td>2017-11-09 14:27:57</td>\n",
       "      <td>0</td>\n",
       "    </tr>\n",
       "    <tr>\n",
       "      <th>4</th>\n",
       "      <td>1</td>\n",
       "      <td>3135</td>\n",
       "      <td>34067</td>\n",
       "      <td>1</td>\n",
       "      <td>15</td>\n",
       "      <td>134</td>\n",
       "      <td>2017-11-07 15:06:06</td>\n",
       "      <td>0</td>\n",
       "    </tr>\n",
       "  </tbody>\n",
       "</table>\n",
       "</div>"
      ],
      "text/plain": [
       "   app  count      ip  device  os  channel           click_time  is_attributed\n",
       "0    1   3135   17059       1  17      135  2017-11-09 01:17:58              0\n",
       "1    1   3135   52432       1  13      115  2017-11-07 17:22:52              0\n",
       "2    1   3135   89242       1  27      124  2017-11-07 09:37:21              0\n",
       "3    1   3135  123994       1  19      101  2017-11-09 14:27:57              0\n",
       "4    1   3135   34067       1  15      134  2017-11-07 15:06:06              0"
      ]
     },
     "execution_count": 17,
     "metadata": {},
     "output_type": "execute_result"
    }
   ],
   "source": [
    "# Make a 'count' column based on app size and reset index on count\n",
    "frequent_apps = train_sample.groupby('app').size().reset_index(name='count')\n",
    "\n",
    "\n",
    "\n",
    "# filter count greater than count above 80% quantile range\n",
    "frequent_apps = frequent_apps[frequent_apps['count']>frequent_apps['count'].quantile(0.80)]\n",
    "\n",
    "\n",
    "\n",
    "#inner join frequent_apps with train_sample on 'app'\n",
    "frequent_apps = frequent_apps.merge(train_sample,on='app',how='inner')\n",
    "\n",
    "\n",
    "\n",
    "\n",
    "#print head of frequent_apps\n",
    "frequent_apps.head()\n",
    "\n",
    "\n"
   ]
  },
  {
   "cell_type": "code",
   "execution_count": 18,
   "metadata": {
    "colab": {
     "base_uri": "https://localhost:8080/",
     "height": 606
    },
    "id": "_2xSWynTD3Uv",
    "outputId": "20d4734a-ae9e-48df-dd6b-8737105f90d3"
   },
   "outputs": [
    {
     "data": {
      "image/png": "[encoded data removed]",
      "text/plain": [
       "<Figure size 1000x1000 with 1 Axes>"
      ]
     },
     "metadata": {},
     "output_type": "display_data"
    }
   ],
   "source": [
    "#plot count distribution of 'app' hued with 'is_attributed'\n",
    "plt.figure(figsize=(10,10))\n",
    "sns.countplot(y='app',hue='is_attributed',data=frequent_apps)\n",
    "plt.show()\n",
    "\n"
   ]
  },
  {
   "cell_type": "markdown",
   "metadata": {
    "id": "slP7NO3rD3Uv"
   },
   "source": [
    "You can do lots of other interesting ananlysis with the existing features. For now, let's create some new features which will probably improve the model."
   ]
  },
  {
   "cell_type": "markdown",
   "metadata": {
    "_cell_guid": "40f6f8d9-bd39-4876-bca8-5dcaa14eed04",
    "_uuid": "b76d4314871b8db705dc26b51f4ba07df2cd857b",
    "id": "x8O9K64TD3Uv"
   },
   "source": [
    "## **`Feature Engineering`**\n",
    "\n",
    "<p style='text-align: right;'> 10 points</p>\n"
   ]
  },
  {
   "cell_type": "markdown",
   "metadata": {
    "id": "cMwV3jpuD3Uv"
   },
   "source": [
    "Let's now derive some new features from the existing ones. There are a number of features one can extract from ```click_time``` itself, and by grouping combinations of IP with other features."
   ]
  },
  {
   "cell_type": "markdown",
   "metadata": {
    "_cell_guid": "9963886f-8f33-4ff4-be76-0a28e8d6ba8b",
    "_uuid": "833037301451ca4d6939909f8cfd47314834b7b9",
    "id": "u8txepiAD3Uw"
   },
   "source": [
    "### Datetime Based Features\n"
   ]
  },
  {
   "cell_type": "code",
   "execution_count": 19,
   "metadata": {
    "_cell_guid": "fd611758-c8ec-4401-9875-1eb760ccddb7",
    "_uuid": "a38688f6b07581964699b4a8c41100844f21090c",
    "id": "4IdMw79vD3Uw"
   },
   "outputs": [],
   "source": [
    "# Create a function which takes in a df, adds date/time based columns to it and returns the modified df\n",
    "\n",
    "def timeFeatures(df):\n",
    "    # Creating datetime variables using the click_time column \n",
    "    df['datetime'] = pd.to_datetime(df['click_time'])\n",
    "    \n",
    "    \n",
    "    #Creating day_of_week variables extracting week from the datetime column \n",
    "\n",
    "    df['day_of_week'] = df['datetime'].dt.dayofweek\n",
    "    \n",
    "    \n",
    "     #Creating day_of_year variables extracting day from the datetime column \n",
    "\n",
    "    df[\"day_of_year\"] = df['datetime'].dt.dayofyear\n",
    "    \n",
    "    \n",
    "    #Creating month variables extracting month from the datetime column \n",
    "\n",
    "    df[\"month\"] = df['datetime'].dt.month\n",
    "    \n",
    "    \n",
    "    #Creating hour variables extracting hour from the datetime column \n",
    "\n",
    "    df[\"hour\"] = df['datetime'].dt.hour\n",
    "    \n",
    "    \n",
    "    #return df\n",
    "    return df\n",
    "    "
   ]
  },
  {
   "cell_type": "code",
   "execution_count": 20,
   "metadata": {
    "_cell_guid": "237df241-844b-4003-b906-298432b8d868",
    "_uuid": "694177530d20a1e33801d6053a88d99f28cfd88c",
    "colab": {
     "base_uri": "https://localhost:8080/",
     "height": 205
    },
    "id": "k4H_zncvD3Uw",
    "outputId": "99cd1827-a138-46cc-8b76-f15de1cc49aa",
    "scrolled": true
   },
   "outputs": [
    {
     "data": {
      "text/html": [
       "<div>\n",
       "<style scoped>\n",
       "    .dataframe tbody tr th:only-of-type {\n",
       "        vertical-align: middle;\n",
       "    }\n",
       "\n",
       "    .dataframe tbody tr th {\n",
       "        vertical-align: top;\n",
       "    }\n",
       "\n",
       "    .dataframe thead th {\n",
       "        text-align: right;\n",
       "    }\n",
       "</style>\n",
       "<table border=\"1\" class=\"dataframe\">\n",
       "  <thead>\n",
       "    <tr style=\"text-align: right;\">\n",
       "      <th></th>\n",
       "      <th>ip</th>\n",
       "      <th>app</th>\n",
       "      <th>device</th>\n",
       "      <th>os</th>\n",
       "      <th>channel</th>\n",
       "      <th>is_attributed</th>\n",
       "      <th>day_of_week</th>\n",
       "      <th>day_of_year</th>\n",
       "      <th>month</th>\n",
       "      <th>hour</th>\n",
       "    </tr>\n",
       "  </thead>\n",
       "  <tbody>\n",
       "    <tr>\n",
       "      <th>0</th>\n",
       "      <td>87540</td>\n",
       "      <td>12</td>\n",
       "      <td>1</td>\n",
       "      <td>13</td>\n",
       "      <td>497</td>\n",
       "      <td>0</td>\n",
       "      <td>1</td>\n",
       "      <td>311</td>\n",
       "      <td>11</td>\n",
       "      <td>9</td>\n",
       "    </tr>\n",
       "    <tr>\n",
       "      <th>1</th>\n",
       "      <td>105560</td>\n",
       "      <td>25</td>\n",
       "      <td>1</td>\n",
       "      <td>17</td>\n",
       "      <td>259</td>\n",
       "      <td>0</td>\n",
       "      <td>1</td>\n",
       "      <td>311</td>\n",
       "      <td>11</td>\n",
       "      <td>13</td>\n",
       "    </tr>\n",
       "    <tr>\n",
       "      <th>2</th>\n",
       "      <td>101424</td>\n",
       "      <td>12</td>\n",
       "      <td>1</td>\n",
       "      <td>19</td>\n",
       "      <td>212</td>\n",
       "      <td>0</td>\n",
       "      <td>1</td>\n",
       "      <td>311</td>\n",
       "      <td>11</td>\n",
       "      <td>18</td>\n",
       "    </tr>\n",
       "    <tr>\n",
       "      <th>3</th>\n",
       "      <td>94584</td>\n",
       "      <td>13</td>\n",
       "      <td>1</td>\n",
       "      <td>13</td>\n",
       "      <td>477</td>\n",
       "      <td>0</td>\n",
       "      <td>1</td>\n",
       "      <td>311</td>\n",
       "      <td>11</td>\n",
       "      <td>4</td>\n",
       "    </tr>\n",
       "    <tr>\n",
       "      <th>4</th>\n",
       "      <td>68413</td>\n",
       "      <td>12</td>\n",
       "      <td>1</td>\n",
       "      <td>1</td>\n",
       "      <td>178</td>\n",
       "      <td>0</td>\n",
       "      <td>3</td>\n",
       "      <td>313</td>\n",
       "      <td>11</td>\n",
       "      <td>9</td>\n",
       "    </tr>\n",
       "  </tbody>\n",
       "</table>\n",
       "</div>"
      ],
      "text/plain": [
       "       ip  app  device  os  channel  is_attributed  day_of_week  day_of_year  \\\n",
       "0   87540   12       1  13      497              0            1          311   \n",
       "1  105560   25       1  17      259              0            1          311   \n",
       "2  101424   12       1  19      212              0            1          311   \n",
       "3   94584   13       1  13      477              0            1          311   \n",
       "4   68413   12       1   1      178              0            3          313   \n",
       "\n",
       "   month  hour  \n",
       "0     11     9  \n",
       "1     11    13  \n",
       "2     11    18  \n",
       "3     11     4  \n",
       "4     11     9  "
      ]
     },
     "execution_count": 20,
     "metadata": {},
     "output_type": "execute_result"
    }
   ],
   "source": [
    "# creating new variables using above function with df as train_sample \n",
    "train_sample =timeFeatures(train_sample)\n",
    "\n",
    "# dropping the click_time and datetime variables from train_sample\n",
    "train_sample.drop(['click_time','datetime'],axis=1,inplace=True)\n",
    "\n",
    "\n",
    "\n",
    "#print train_sample head\n",
    "train_sample.head()\n",
    "\n",
    "\n"
   ]
  },
  {
   "cell_type": "code",
   "execution_count": 21,
   "metadata": {
    "_cell_guid": "4cfe36bc-b218-48ce-ac97-9b9da3758d2f",
    "_uuid": "0eead49461cc6e85bf733b2682c95b098c6b4762",
    "colab": {
     "base_uri": "https://localhost:8080/"
    },
    "id": "ii_XjPN6D3Uw",
    "outputId": "1b1f3623-5b8b-45b4-b265-626eef38ba49"
   },
   "outputs": [
    {
     "data": {
      "text/plain": [
       "ip               int64\n",
       "app              int64\n",
       "device           int64\n",
       "os               int64\n",
       "channel          int64\n",
       "is_attributed    int64\n",
       "day_of_week      int32\n",
       "day_of_year      int32\n",
       "month            int32\n",
       "hour             int32\n",
       "dtype: object"
      ]
     },
     "execution_count": 21,
     "metadata": {},
     "output_type": "execute_result"
    }
   ],
   "source": [
    "# datatypes  of all variables in train_sample\n",
    "train_sample.dtypes\n",
    "\n",
    "\n"
   ]
  },
  {
   "cell_type": "markdown",
   "metadata": {
    "id": "X7T47X_5D3Ux"
   },
   "source": [
    "note that by default the new datetime variables are int64\n"
   ]
  },
  {
   "cell_type": "code",
   "execution_count": 22,
   "metadata": {
    "_cell_guid": "2c94cc5a-7f24-4321-8b64-75835eb769a1",
    "_uuid": "72fab86bd46e38c8707d48a88d4cfd9122768e5b",
    "colab": {
     "base_uri": "https://localhost:8080/"
    },
    "id": "pZlihUcqD3Ux",
    "outputId": "ef13ddd9-5c99-42da-c020-61643c873f99"
   },
   "outputs": [
    {
     "name": "stdout",
     "output_type": "stream",
     "text": [
      "Training dataset uses 6.103641510009766 MB\n"
     ]
    }
   ],
   "source": [
    "# check memory/space used by training data\n",
    "\n",
    "print(\"Training dataset uses\",train_sample.memory_usage().sum()/1024**2,\"MB\")\n",
    "\n",
    "\n"
   ]
  },
  {
   "cell_type": "markdown",
   "metadata": {
    "id": "b0pfN189D3Ux"
   },
   "source": [
    "Lets convert the variables back to lower dtype again\n"
   ]
  },
  {
   "cell_type": "code",
   "execution_count": 23,
   "metadata": {
    "_cell_guid": "630048e3-b363-4eb7-8620-fc7c0aed8794",
    "_uuid": "f358d55b47fdd1f3458fc640a37b83f93abd01d9",
    "id": "pLGQLqTzD3Ux"
   },
   "outputs": [],
   "source": [
    "# get all int variables in a list\n",
    "int_vars =['app', 'device', 'os', 'channel', 'day_of_week',\n",
    "       'day_of_year', 'month', 'hour']\n",
    "\n",
    "# convert all above variables into uint16 type\n",
    "train_sample[int_vars]=train_sample[int_vars].astype('uint16')\n",
    "\n",
    "train_sample['ip']=train_sample['ip'].astype('uint16')\n",
    "train_sample['is_attributed']=train_sample['is_attributed'].astype('uint8')"
   ]
  },
  {
   "cell_type": "code",
   "execution_count": 24,
   "metadata": {
    "_cell_guid": "bfb0e108-be87-4f1f-8690-b6a0dd253d5f",
    "_uuid": "2ad5b5082c465d89a3749ef500121a0068fc7abe",
    "colab": {
     "base_uri": "https://localhost:8080/"
    },
    "id": "q91YeRMND3Ux",
    "outputId": "35d2c615-0588-4ab5-85ed-ca48317ff5aa",
    "scrolled": true
   },
   "outputs": [
    {
     "data": {
      "text/plain": [
       "ip               uint16\n",
       "app              uint16\n",
       "device           uint16\n",
       "os               uint16\n",
       "channel          uint16\n",
       "is_attributed     uint8\n",
       "day_of_week      uint16\n",
       "day_of_year      uint16\n",
       "month            uint16\n",
       "hour             uint16\n",
       "dtype: object"
      ]
     },
     "execution_count": 24,
     "metadata": {},
     "output_type": "execute_result"
    }
   ],
   "source": [
    "#print datatype of all variables in train_sample\n",
    "\n",
    "train_sample.dtypes\n",
    "\n"
   ]
  },
  {
   "cell_type": "code",
   "execution_count": 25,
   "metadata": {
    "_cell_guid": "097f83a0-d7a0-486e-8315-33e4d351349e",
    "_uuid": "7d31b2a2d63b9a7637489768da96c6833079e19e",
    "colab": {
     "base_uri": "https://localhost:8080/"
    },
    "id": "tH3IujidD3Uy",
    "outputId": "14fd62db-22b5-4972-ec6b-25d3692e5359",
    "scrolled": true
   },
   "outputs": [
    {
     "name": "stdout",
     "output_type": "stream",
     "text": [
      "Training dataset uses 1.8121070861816406 MB\n"
     ]
    }
   ],
   "source": [
    "# space used by training data\n",
    "print(\"Training dataset uses\",train_sample.memory_usage().sum()/1024**2,\"MB\")\n",
    "\n",
    "\n",
    "\n"
   ]
  },
  {
   "cell_type": "markdown",
   "metadata": {
    "id": "YhU-mXtLD3Uy"
   },
   "source": [
    "Hope you undertood why we converted variables into uint16 datatype\n",
    "\n",
    "Yes, you are right:) The primitive data types prefixed with \"u\" are unsigned versions with the same bit sizes. Effectively, this means they cannot store negative numbers, but on the other hand they can store positive numbers twice as large as their signed counterparts. \n",
    "\n",
    "This is why it saves memory usage."
   ]
  },
  {
   "cell_type": "markdown",
   "metadata": {
    "_cell_guid": "f1a41e27-1c82-42a1-b06f-2b2d384cecee",
    "_uuid": "1a82f07ac45c9a68893d104349971344ef7aa32b",
    "id": "nc9Y8lyKD3Uy"
   },
   "source": [
    "### **`IP Grouping Based Features`**"
   ]
  },
  {
   "cell_type": "markdown",
   "metadata": {
    "_cell_guid": "1cbfe97f-6915-4e84-b63b-35c3b3933f68",
    "_uuid": "0af86c9bec412b948482bcec80c7df233f1b7c39",
    "id": "rYPRHb3ID3Uy"
   },
   "source": [
    "Let's now create some important features by grouping IP addresses with features such as os, channel, hour, day etc. Also, count of each IP address will also be a feature.\n",
    "\n",
    "Note that though we are deriving new features by grouping IP addresses, using IP adress itself as a features is not a good idea. This is because (in the test data) if a new IP address is seen, the model will see a new 'category' and will not be able to make predictions (IP is a categorical variable, it has just been encoded with numbers).\n",
    "\n",
    "`number of clicks by count of IP address\n",
    "Note that we are explicitly asking pandas to re-encode the aggregated features as 'int16' to save memory`"
   ]
  },
  {
   "cell_type": "code",
   "execution_count": 26,
   "metadata": {
    "_cell_guid": "b0cd1ca3-e3ef-414b-b9cc-add42aebf813",
    "_uuid": "59690cdbb2b67074d81b9be15375e6ffb0b8f85e",
    "colab": {
     "base_uri": "https://localhost:8080/",
     "height": 205
    },
    "id": "PxvwoC5yD3Uy",
    "outputId": "1d8cc740-03cd-4914-c24a-ded639f5f633"
   },
   "outputs": [
    {
     "data": {
      "text/html": [
       "<div>\n",
       "<style scoped>\n",
       "    .dataframe tbody tr th:only-of-type {\n",
       "        vertical-align: middle;\n",
       "    }\n",
       "\n",
       "    .dataframe tbody tr th {\n",
       "        vertical-align: top;\n",
       "    }\n",
       "\n",
       "    .dataframe thead th {\n",
       "        text-align: right;\n",
       "    }\n",
       "</style>\n",
       "<table border=\"1\" class=\"dataframe\">\n",
       "  <thead>\n",
       "    <tr style=\"text-align: right;\">\n",
       "      <th></th>\n",
       "      <th>ip</th>\n",
       "      <th>ip_count</th>\n",
       "    </tr>\n",
       "  </thead>\n",
       "  <tbody>\n",
       "    <tr>\n",
       "      <th>0</th>\n",
       "      <td>8</td>\n",
       "      <td>1</td>\n",
       "    </tr>\n",
       "    <tr>\n",
       "      <th>1</th>\n",
       "      <td>9</td>\n",
       "      <td>1</td>\n",
       "    </tr>\n",
       "    <tr>\n",
       "      <th>2</th>\n",
       "      <td>10</td>\n",
       "      <td>3</td>\n",
       "    </tr>\n",
       "    <tr>\n",
       "      <th>3</th>\n",
       "      <td>14</td>\n",
       "      <td>1</td>\n",
       "    </tr>\n",
       "    <tr>\n",
       "      <th>4</th>\n",
       "      <td>16</td>\n",
       "      <td>6</td>\n",
       "    </tr>\n",
       "  </tbody>\n",
       "</table>\n",
       "</div>"
      ],
      "text/plain": [
       "   ip  ip_count\n",
       "0   8         1\n",
       "1   9         1\n",
       "2  10         3\n",
       "3  14         1\n",
       "4  16         6"
      ]
     },
     "execution_count": 26,
     "metadata": {},
     "output_type": "execute_result"
    }
   ],
   "source": [
    "# Create a column 'ip_count' using number of clicks by count of IP address \n",
    "ip_count = train_sample.groupby('ip').size().reset_index(name='ip_count').astype('int')\n",
    "\n",
    "\n",
    "#print head of ip_count \n",
    "ip_count.head()\n",
    "\n"
   ]
  },
  {
   "cell_type": "markdown",
   "metadata": {
    "id": "7BxrNr9DD3Uz"
   },
   "source": [
    "We can now merge this dataframe with the original training df. Similarly, we can create combinations of various features such as ip_day_hour (count of ip-day-hour combinations), ip_hour_channel, ip_hour_app, etc. \n",
    "\n",
    "The following function takes in a dataframe and creates these features."
   ]
  },
  {
   "cell_type": "code",
   "execution_count": 27,
   "metadata": {
    "id": "_Ui3nAEPD3Uz"
   },
   "outputs": [],
   "source": [
    "'''creates groupings of IP addresses with other features and appends the new features to the df'''\n",
    "\n",
    "def grouped_features(df):\n",
    "    # ip_count\n",
    "    ip_count = df.groupby('ip').size().reset_index(name='ip_count').astype('uint')\n",
    "\n",
    "    \n",
    "    # ip_day_hour\n",
    "    ip_day_hour =df.groupby(['ip','day_of_week','hour']).size().reset_index(name='ip_day_hour').astype('uint16')\n",
    "\n",
    "#   ip_hour_channel\n",
    "    ip_hour_channel = df[['ip','hour','channel']].groupby(['ip','hour','channel']).size().reset_index(name='ip_hour_channel').astype('uint16')\n",
    "\n",
    "    \n",
    "#   ip_hour_os\n",
    "    ip_hour_os = df.groupby(['ip','hour','os']).channel.count().reset_index(name='ip_hour_os').astype('uint16')\n",
    "\n",
    "    \n",
    "#   ip_hour_app\n",
    "    ip_hour_app =df.groupby(['ip','hour','app']).channel.count().reset_index(name='ip_hour_app').astype('uint16')\n",
    "\n",
    "    \n",
    "#   ip_hour_device\n",
    "    ip_hour_device = df.groupby(['ip','hour','device']).channel.count().reset_index(name='ip_hour_device').astype('uint16')\n",
    "\n",
    "    \n",
    "    \n",
    "    '''merge the new aggregated features with the df'''\n",
    "    \n",
    "#   left join ip_count to df on ip\n",
    "    df =pd.merge(df,ip_count,on='ip',how='left')\n",
    "    \n",
    "    \n",
    "#   delete ip_count\n",
    "    del ip_count\n",
    "    \n",
    "    \n",
    "    #left join ip_day_hour to df on ip, day_of_week and hour\n",
    "\n",
    "    df =pd.merge(df,ip_day_hour,on=['ip','day_of_week','hour'],how='left')\n",
    "    \n",
    "    \n",
    "    #delete ip_day_hour\n",
    "\n",
    "    \n",
    "    del ip_day_hour\n",
    "    \n",
    "#   left join ip_hour_channel to df on ip, hour, channel\n",
    "    df =pd.merge(df,ip_hour_channel,on=['ip','hour','channel'],how='left')\n",
    "    del ip_hour_channel\n",
    "\n",
    "    \n",
    "    \n",
    "    #left join ip_hour_os to df on ip, hour and os\n",
    "    df =pd.merge(df,ip_hour_os,on=['ip','hour','os'],how='left')\n",
    "    del ip_hour_os\n",
    "\n",
    "    \n",
    "    \n",
    "    #    left join ip_hour_app to df on ip, hour and app\n",
    "    df =pd.merge(df,ip_hour_app,on=['ip','hour','app'],how='left')\n",
    "    del ip_hour_app\n",
    "    #left join ip_hour_device to df on ip , hour and device\n",
    "    df =pd.merge(df,ip_hour_device,on=['ip','hour','device'],how='left')\n",
    "    del ip_hour_device\n",
    "#  return \n",
    "    return df\n",
    "    "
   ]
  },
  {
   "cell_type": "code",
   "execution_count": 28,
   "metadata": {
    "id": "K4zweDWED3Uz"
   },
   "outputs": [],
   "source": [
    "#Use above grouped_features() function with train_sample as parameter to create your new train_sample data \n",
    "train_sample = grouped_features(train_sample)\n",
    "\n"
   ]
  },
  {
   "cell_type": "code",
   "execution_count": 29,
   "metadata": {
    "_cell_guid": "dcb86f85-6418-40dd-8e4a-670f1df0b3fc",
    "_uuid": "3fffc4f935664d861cc0556f78f654c0c7121dac",
    "colab": {
     "base_uri": "https://localhost:8080/",
     "height": 225
    },
    "id": "kiGA5NwLD3U0",
    "outputId": "7c8cc5ca-d273-4feb-ed85-776a1c3e6ffb",
    "scrolled": true
   },
   "outputs": [
    {
     "data": {
      "text/html": [
       "<div>\n",
       "<style scoped>\n",
       "    .dataframe tbody tr th:only-of-type {\n",
       "        vertical-align: middle;\n",
       "    }\n",
       "\n",
       "    .dataframe tbody tr th {\n",
       "        vertical-align: top;\n",
       "    }\n",
       "\n",
       "    .dataframe thead th {\n",
       "        text-align: right;\n",
       "    }\n",
       "</style>\n",
       "<table border=\"1\" class=\"dataframe\">\n",
       "  <thead>\n",
       "    <tr style=\"text-align: right;\">\n",
       "      <th></th>\n",
       "      <th>ip</th>\n",
       "      <th>app</th>\n",
       "      <th>device</th>\n",
       "      <th>os</th>\n",
       "      <th>channel</th>\n",
       "      <th>is_attributed</th>\n",
       "      <th>day_of_week</th>\n",
       "      <th>day_of_year</th>\n",
       "      <th>month</th>\n",
       "      <th>hour</th>\n",
       "      <th>ip_count</th>\n",
       "      <th>ip_day_hour</th>\n",
       "      <th>ip_hour_channel</th>\n",
       "      <th>ip_hour_os</th>\n",
       "      <th>ip_hour_app</th>\n",
       "      <th>ip_hour_device</th>\n",
       "    </tr>\n",
       "  </thead>\n",
       "  <tbody>\n",
       "    <tr>\n",
       "      <th>0</th>\n",
       "      <td>22004</td>\n",
       "      <td>12</td>\n",
       "      <td>1</td>\n",
       "      <td>13</td>\n",
       "      <td>497</td>\n",
       "      <td>0</td>\n",
       "      <td>1</td>\n",
       "      <td>311</td>\n",
       "      <td>11</td>\n",
       "      <td>9</td>\n",
       "      <td>8</td>\n",
       "      <td>1</td>\n",
       "      <td>1</td>\n",
       "      <td>1</td>\n",
       "      <td>1</td>\n",
       "      <td>1</td>\n",
       "    </tr>\n",
       "    <tr>\n",
       "      <th>1</th>\n",
       "      <td>40024</td>\n",
       "      <td>25</td>\n",
       "      <td>1</td>\n",
       "      <td>17</td>\n",
       "      <td>259</td>\n",
       "      <td>0</td>\n",
       "      <td>1</td>\n",
       "      <td>311</td>\n",
       "      <td>11</td>\n",
       "      <td>13</td>\n",
       "      <td>149</td>\n",
       "      <td>4</td>\n",
       "      <td>1</td>\n",
       "      <td>1</td>\n",
       "      <td>1</td>\n",
       "      <td>8</td>\n",
       "    </tr>\n",
       "    <tr>\n",
       "      <th>2</th>\n",
       "      <td>35888</td>\n",
       "      <td>12</td>\n",
       "      <td>1</td>\n",
       "      <td>19</td>\n",
       "      <td>212</td>\n",
       "      <td>0</td>\n",
       "      <td>1</td>\n",
       "      <td>311</td>\n",
       "      <td>11</td>\n",
       "      <td>18</td>\n",
       "      <td>2</td>\n",
       "      <td>1</td>\n",
       "      <td>1</td>\n",
       "      <td>1</td>\n",
       "      <td>1</td>\n",
       "      <td>1</td>\n",
       "    </tr>\n",
       "    <tr>\n",
       "      <th>3</th>\n",
       "      <td>29048</td>\n",
       "      <td>13</td>\n",
       "      <td>1</td>\n",
       "      <td>13</td>\n",
       "      <td>477</td>\n",
       "      <td>0</td>\n",
       "      <td>1</td>\n",
       "      <td>311</td>\n",
       "      <td>11</td>\n",
       "      <td>4</td>\n",
       "      <td>3</td>\n",
       "      <td>1</td>\n",
       "      <td>1</td>\n",
       "      <td>1</td>\n",
       "      <td>1</td>\n",
       "      <td>1</td>\n",
       "    </tr>\n",
       "    <tr>\n",
       "      <th>4</th>\n",
       "      <td>2877</td>\n",
       "      <td>12</td>\n",
       "      <td>1</td>\n",
       "      <td>1</td>\n",
       "      <td>178</td>\n",
       "      <td>0</td>\n",
       "      <td>3</td>\n",
       "      <td>313</td>\n",
       "      <td>11</td>\n",
       "      <td>9</td>\n",
       "      <td>4</td>\n",
       "      <td>1</td>\n",
       "      <td>1</td>\n",
       "      <td>1</td>\n",
       "      <td>1</td>\n",
       "      <td>1</td>\n",
       "    </tr>\n",
       "  </tbody>\n",
       "</table>\n",
       "</div>"
      ],
      "text/plain": [
       "      ip  app  device  os  channel  is_attributed  day_of_week  day_of_year  \\\n",
       "0  22004   12       1  13      497              0            1          311   \n",
       "1  40024   25       1  17      259              0            1          311   \n",
       "2  35888   12       1  19      212              0            1          311   \n",
       "3  29048   13       1  13      477              0            1          311   \n",
       "4   2877   12       1   1      178              0            3          313   \n",
       "\n",
       "   month  hour  ip_count  ip_day_hour  ip_hour_channel  ip_hour_os  \\\n",
       "0     11     9         8            1                1           1   \n",
       "1     11    13       149            4                1           1   \n",
       "2     11    18         2            1                1           1   \n",
       "3     11     4         3            1                1           1   \n",
       "4     11     9         4            1                1           1   \n",
       "\n",
       "   ip_hour_app  ip_hour_device  \n",
       "0            1               1  \n",
       "1            1               8  \n",
       "2            1               1  \n",
       "3            1               1  \n",
       "4            1               1  "
      ]
     },
     "execution_count": 29,
     "metadata": {},
     "output_type": "execute_result"
    }
   ],
   "source": [
    "#print head of train_sample\n",
    "train_sample.head()\n",
    "\n"
   ]
  },
  {
   "cell_type": "code",
   "execution_count": 30,
   "metadata": {
    "_cell_guid": "e01b730e-a9a3-4899-a867-3d3da43d1670",
    "_uuid": "e819b6938609e7a2c96e3bea97d83afeea10457d",
    "colab": {
     "base_uri": "https://localhost:8080/"
    },
    "id": "aHQ_6EUbD3U0",
    "outputId": "f1634a67-cedc-4573-c822-08d5fc1ea411",
    "scrolled": true
   },
   "outputs": [
    {
     "name": "stdout",
     "output_type": "stream",
     "text": [
      "Training dataset uses 3.5287208557128906 MB\n"
     ]
    }
   ],
   "source": [
    "#check space usage of train_sample again\n",
    "print(\"Training dataset uses\",train_sample.memory_usage().sum()/1024**2,\"MB\")\n",
    "\n",
    "\n",
    "\n"
   ]
  },
  {
   "cell_type": "code",
   "execution_count": 31,
   "metadata": {
    "_cell_guid": "e1c25766-1a45-416e-bcd0-865aa8c83e0f",
    "_uuid": "70d49f6f951fc870e404dc11f5643b39a5fe2a36",
    "colab": {
     "base_uri": "https://localhost:8080/"
    },
    "id": "BkjGM0yuD3U2",
    "outputId": "9e3cf1f7-1f8e-441c-c542-a99183d0c43e",
    "scrolled": true
   },
   "outputs": [
    {
     "data": {
      "text/plain": [
       "8659"
      ]
     },
     "execution_count": 31,
     "metadata": {},
     "output_type": "execute_result"
    }
   ],
   "source": [
    "# garbage collect (unused) object using gc.collect()\n",
    "gc.collect()\n",
    "\n"
   ]
  },
  {
   "cell_type": "markdown",
   "metadata": {
    "id": "w6ffnEGQD3U3"
   },
   "source": [
    "## **`Modelling`**\n",
    "\n",
    "<p style='text-align: right;'> 75 points</p>\n",
    "\n",
    "\n",
    "Let's now build models to predict the variable ```is_attributed``` (downloaded). We'll try the several variants of boosting (adaboost, gradient boosting and XGBoost, LightGBM and Catboost), tune the hyperparameters in each model and choose the one which gives the best performance.\n",
    "\n",
    "In the original Kaggle competition, the metric for model evaluation is **area under the ROC curve**.\n"
   ]
  },
  {
   "cell_type": "code",
   "execution_count": 32,
   "metadata": {
    "_cell_guid": "2b85ad1e-932b-4570-99ad-df89d8e09eee",
    "_uuid": "fb851915b9cd57bb5fd85a0d08b317c695db015b",
    "colab": {
     "base_uri": "https://localhost:8080/"
    },
    "id": "SnK-PVG8D3U3",
    "outputId": "97a9fc11-09d0-4b47-f322-3845bac6fb40"
   },
   "outputs": [
    {
     "name": "stdout",
     "output_type": "stream",
     "text": [
      "(80000, 15)\n"
     ]
    }
   ],
   "source": [
    "# create X and y train\n",
    "X = train_sample.drop('is_attributed',axis=1)\n",
    "\n",
    "y = train_sample['is_attributed']\n",
    "\n",
    "\n",
    "\n",
    "# split data into train and test/validation sets with test_size as 20% and random state as 101\n",
    "X_train, X_test, y_train, y_test = train_test_split(X,y,test_size=0.2,random_state=101)\n",
    "\n",
    "\n",
    "#print shape of X_train, y_train, X_test and y_test\n",
    "print(X_train.shape)\n",
    "\n",
    "\n",
    "\n",
    "\n"
   ]
  },
  {
   "cell_type": "code",
   "execution_count": 33,
   "metadata": {
    "_cell_guid": "d0e93c90-38df-486b-b7e5-52c82b21d821",
    "_uuid": "116f681214fa50bf5710df325d37203a10d66df2",
    "colab": {
     "base_uri": "https://localhost:8080/"
    },
    "id": "t5n0S7z7D3U3",
    "outputId": "c7d26a93-b660-458c-af3a-c4e6c1ffd997",
    "scrolled": true
   },
   "outputs": [
    {
     "name": "stdout",
     "output_type": "stream",
     "text": [
      "0.002275\n",
      "0.00225\n"
     ]
    }
   ],
   "source": [
    "# check the average download rates in train \n",
    "print(y_train.mean())\n",
    "\n",
    "\n",
    "\n",
    "\n",
    "\n",
    "# check the average download rates in test data, and check they should be comparable\n",
    "print(y_test.mean())\n",
    "\n",
    "\n",
    "\n",
    "\n"
   ]
  },
  {
   "cell_type": "markdown",
   "metadata": {
    "id": "ZIkG7IwtD3U4"
   },
   "source": [
    "### **`1.  AdaBoost`**\n",
    "\n",
    "Reference doc: https://scikit-learn.org/stable/modules/generated/sklearn.ensemble.AdaBoostClassifier.html\n",
    "\n",
    "Reference video below:\n",
    "\n",
    "AdaBoost algorithm, short for Adaptive Boosting, is a Boosting technique that is used as an Ensemble Method in Machine Learning. It is called Adaptive Boosting as the weights are re-assigned to each instance, with higher weights to incorrectly classified instances. Boosting is used to reduce bias as well as the variance for supervised learning. It works on the principle where learners are grown sequentially. Except for the first, each subsequent learner is grown from previously grown learners. In simple words, weak learners are converted into strong ones. Adaboost algorithm also works on the same principle as boosting, but there is a slight difference in working. "
   ]
  },
  {
   "cell_type": "markdown",
   "metadata": {
    "id": "1_tRnP-jtLM5"
   },
   "source": [
    "# **`WATCH ALL VIDEOS IN THE PORTAL`**\n",
    "\n",
    "## **`Watch Video 1 : Boosting Intuition`**"
   ]
  },
  {
   "cell_type": "markdown",
   "metadata": {
    "id": "fR3Sm6RItbAm"
   },
   "source": [
    "## **`Watch Video 2 : Adaptive Boosting`**"
   ]
  },
  {
   "cell_type": "code",
   "execution_count": 34,
   "metadata": {
    "id": "dCSn9O8AD3U4"
   },
   "outputs": [],
   "source": [
    "# Instantiate DecisionTreeClassifier with max_depth as 2 and random state as 1\n",
    "tree = DecisionTreeClassifier(max_depth=2,random_state=1)\n",
    "\n",
    "\n",
    "'''adaboost with the tree as base estimator, max 600 decision trees of depth=2, \n",
    "learning_rate/shrinkage=1.5 and algorithm as \"SAMME\" and random_state as 1'''\n",
    "\n",
    "adaboost_model_1 = AdaBoostClassifier(base_estimator=tree,\n",
    "                                     n_estimators=600,\n",
    "                                     learning_rate=1.5,\n",
    "                                     algorithm=\"SAMME\",\n",
    "                                     random_state=1)\n",
    "\n",
    "\n",
    "\n",
    "\n"
   ]
  },
  {
   "cell_type": "code",
   "execution_count": 35,
   "metadata": {
    "colab": {
     "base_uri": "https://localhost:8080/"
    },
    "id": "oi2t_42lD3U4",
    "outputId": "e4f22f08-cda5-4830-c875-c9f6d9cffbe5"
   },
   "outputs": [
    {
     "data": {
      "text/html": [
       "<style>#sk-container-id-1 {color: black;}#sk-container-id-1 pre{padding: 0;}#sk-container-id-1 div.sk-toggleable {background-color: white;}#sk-container-id-1 label.sk-toggleable__label {cursor: pointer;display: block;width: 100%;margin-bottom: 0;padding: 0.3em;box-sizing: border-box;text-align: center;}#sk-container-id-1 label.sk-toggleable__label-arrow:before {content: \"▸\";float: left;margin-right: 0.25em;color: #696969;}#sk-container-id-1 label.sk-toggleable__label-arrow:hover:before {color: black;}#sk-container-id-1 div.sk-estimator:hover label.sk-toggleable__label-arrow:before {color: black;}#sk-container-id-1 div.sk-toggleable__content {max-height: 0;max-width: 0;overflow: hidden;text-align: left;background-color: #f0f8ff;}#sk-container-id-1 div.sk-toggleable__content pre {margin: 0.2em;color: black;border-radius: 0.25em;background-color: #f0f8ff;}#sk-container-id-1 input.sk-toggleable__control:checked~div.sk-toggleable__content {max-height: 200px;max-width: 100%;overflow: auto;}#sk-container-id-1 input.sk-toggleable__control:checked~label.sk-toggleable__label-arrow:before {content: \"▾\";}#sk-container-id-1 div.sk-estimator input.sk-toggleable__control:checked~label.sk-toggleable__label {background-color: #d4ebff;}#sk-container-id-1 div.sk-label input.sk-toggleable__control:checked~label.sk-toggleable__label {background-color: #d4ebff;}#sk-container-id-1 input.sk-hidden--visually {border: 0;clip: rect(1px 1px 1px 1px);clip: rect(1px, 1px, 1px, 1px);height: 1px;margin: -1px;overflow: hidden;padding: 0;position: absolute;width: 1px;}#sk-container-id-1 div.sk-estimator {font-family: monospace;background-color: #f0f8ff;border: 1px dotted black;border-radius: 0.25em;box-sizing: border-box;margin-bottom: 0.5em;}#sk-container-id-1 div.sk-estimator:hover {background-color: #d4ebff;}#sk-container-id-1 div.sk-parallel-item::after {content: \"\";width: 100%;border-bottom: 1px solid gray;flex-grow: 1;}#sk-container-id-1 div.sk-label:hover label.sk-toggleable__label {background-color: #d4ebff;}#sk-container-id-1 div.sk-serial::before {content: \"\";position: absolute;border-left: 1px solid gray;box-sizing: border-box;top: 0;bottom: 0;left: 50%;z-index: 0;}#sk-container-id-1 div.sk-serial {display: flex;flex-direction: column;align-items: center;background-color: white;padding-right: 0.2em;padding-left: 0.2em;position: relative;}#sk-container-id-1 div.sk-item {position: relative;z-index: 1;}#sk-container-id-1 div.sk-parallel {display: flex;align-items: stretch;justify-content: center;background-color: white;position: relative;}#sk-container-id-1 div.sk-item::before, #sk-container-id-1 div.sk-parallel-item::before {content: \"\";position: absolute;border-left: 1px solid gray;box-sizing: border-box;top: 0;bottom: 0;left: 50%;z-index: -1;}#sk-container-id-1 div.sk-parallel-item {display: flex;flex-direction: column;z-index: 1;position: relative;background-color: white;}#sk-container-id-1 div.sk-parallel-item:first-child::after {align-self: flex-end;width: 50%;}#sk-container-id-1 div.sk-parallel-item:last-child::after {align-self: flex-start;width: 50%;}#sk-container-id-1 div.sk-parallel-item:only-child::after {width: 0;}#sk-container-id-1 div.sk-dashed-wrapped {border: 1px dashed gray;margin: 0 0.4em 0.5em 0.4em;box-sizing: border-box;padding-bottom: 0.4em;background-color: white;}#sk-container-id-1 div.sk-label label {font-family: monospace;font-weight: bold;display: inline-block;line-height: 1.2em;}#sk-container-id-1 div.sk-label-container {text-align: center;}#sk-container-id-1 div.sk-container {/* jupyter's `normalize.less` sets `[hidden] { display: none; }` but bootstrap.min.css set `[hidden] { display: none !important; }` so we also need the `!important` here to be able to override the default hidden behavior on the sphinx rendered scikit-learn.org. See: https://github.com/scikit-learn/scikit-learn/issues/21755 */display: inline-block !important;position: relative;}#sk-container-id-1 div.sk-text-repr-fallback {display: none;}</style><div id=\"sk-container-id-1\" class=\"sk-top-container\"><div class=\"sk-text-repr-fallback\"><pre>AdaBoostClassifier(algorithm=&#x27;SAMME&#x27;,\n",
       "                   base_estimator=DecisionTreeClassifier(max_depth=2,\n",
       "                                                         random_state=1),\n",
       "                   learning_rate=1.5, n_estimators=600, random_state=1)</pre><b>In a Jupyter environment, please rerun this cell to show the HTML representation or trust the notebook. <br />On GitHub, the HTML representation is unable to render, please try loading this page with nbviewer.org.</b></div><div class=\"sk-container\" hidden><div class=\"sk-item sk-dashed-wrapped\"><div class=\"sk-label-container\"><div class=\"sk-label sk-toggleable\"><input class=\"sk-toggleable__control sk-hidden--visually\" id=\"sk-estimator-id-1\" type=\"checkbox\" ><label for=\"sk-estimator-id-1\" class=\"sk-toggleable__label sk-toggleable__label-arrow\">AdaBoostClassifier</label><div class=\"sk-toggleable__content\"><pre>AdaBoostClassifier(algorithm=&#x27;SAMME&#x27;,\n",
       "                   base_estimator=DecisionTreeClassifier(max_depth=2,\n",
       "                                                         random_state=1),\n",
       "                   learning_rate=1.5, n_estimators=600, random_state=1)</pre></div></div></div><div class=\"sk-parallel\"><div class=\"sk-parallel-item\"><div class=\"sk-item\"><div class=\"sk-label-container\"><div class=\"sk-label sk-toggleable\"><input class=\"sk-toggleable__control sk-hidden--visually\" id=\"sk-estimator-id-2\" type=\"checkbox\" ><label for=\"sk-estimator-id-2\" class=\"sk-toggleable__label sk-toggleable__label-arrow\">base_estimator: DecisionTreeClassifier</label><div class=\"sk-toggleable__content\"><pre>DecisionTreeClassifier(max_depth=2, random_state=1)</pre></div></div></div><div class=\"sk-serial\"><div class=\"sk-item\"><div class=\"sk-estimator sk-toggleable\"><input class=\"sk-toggleable__control sk-hidden--visually\" id=\"sk-estimator-id-3\" type=\"checkbox\" ><label for=\"sk-estimator-id-3\" class=\"sk-toggleable__label sk-toggleable__label-arrow\">DecisionTreeClassifier</label><div class=\"sk-toggleable__content\"><pre>DecisionTreeClassifier(max_depth=2, random_state=1)</pre></div></div></div></div></div></div></div></div></div></div>"
      ],
      "text/plain": [
       "AdaBoostClassifier(algorithm='SAMME',\n",
       "                   base_estimator=DecisionTreeClassifier(max_depth=2,\n",
       "                                                         random_state=1),\n",
       "                   learning_rate=1.5, n_estimators=600, random_state=1)"
      ]
     },
     "execution_count": 35,
     "metadata": {},
     "output_type": "execute_result"
    }
   ],
   "source": [
    "# fit adaboost_model_1 with training dataset\n",
    "\n",
    "adaboost_model_1.fit(X_train,y_train)\n",
    "\n",
    "\n"
   ]
  },
  {
   "cell_type": "code",
   "execution_count": 36,
   "metadata": {
    "colab": {
     "base_uri": "https://localhost:8080/"
    },
    "id": "SxtEqrLMD3U5",
    "outputId": "57d0468a-fe64-4e6d-f2db-ef6ddaedd239",
    "scrolled": true
   },
   "outputs": [
    {
     "data": {
      "text/plain": [
       "array([[0.54049582, 0.45950418],\n",
       "       [0.53588662, 0.46411338],\n",
       "       [0.53885559, 0.46114441],\n",
       "       [0.52427816, 0.47572184],\n",
       "       [0.52018053, 0.47981947],\n",
       "       [0.5308397 , 0.4691603 ],\n",
       "       [0.53055748, 0.46944252],\n",
       "       [0.54126954, 0.45873046],\n",
       "       [0.52347347, 0.47652653],\n",
       "       [0.51624249, 0.48375751]])"
      ]
     },
     "execution_count": 36,
     "metadata": {},
     "output_type": "execute_result"
    }
   ],
   "source": [
    "# prediction probability on X_test\n",
    "predictions =adaboost_model_1.predict_proba(X_test)\n",
    "\n",
    "\n",
    "\n",
    "#print top 10 prediction result\n",
    "predictions[:10]\n",
    "\n",
    "\n"
   ]
  },
  {
   "cell_type": "markdown",
   "metadata": {
    "id": "af07mdE7D3U5"
   },
   "source": [
    "In above result the second column represents the probability of a click resulting in a download\n"
   ]
  },
  {
   "cell_type": "code",
   "execution_count": 37,
   "metadata": {
    "colab": {
     "base_uri": "https://localhost:8080/"
    },
    "id": "2A8LQ5HGD3U5",
    "outputId": "a37d0bba-20f5-4d22-af8b-1c55e599cd94"
   },
   "outputs": [
    {
     "data": {
      "text/plain": [
       "0.9523839750549848"
      ]
     },
     "execution_count": 37,
     "metadata": {},
     "output_type": "execute_result"
    }
   ],
   "source": [
    "# metrics: Get AUC score with parameters y_test and predicted probability result\n",
    "metrics.roc_auc_score(y_test,predictions[:,1])\n",
    "\n",
    "\n",
    "\n"
   ]
  },
  {
   "cell_type": "markdown",
   "metadata": {
    "id": "1ZD_mU_zD3U6"
   },
   "source": [
    "### **`AdaBoost - Hyperparameter Tuning`**\n",
    "\n",
    "Let's now tune the hyperparameters of the AdaBoost classifier. In this case, we have two types of hyperparameters - those of the component trees (max_depth etc.) and those of the ensemble (n_estimators, learning_rate etc.). \n",
    "\n",
    "\n",
    "We can tune both using the following technique - the keys of the form ```base_estimator_parameter_name``` belong to the trees (base estimator), and the rest belong to the ensemble."
   ]
  },
  {
   "cell_type": "code",
   "execution_count": 38,
   "metadata": {
    "id": "EA716bp0D3U6"
   },
   "outputs": [],
   "source": [
    "# parameter grid with base_estimator__max_depth as [2,5] and n_estimators as [200, 400, 600]\n",
    "param_grid = {\" base_estimator__max_depth\":[2,5],\n",
    "              \"n_estimators\":[200, 400, 600]\n",
    "}\n",
    "\n",
    "\n",
    "\n",
    "\n"
   ]
  },
  {
   "cell_type": "code",
   "execution_count": 42,
   "metadata": {
    "id": "7sCbHLMdD3U6"
   },
   "outputs": [],
   "source": [
    "# DecisionTreeClassifier as base estimator with random_state=1\n",
    "tree = DecisionTreeClassifier(random_state=1)\n",
    "\n",
    "\n",
    "\n",
    "\n",
    "'''adaboost with the tree as base estimator and learning rate is arbitrarily set to 0.6, \n",
    "we'll discuss learning_rate below and algorithm as \"SAMME\"'''\n",
    "\n",
    "ABC = AdaBoostClassifier(base_estimator=tree,\n",
    "                                     n_estimators=600,\n",
    "                                     learning_rate=1.5,\n",
    "                                     algorithm=\"SAMME\",\n",
    "                                     random_state=1)\n",
    "\n",
    "\n",
    "\n",
    "\n"
   ]
  },
  {
   "cell_type": "markdown",
   "metadata": {
    "id": "ymh6clcUD3U6"
   },
   "source": [
    "#### Run grid search CV\n"
   ]
  },
  {
   "cell_type": "code",
   "execution_count": 43,
   "metadata": {
    "id": "AqYdCANaD3U7"
   },
   "outputs": [],
   "source": [
    "# Keep cross validation fold as 3\n",
    "folds = 3\n",
    "\n",
    "# run grid search with ABC, folds, param_grid and scoring as roc_auc, return_train_score as True and verbose as 1\n",
    "grid_search_ABC = GridSearchCV(ABC,\n",
    "                              cv=folds,\n",
    "                              param_grid=param_grid,\n",
    "                              scoring='roc_auc',\n",
    "                              return_train_score=True,\n",
    "                              verbose=1)\n",
    "\n",
    "\n",
    "\n",
    "\n",
    "\n"
   ]
  },
  {
   "cell_type": "code",
   "execution_count": 44,
   "metadata": {
    "colab": {
     "base_uri": "https://localhost:8080/"
    },
    "id": "noipaXniD3U7",
    "outputId": "3418e133-21d0-4749-ef42-652a495c930e"
   },
   "outputs": [
    {
     "name": "stdout",
     "output_type": "stream",
     "text": [
      "Fitting 3 folds for each of 6 candidates, totalling 18 fits\n"
     ]
    },
    {
     "ename": "ValueError",
     "evalue": "Invalid parameter ' base_estimator' for estimator AdaBoostClassifier(algorithm='SAMME',\n                   base_estimator=DecisionTreeClassifier(random_state=1),\n                   learning_rate=1.5, n_estimators=600, random_state=1). Valid parameters are: ['algorithm', 'base_estimator', 'estimator', 'learning_rate', 'n_estimators', 'random_state'].",
     "output_type": "error",
     "traceback": [
      "\u001b[0;31m---------------------------------------------------------------------------\u001b[0m",
      "\u001b[0;31mValueError\u001b[0m                                Traceback (most recent call last)",
      "Cell \u001b[0;32mIn[44], line 2\u001b[0m\n\u001b[1;32m      1\u001b[0m \u001b[38;5;66;03m# fit grid_search_ABC on training data\u001b[39;00m\n\u001b[0;32m----> 2\u001b[0m grid_search_ABC\u001b[38;5;241m.\u001b[39mfit(X_train,y_train)\n",
      "File \u001b[0;32m~/anaconda3/lib/python3.11/site-packages/sklearn/base.py:1151\u001b[0m, in \u001b[0;36m_fit_context.<locals>.decorator.<locals>.wrapper\u001b[0;34m(estimator, *args, **kwargs)\u001b[0m\n\u001b[1;32m   1144\u001b[0m     estimator\u001b[38;5;241m.\u001b[39m_validate_params()\n\u001b[1;32m   1146\u001b[0m \u001b[38;5;28;01mwith\u001b[39;00m config_context(\n\u001b[1;32m   1147\u001b[0m     skip_parameter_validation\u001b[38;5;241m=\u001b[39m(\n\u001b[1;32m   1148\u001b[0m         prefer_skip_nested_validation \u001b[38;5;129;01mor\u001b[39;00m global_skip_validation\n\u001b[1;32m   1149\u001b[0m     )\n\u001b[1;32m   1150\u001b[0m ):\n\u001b[0;32m-> 1151\u001b[0m     \u001b[38;5;28;01mreturn\u001b[39;00m fit_method(estimator, \u001b[38;5;241m*\u001b[39margs, \u001b[38;5;241m*\u001b[39m\u001b[38;5;241m*\u001b[39mkwargs)\n",
      "File \u001b[0;32m~/anaconda3/lib/python3.11/site-packages/sklearn/model_selection/_search.py:898\u001b[0m, in \u001b[0;36mBaseSearchCV.fit\u001b[0;34m(self, X, y, groups, **fit_params)\u001b[0m\n\u001b[1;32m    892\u001b[0m     results \u001b[38;5;241m=\u001b[39m \u001b[38;5;28mself\u001b[39m\u001b[38;5;241m.\u001b[39m_format_results(\n\u001b[1;32m    893\u001b[0m         all_candidate_params, n_splits, all_out, all_more_results\n\u001b[1;32m    894\u001b[0m     )\n\u001b[1;32m    896\u001b[0m     \u001b[38;5;28;01mreturn\u001b[39;00m results\n\u001b[0;32m--> 898\u001b[0m \u001b[38;5;28mself\u001b[39m\u001b[38;5;241m.\u001b[39m_run_search(evaluate_candidates)\n\u001b[1;32m    900\u001b[0m \u001b[38;5;66;03m# multimetric is determined here because in the case of a callable\u001b[39;00m\n\u001b[1;32m    901\u001b[0m \u001b[38;5;66;03m# self.scoring the return type is only known after calling\u001b[39;00m\n\u001b[1;32m    902\u001b[0m first_test_score \u001b[38;5;241m=\u001b[39m all_out[\u001b[38;5;241m0\u001b[39m][\u001b[38;5;124m\"\u001b[39m\u001b[38;5;124mtest_scores\u001b[39m\u001b[38;5;124m\"\u001b[39m]\n",
      "File \u001b[0;32m~/anaconda3/lib/python3.11/site-packages/sklearn/model_selection/_search.py:1419\u001b[0m, in \u001b[0;36mGridSearchCV._run_search\u001b[0;34m(self, evaluate_candidates)\u001b[0m\n\u001b[1;32m   1417\u001b[0m \u001b[38;5;28;01mdef\u001b[39;00m \u001b[38;5;21m_run_search\u001b[39m(\u001b[38;5;28mself\u001b[39m, evaluate_candidates):\n\u001b[1;32m   1418\u001b[0m \u001b[38;5;250m    \u001b[39m\u001b[38;5;124;03m\"\"\"Search all candidates in param_grid\"\"\"\u001b[39;00m\n\u001b[0;32m-> 1419\u001b[0m     evaluate_candidates(ParameterGrid(\u001b[38;5;28mself\u001b[39m\u001b[38;5;241m.\u001b[39mparam_grid))\n",
      "File \u001b[0;32m~/anaconda3/lib/python3.11/site-packages/sklearn/model_selection/_search.py:845\u001b[0m, in \u001b[0;36mBaseSearchCV.fit.<locals>.evaluate_candidates\u001b[0;34m(candidate_params, cv, more_results)\u001b[0m\n\u001b[1;32m    837\u001b[0m \u001b[38;5;28;01mif\u001b[39;00m \u001b[38;5;28mself\u001b[39m\u001b[38;5;241m.\u001b[39mverbose \u001b[38;5;241m>\u001b[39m \u001b[38;5;241m0\u001b[39m:\n\u001b[1;32m    838\u001b[0m     \u001b[38;5;28mprint\u001b[39m(\n\u001b[1;32m    839\u001b[0m         \u001b[38;5;124m\"\u001b[39m\u001b[38;5;124mFitting \u001b[39m\u001b[38;5;132;01m{0}\u001b[39;00m\u001b[38;5;124m folds for each of \u001b[39m\u001b[38;5;132;01m{1}\u001b[39;00m\u001b[38;5;124m candidates,\u001b[39m\u001b[38;5;124m\"\u001b[39m\n\u001b[1;32m    840\u001b[0m         \u001b[38;5;124m\"\u001b[39m\u001b[38;5;124m totalling \u001b[39m\u001b[38;5;132;01m{2}\u001b[39;00m\u001b[38;5;124m fits\u001b[39m\u001b[38;5;124m\"\u001b[39m\u001b[38;5;241m.\u001b[39mformat(\n\u001b[1;32m    841\u001b[0m             n_splits, n_candidates, n_candidates \u001b[38;5;241m*\u001b[39m n_splits\n\u001b[1;32m    842\u001b[0m         )\n\u001b[1;32m    843\u001b[0m     )\n\u001b[0;32m--> 845\u001b[0m out \u001b[38;5;241m=\u001b[39m parallel(\n\u001b[1;32m    846\u001b[0m     delayed(_fit_and_score)(\n\u001b[1;32m    847\u001b[0m         clone(base_estimator),\n\u001b[1;32m    848\u001b[0m         X,\n\u001b[1;32m    849\u001b[0m         y,\n\u001b[1;32m    850\u001b[0m         train\u001b[38;5;241m=\u001b[39mtrain,\n\u001b[1;32m    851\u001b[0m         test\u001b[38;5;241m=\u001b[39mtest,\n\u001b[1;32m    852\u001b[0m         parameters\u001b[38;5;241m=\u001b[39mparameters,\n\u001b[1;32m    853\u001b[0m         split_progress\u001b[38;5;241m=\u001b[39m(split_idx, n_splits),\n\u001b[1;32m    854\u001b[0m         candidate_progress\u001b[38;5;241m=\u001b[39m(cand_idx, n_candidates),\n\u001b[1;32m    855\u001b[0m         \u001b[38;5;241m*\u001b[39m\u001b[38;5;241m*\u001b[39mfit_and_score_kwargs,\n\u001b[1;32m    856\u001b[0m     )\n\u001b[1;32m    857\u001b[0m     \u001b[38;5;28;01mfor\u001b[39;00m (cand_idx, parameters), (split_idx, (train, test)) \u001b[38;5;129;01min\u001b[39;00m product(\n\u001b[1;32m    858\u001b[0m         \u001b[38;5;28menumerate\u001b[39m(candidate_params), \u001b[38;5;28menumerate\u001b[39m(cv\u001b[38;5;241m.\u001b[39msplit(X, y, groups))\n\u001b[1;32m    859\u001b[0m     )\n\u001b[1;32m    860\u001b[0m )\n\u001b[1;32m    862\u001b[0m \u001b[38;5;28;01mif\u001b[39;00m \u001b[38;5;28mlen\u001b[39m(out) \u001b[38;5;241m<\u001b[39m \u001b[38;5;241m1\u001b[39m:\n\u001b[1;32m    863\u001b[0m     \u001b[38;5;28;01mraise\u001b[39;00m \u001b[38;5;167;01mValueError\u001b[39;00m(\n\u001b[1;32m    864\u001b[0m         \u001b[38;5;124m\"\u001b[39m\u001b[38;5;124mNo fits were performed. \u001b[39m\u001b[38;5;124m\"\u001b[39m\n\u001b[1;32m    865\u001b[0m         \u001b[38;5;124m\"\u001b[39m\u001b[38;5;124mWas the CV iterator empty? \u001b[39m\u001b[38;5;124m\"\u001b[39m\n\u001b[1;32m    866\u001b[0m         \u001b[38;5;124m\"\u001b[39m\u001b[38;5;124mWere there no candidates?\u001b[39m\u001b[38;5;124m\"\u001b[39m\n\u001b[1;32m    867\u001b[0m     )\n",
      "File \u001b[0;32m~/anaconda3/lib/python3.11/site-packages/sklearn/utils/parallel.py:65\u001b[0m, in \u001b[0;36mParallel.__call__\u001b[0;34m(self, iterable)\u001b[0m\n\u001b[1;32m     60\u001b[0m config \u001b[38;5;241m=\u001b[39m get_config()\n\u001b[1;32m     61\u001b[0m iterable_with_config \u001b[38;5;241m=\u001b[39m (\n\u001b[1;32m     62\u001b[0m     (_with_config(delayed_func, config), args, kwargs)\n\u001b[1;32m     63\u001b[0m     \u001b[38;5;28;01mfor\u001b[39;00m delayed_func, args, kwargs \u001b[38;5;129;01min\u001b[39;00m iterable\n\u001b[1;32m     64\u001b[0m )\n\u001b[0;32m---> 65\u001b[0m \u001b[38;5;28;01mreturn\u001b[39;00m \u001b[38;5;28msuper\u001b[39m()\u001b[38;5;241m.\u001b[39m\u001b[38;5;21m__call__\u001b[39m(iterable_with_config)\n",
      "File \u001b[0;32m~/anaconda3/lib/python3.11/site-packages/joblib/parallel.py:1085\u001b[0m, in \u001b[0;36mParallel.__call__\u001b[0;34m(self, iterable)\u001b[0m\n\u001b[1;32m   1076\u001b[0m \u001b[38;5;28;01mtry\u001b[39;00m:\n\u001b[1;32m   1077\u001b[0m     \u001b[38;5;66;03m# Only set self._iterating to True if at least a batch\u001b[39;00m\n\u001b[1;32m   1078\u001b[0m     \u001b[38;5;66;03m# was dispatched. In particular this covers the edge\u001b[39;00m\n\u001b[0;32m   (...)\u001b[0m\n\u001b[1;32m   1082\u001b[0m     \u001b[38;5;66;03m# was very quick and its callback already dispatched all the\u001b[39;00m\n\u001b[1;32m   1083\u001b[0m     \u001b[38;5;66;03m# remaining jobs.\u001b[39;00m\n\u001b[1;32m   1084\u001b[0m     \u001b[38;5;28mself\u001b[39m\u001b[38;5;241m.\u001b[39m_iterating \u001b[38;5;241m=\u001b[39m \u001b[38;5;28;01mFalse\u001b[39;00m\n\u001b[0;32m-> 1085\u001b[0m     \u001b[38;5;28;01mif\u001b[39;00m \u001b[38;5;28mself\u001b[39m\u001b[38;5;241m.\u001b[39mdispatch_one_batch(iterator):\n\u001b[1;32m   1086\u001b[0m         \u001b[38;5;28mself\u001b[39m\u001b[38;5;241m.\u001b[39m_iterating \u001b[38;5;241m=\u001b[39m \u001b[38;5;28mself\u001b[39m\u001b[38;5;241m.\u001b[39m_original_iterator \u001b[38;5;129;01mis\u001b[39;00m \u001b[38;5;129;01mnot\u001b[39;00m \u001b[38;5;28;01mNone\u001b[39;00m\n\u001b[1;32m   1088\u001b[0m     \u001b[38;5;28;01mwhile\u001b[39;00m \u001b[38;5;28mself\u001b[39m\u001b[38;5;241m.\u001b[39mdispatch_one_batch(iterator):\n",
      "File \u001b[0;32m~/anaconda3/lib/python3.11/site-packages/joblib/parallel.py:901\u001b[0m, in \u001b[0;36mParallel.dispatch_one_batch\u001b[0;34m(self, iterator)\u001b[0m\n\u001b[1;32m    899\u001b[0m     \u001b[38;5;28;01mreturn\u001b[39;00m \u001b[38;5;28;01mFalse\u001b[39;00m\n\u001b[1;32m    900\u001b[0m \u001b[38;5;28;01melse\u001b[39;00m:\n\u001b[0;32m--> 901\u001b[0m     \u001b[38;5;28mself\u001b[39m\u001b[38;5;241m.\u001b[39m_dispatch(tasks)\n\u001b[1;32m    902\u001b[0m     \u001b[38;5;28;01mreturn\u001b[39;00m \u001b[38;5;28;01mTrue\u001b[39;00m\n",
      "File \u001b[0;32m~/anaconda3/lib/python3.11/site-packages/joblib/parallel.py:819\u001b[0m, in \u001b[0;36mParallel._dispatch\u001b[0;34m(self, batch)\u001b[0m\n\u001b[1;32m    817\u001b[0m \u001b[38;5;28;01mwith\u001b[39;00m \u001b[38;5;28mself\u001b[39m\u001b[38;5;241m.\u001b[39m_lock:\n\u001b[1;32m    818\u001b[0m     job_idx \u001b[38;5;241m=\u001b[39m \u001b[38;5;28mlen\u001b[39m(\u001b[38;5;28mself\u001b[39m\u001b[38;5;241m.\u001b[39m_jobs)\n\u001b[0;32m--> 819\u001b[0m     job \u001b[38;5;241m=\u001b[39m \u001b[38;5;28mself\u001b[39m\u001b[38;5;241m.\u001b[39m_backend\u001b[38;5;241m.\u001b[39mapply_async(batch, callback\u001b[38;5;241m=\u001b[39mcb)\n\u001b[1;32m    820\u001b[0m     \u001b[38;5;66;03m# A job can complete so quickly than its callback is\u001b[39;00m\n\u001b[1;32m    821\u001b[0m     \u001b[38;5;66;03m# called before we get here, causing self._jobs to\u001b[39;00m\n\u001b[1;32m    822\u001b[0m     \u001b[38;5;66;03m# grow. To ensure correct results ordering, .insert is\u001b[39;00m\n\u001b[1;32m    823\u001b[0m     \u001b[38;5;66;03m# used (rather than .append) in the following line\u001b[39;00m\n\u001b[1;32m    824\u001b[0m     \u001b[38;5;28mself\u001b[39m\u001b[38;5;241m.\u001b[39m_jobs\u001b[38;5;241m.\u001b[39minsert(job_idx, job)\n",
      "File \u001b[0;32m~/anaconda3/lib/python3.11/site-packages/joblib/_parallel_backends.py:208\u001b[0m, in \u001b[0;36mSequentialBackend.apply_async\u001b[0;34m(self, func, callback)\u001b[0m\n\u001b[1;32m    206\u001b[0m \u001b[38;5;28;01mdef\u001b[39;00m \u001b[38;5;21mapply_async\u001b[39m(\u001b[38;5;28mself\u001b[39m, func, callback\u001b[38;5;241m=\u001b[39m\u001b[38;5;28;01mNone\u001b[39;00m):\n\u001b[1;32m    207\u001b[0m \u001b[38;5;250m    \u001b[39m\u001b[38;5;124;03m\"\"\"Schedule a func to be run\"\"\"\u001b[39;00m\n\u001b[0;32m--> 208\u001b[0m     result \u001b[38;5;241m=\u001b[39m ImmediateResult(func)\n\u001b[1;32m    209\u001b[0m     \u001b[38;5;28;01mif\u001b[39;00m callback:\n\u001b[1;32m    210\u001b[0m         callback(result)\n",
      "File \u001b[0;32m~/anaconda3/lib/python3.11/site-packages/joblib/_parallel_backends.py:597\u001b[0m, in \u001b[0;36mImmediateResult.__init__\u001b[0;34m(self, batch)\u001b[0m\n\u001b[1;32m    594\u001b[0m \u001b[38;5;28;01mdef\u001b[39;00m \u001b[38;5;21m__init__\u001b[39m(\u001b[38;5;28mself\u001b[39m, batch):\n\u001b[1;32m    595\u001b[0m     \u001b[38;5;66;03m# Don't delay the application, to avoid keeping the input\u001b[39;00m\n\u001b[1;32m    596\u001b[0m     \u001b[38;5;66;03m# arguments in memory\u001b[39;00m\n\u001b[0;32m--> 597\u001b[0m     \u001b[38;5;28mself\u001b[39m\u001b[38;5;241m.\u001b[39mresults \u001b[38;5;241m=\u001b[39m batch()\n",
      "File \u001b[0;32m~/anaconda3/lib/python3.11/site-packages/joblib/parallel.py:288\u001b[0m, in \u001b[0;36mBatchedCalls.__call__\u001b[0;34m(self)\u001b[0m\n\u001b[1;32m    284\u001b[0m \u001b[38;5;28;01mdef\u001b[39;00m \u001b[38;5;21m__call__\u001b[39m(\u001b[38;5;28mself\u001b[39m):\n\u001b[1;32m    285\u001b[0m     \u001b[38;5;66;03m# Set the default nested backend to self._backend but do not set the\u001b[39;00m\n\u001b[1;32m    286\u001b[0m     \u001b[38;5;66;03m# change the default number of processes to -1\u001b[39;00m\n\u001b[1;32m    287\u001b[0m     \u001b[38;5;28;01mwith\u001b[39;00m parallel_backend(\u001b[38;5;28mself\u001b[39m\u001b[38;5;241m.\u001b[39m_backend, n_jobs\u001b[38;5;241m=\u001b[39m\u001b[38;5;28mself\u001b[39m\u001b[38;5;241m.\u001b[39m_n_jobs):\n\u001b[0;32m--> 288\u001b[0m         \u001b[38;5;28;01mreturn\u001b[39;00m [func(\u001b[38;5;241m*\u001b[39margs, \u001b[38;5;241m*\u001b[39m\u001b[38;5;241m*\u001b[39mkwargs)\n\u001b[1;32m    289\u001b[0m                 \u001b[38;5;28;01mfor\u001b[39;00m func, args, kwargs \u001b[38;5;129;01min\u001b[39;00m \u001b[38;5;28mself\u001b[39m\u001b[38;5;241m.\u001b[39mitems]\n",
      "File \u001b[0;32m~/anaconda3/lib/python3.11/site-packages/joblib/parallel.py:288\u001b[0m, in \u001b[0;36m<listcomp>\u001b[0;34m(.0)\u001b[0m\n\u001b[1;32m    284\u001b[0m \u001b[38;5;28;01mdef\u001b[39;00m \u001b[38;5;21m__call__\u001b[39m(\u001b[38;5;28mself\u001b[39m):\n\u001b[1;32m    285\u001b[0m     \u001b[38;5;66;03m# Set the default nested backend to self._backend but do not set the\u001b[39;00m\n\u001b[1;32m    286\u001b[0m     \u001b[38;5;66;03m# change the default number of processes to -1\u001b[39;00m\n\u001b[1;32m    287\u001b[0m     \u001b[38;5;28;01mwith\u001b[39;00m parallel_backend(\u001b[38;5;28mself\u001b[39m\u001b[38;5;241m.\u001b[39m_backend, n_jobs\u001b[38;5;241m=\u001b[39m\u001b[38;5;28mself\u001b[39m\u001b[38;5;241m.\u001b[39m_n_jobs):\n\u001b[0;32m--> 288\u001b[0m         \u001b[38;5;28;01mreturn\u001b[39;00m [func(\u001b[38;5;241m*\u001b[39margs, \u001b[38;5;241m*\u001b[39m\u001b[38;5;241m*\u001b[39mkwargs)\n\u001b[1;32m    289\u001b[0m                 \u001b[38;5;28;01mfor\u001b[39;00m func, args, kwargs \u001b[38;5;129;01min\u001b[39;00m \u001b[38;5;28mself\u001b[39m\u001b[38;5;241m.\u001b[39mitems]\n",
      "File \u001b[0;32m~/anaconda3/lib/python3.11/site-packages/sklearn/utils/parallel.py:127\u001b[0m, in \u001b[0;36m_FuncWrapper.__call__\u001b[0;34m(self, *args, **kwargs)\u001b[0m\n\u001b[1;32m    125\u001b[0m     config \u001b[38;5;241m=\u001b[39m {}\n\u001b[1;32m    126\u001b[0m \u001b[38;5;28;01mwith\u001b[39;00m config_context(\u001b[38;5;241m*\u001b[39m\u001b[38;5;241m*\u001b[39mconfig):\n\u001b[0;32m--> 127\u001b[0m     \u001b[38;5;28;01mreturn\u001b[39;00m \u001b[38;5;28mself\u001b[39m\u001b[38;5;241m.\u001b[39mfunction(\u001b[38;5;241m*\u001b[39margs, \u001b[38;5;241m*\u001b[39m\u001b[38;5;241m*\u001b[39mkwargs)\n",
      "File \u001b[0;32m~/anaconda3/lib/python3.11/site-packages/sklearn/model_selection/_validation.py:720\u001b[0m, in \u001b[0;36m_fit_and_score\u001b[0;34m(estimator, X, y, scorer, train, test, verbose, parameters, fit_params, return_train_score, return_parameters, return_n_test_samples, return_times, return_estimator, split_progress, candidate_progress, error_score)\u001b[0m\n\u001b[1;32m    717\u001b[0m     \u001b[38;5;28;01mfor\u001b[39;00m k, v \u001b[38;5;129;01min\u001b[39;00m parameters\u001b[38;5;241m.\u001b[39mitems():\n\u001b[1;32m    718\u001b[0m         cloned_parameters[k] \u001b[38;5;241m=\u001b[39m clone(v, safe\u001b[38;5;241m=\u001b[39m\u001b[38;5;28;01mFalse\u001b[39;00m)\n\u001b[0;32m--> 720\u001b[0m     estimator \u001b[38;5;241m=\u001b[39m estimator\u001b[38;5;241m.\u001b[39mset_params(\u001b[38;5;241m*\u001b[39m\u001b[38;5;241m*\u001b[39mcloned_parameters)\n\u001b[1;32m    722\u001b[0m start_time \u001b[38;5;241m=\u001b[39m time\u001b[38;5;241m.\u001b[39mtime()\n\u001b[1;32m    724\u001b[0m X_train, y_train \u001b[38;5;241m=\u001b[39m _safe_split(estimator, X, y, train)\n",
      "File \u001b[0;32m~/anaconda3/lib/python3.11/site-packages/sklearn/base.py:229\u001b[0m, in \u001b[0;36mBaseEstimator.set_params\u001b[0;34m(self, **params)\u001b[0m\n\u001b[1;32m    227\u001b[0m \u001b[38;5;28;01mif\u001b[39;00m key \u001b[38;5;129;01mnot\u001b[39;00m \u001b[38;5;129;01min\u001b[39;00m valid_params:\n\u001b[1;32m    228\u001b[0m     local_valid_params \u001b[38;5;241m=\u001b[39m \u001b[38;5;28mself\u001b[39m\u001b[38;5;241m.\u001b[39m_get_param_names()\n\u001b[0;32m--> 229\u001b[0m     \u001b[38;5;28;01mraise\u001b[39;00m \u001b[38;5;167;01mValueError\u001b[39;00m(\n\u001b[1;32m    230\u001b[0m         \u001b[38;5;124mf\u001b[39m\u001b[38;5;124m\"\u001b[39m\u001b[38;5;124mInvalid parameter \u001b[39m\u001b[38;5;132;01m{\u001b[39;00mkey\u001b[38;5;132;01m!r}\u001b[39;00m\u001b[38;5;124m for estimator \u001b[39m\u001b[38;5;132;01m{\u001b[39;00m\u001b[38;5;28mself\u001b[39m\u001b[38;5;132;01m}\u001b[39;00m\u001b[38;5;124m. \u001b[39m\u001b[38;5;124m\"\u001b[39m\n\u001b[1;32m    231\u001b[0m         \u001b[38;5;124mf\u001b[39m\u001b[38;5;124m\"\u001b[39m\u001b[38;5;124mValid parameters are: \u001b[39m\u001b[38;5;132;01m{\u001b[39;00mlocal_valid_params\u001b[38;5;132;01m!r}\u001b[39;00m\u001b[38;5;124m.\u001b[39m\u001b[38;5;124m\"\u001b[39m\n\u001b[1;32m    232\u001b[0m     )\n\u001b[1;32m    234\u001b[0m \u001b[38;5;28;01mif\u001b[39;00m delim:\n\u001b[1;32m    235\u001b[0m     nested_params[key][sub_key] \u001b[38;5;241m=\u001b[39m value\n",
      "\u001b[0;31mValueError\u001b[0m: Invalid parameter ' base_estimator' for estimator AdaBoostClassifier(algorithm='SAMME',\n                   base_estimator=DecisionTreeClassifier(random_state=1),\n                   learning_rate=1.5, n_estimators=600, random_state=1). Valid parameters are: ['algorithm', 'base_estimator', 'estimator', 'learning_rate', 'n_estimators', 'random_state']."
     ]
    }
   ],
   "source": [
    "# fit grid_search_ABC on training data\n",
    "grid_search_ABC.fit(X_train,y_train)\n",
    "\n",
    "\n",
    "\n"
   ]
  },
  {
   "cell_type": "code",
   "execution_count": null,
   "metadata": {
    "colab": {
     "base_uri": "https://localhost:8080/",
     "height": 360
    },
    "id": "tf1glbAeD3U7",
    "outputId": "0f73a5d0-31e4-4af1-f78b-64d577572539",
    "scrolled": true
   },
   "outputs": [],
   "source": [
    "# cv results\n",
    "cv_results = \n",
    "\n",
    "# print cv_results\n",
    "\n",
    "\n"
   ]
  },
  {
   "cell_type": "code",
   "execution_count": null,
   "metadata": {
    "colab": {
     "base_uri": "https://localhost:8080/",
     "height": 407
    },
    "id": "42TG9kveD3U7",
    "outputId": "3e2b89d2-9bd9-434d-daed-6610f738bc9f"
   },
   "outputs": [],
   "source": [
    "# plotting AUC with hyperparameter combinations\n",
    "\n",
    "plt.figure(figsize=(16,6))\n",
    "for n, depth in enumerate(param_grid['base_estimator__max_depth']):\n",
    "    \n",
    "\n",
    "    # subplot 1/n\n",
    "    plt.subplot(1,3, n+1)\n",
    "    depth_df = \n",
    "    \n",
    "    # plot depth_df[\"param_n_estimators\"] for depth_df[\"mean_test_score\"],depth_df[\"mean_train_score\"] \n",
    "    \n",
    "    \n",
    "    \n",
    "\n",
    "    \n"
   ]
  },
  {
   "cell_type": "markdown",
   "metadata": {
    "id": "b0QPPEx8D3U8"
   },
   "source": [
    "The results above show that:\n",
    "- The ensemble with max_depth=5 is clearly overfitting (training auc is almost 1, while the test score is much lower)\n",
    "- At max_depth=2, the model performs slightly better (approx 95% AUC) with a higher test score \n",
    "\n",
    "Thus, we should go ahead with ```max_depth=2``` and ```n_estimators=200```.\n",
    "\n",
    "Note that we haven't experimented with many other important hyperparameters till now, such as ```learning rate```, ```subsample``` etc., and the results might be considerably improved by tuning them. We'll next experiment with these hyperparameters.\n",
    "\n",
    "As of now again rebuild AdaBoostClassifier with chosen hyperparameters"
   ]
  },
  {
   "cell_type": "code",
   "execution_count": 45,
   "metadata": {
    "colab": {
     "base_uri": "https://localhost:8080/"
    },
    "id": "nhE0yFVqD3U8",
    "outputId": "f30acfee-09d1-4870-ed62-b6831aa015a4"
   },
   "outputs": [
    {
     "data": {
      "text/html": [
       "<style>#sk-container-id-2 {color: black;}#sk-container-id-2 pre{padding: 0;}#sk-container-id-2 div.sk-toggleable {background-color: white;}#sk-container-id-2 label.sk-toggleable__label {cursor: pointer;display: block;width: 100%;margin-bottom: 0;padding: 0.3em;box-sizing: border-box;text-align: center;}#sk-container-id-2 label.sk-toggleable__label-arrow:before {content: \"▸\";float: left;margin-right: 0.25em;color: #696969;}#sk-container-id-2 label.sk-toggleable__label-arrow:hover:before {color: black;}#sk-container-id-2 div.sk-estimator:hover label.sk-toggleable__label-arrow:before {color: black;}#sk-container-id-2 div.sk-toggleable__content {max-height: 0;max-width: 0;overflow: hidden;text-align: left;background-color: #f0f8ff;}#sk-container-id-2 div.sk-toggleable__content pre {margin: 0.2em;color: black;border-radius: 0.25em;background-color: #f0f8ff;}#sk-container-id-2 input.sk-toggleable__control:checked~div.sk-toggleable__content {max-height: 200px;max-width: 100%;overflow: auto;}#sk-container-id-2 input.sk-toggleable__control:checked~label.sk-toggleable__label-arrow:before {content: \"▾\";}#sk-container-id-2 div.sk-estimator input.sk-toggleable__control:checked~label.sk-toggleable__label {background-color: #d4ebff;}#sk-container-id-2 div.sk-label input.sk-toggleable__control:checked~label.sk-toggleable__label {background-color: #d4ebff;}#sk-container-id-2 input.sk-hidden--visually {border: 0;clip: rect(1px 1px 1px 1px);clip: rect(1px, 1px, 1px, 1px);height: 1px;margin: -1px;overflow: hidden;padding: 0;position: absolute;width: 1px;}#sk-container-id-2 div.sk-estimator {font-family: monospace;background-color: #f0f8ff;border: 1px dotted black;border-radius: 0.25em;box-sizing: border-box;margin-bottom: 0.5em;}#sk-container-id-2 div.sk-estimator:hover {background-color: #d4ebff;}#sk-container-id-2 div.sk-parallel-item::after {content: \"\";width: 100%;border-bottom: 1px solid gray;flex-grow: 1;}#sk-container-id-2 div.sk-label:hover label.sk-toggleable__label {background-color: #d4ebff;}#sk-container-id-2 div.sk-serial::before {content: \"\";position: absolute;border-left: 1px solid gray;box-sizing: border-box;top: 0;bottom: 0;left: 50%;z-index: 0;}#sk-container-id-2 div.sk-serial {display: flex;flex-direction: column;align-items: center;background-color: white;padding-right: 0.2em;padding-left: 0.2em;position: relative;}#sk-container-id-2 div.sk-item {position: relative;z-index: 1;}#sk-container-id-2 div.sk-parallel {display: flex;align-items: stretch;justify-content: center;background-color: white;position: relative;}#sk-container-id-2 div.sk-item::before, #sk-container-id-2 div.sk-parallel-item::before {content: \"\";position: absolute;border-left: 1px solid gray;box-sizing: border-box;top: 0;bottom: 0;left: 50%;z-index: -1;}#sk-container-id-2 div.sk-parallel-item {display: flex;flex-direction: column;z-index: 1;position: relative;background-color: white;}#sk-container-id-2 div.sk-parallel-item:first-child::after {align-self: flex-end;width: 50%;}#sk-container-id-2 div.sk-parallel-item:last-child::after {align-self: flex-start;width: 50%;}#sk-container-id-2 div.sk-parallel-item:only-child::after {width: 0;}#sk-container-id-2 div.sk-dashed-wrapped {border: 1px dashed gray;margin: 0 0.4em 0.5em 0.4em;box-sizing: border-box;padding-bottom: 0.4em;background-color: white;}#sk-container-id-2 div.sk-label label {font-family: monospace;font-weight: bold;display: inline-block;line-height: 1.2em;}#sk-container-id-2 div.sk-label-container {text-align: center;}#sk-container-id-2 div.sk-container {/* jupyter's `normalize.less` sets `[hidden] { display: none; }` but bootstrap.min.css set `[hidden] { display: none !important; }` so we also need the `!important` here to be able to override the default hidden behavior on the sphinx rendered scikit-learn.org. See: https://github.com/scikit-learn/scikit-learn/issues/21755 */display: inline-block !important;position: relative;}#sk-container-id-2 div.sk-text-repr-fallback {display: none;}</style><div id=\"sk-container-id-2\" class=\"sk-top-container\"><div class=\"sk-text-repr-fallback\"><pre>AdaBoostClassifier(algorithm=&#x27;SAMME&#x27;,\n",
       "                   base_estimator=DecisionTreeClassifier(max_depth=2,\n",
       "                                                         random_state=1),\n",
       "                   learning_rate=0.6, n_estimators=200, random_state=1)</pre><b>In a Jupyter environment, please rerun this cell to show the HTML representation or trust the notebook. <br />On GitHub, the HTML representation is unable to render, please try loading this page with nbviewer.org.</b></div><div class=\"sk-container\" hidden><div class=\"sk-item sk-dashed-wrapped\"><div class=\"sk-label-container\"><div class=\"sk-label sk-toggleable\"><input class=\"sk-toggleable__control sk-hidden--visually\" id=\"sk-estimator-id-4\" type=\"checkbox\" ><label for=\"sk-estimator-id-4\" class=\"sk-toggleable__label sk-toggleable__label-arrow\">AdaBoostClassifier</label><div class=\"sk-toggleable__content\"><pre>AdaBoostClassifier(algorithm=&#x27;SAMME&#x27;,\n",
       "                   base_estimator=DecisionTreeClassifier(max_depth=2,\n",
       "                                                         random_state=1),\n",
       "                   learning_rate=0.6, n_estimators=200, random_state=1)</pre></div></div></div><div class=\"sk-parallel\"><div class=\"sk-parallel-item\"><div class=\"sk-item\"><div class=\"sk-label-container\"><div class=\"sk-label sk-toggleable\"><input class=\"sk-toggleable__control sk-hidden--visually\" id=\"sk-estimator-id-5\" type=\"checkbox\" ><label for=\"sk-estimator-id-5\" class=\"sk-toggleable__label sk-toggleable__label-arrow\">base_estimator: DecisionTreeClassifier</label><div class=\"sk-toggleable__content\"><pre>DecisionTreeClassifier(max_depth=2, random_state=1)</pre></div></div></div><div class=\"sk-serial\"><div class=\"sk-item\"><div class=\"sk-estimator sk-toggleable\"><input class=\"sk-toggleable__control sk-hidden--visually\" id=\"sk-estimator-id-6\" type=\"checkbox\" ><label for=\"sk-estimator-id-6\" class=\"sk-toggleable__label sk-toggleable__label-arrow\">DecisionTreeClassifier</label><div class=\"sk-toggleable__content\"><pre>DecisionTreeClassifier(max_depth=2, random_state=1)</pre></div></div></div></div></div></div></div></div></div></div>"
      ],
      "text/plain": [
       "AdaBoostClassifier(algorithm='SAMME',\n",
       "                   base_estimator=DecisionTreeClassifier(max_depth=2,\n",
       "                                                         random_state=1),\n",
       "                   learning_rate=0.6, n_estimators=200, random_state=1)"
      ]
     },
     "execution_count": 45,
     "metadata": {},
     "output_type": "execute_result"
    }
   ],
   "source": [
    "# DecisionTreeClassifier  as base estimator with max_depth as 2 and random_state as 1\n",
    "tree = DecisionTreeClassifier(max_depth=2,random_state=1)\n",
    "\n",
    "\n",
    "'''adaboost with the tree as base estimator\n",
    "# learning rate is arbitrarily set as 0.6, n_eastimator as 200 and rest same'''\n",
    "\n",
    "ABC = AdaBoostClassifier(base_estimator=tree,\n",
    "                        learning_rate=0.6,\n",
    "                        n_estimators=200,\n",
    "                        algorithm='SAMME',\n",
    "                        random_state=1)\n",
    "\n",
    "\n",
    "\n",
    "\n",
    "# fitting ABCon training data\n",
    "ABC.fit(X_train,y_train)\n",
    "\n",
    "\n"
   ]
  },
  {
   "cell_type": "code",
   "execution_count": 46,
   "metadata": {
    "colab": {
     "base_uri": "https://localhost:8080/"
    },
    "id": "pxaRQB8eD3U8",
    "outputId": "68216ed2-b465-4c13-b801-0ca6c7227204"
   },
   "outputs": [
    {
     "name": "stdout",
     "output_type": "stream",
     "text": [
      "[[0.61058431 0.38941569]\n",
      " [0.60742586 0.39257414]\n",
      " [0.63265753 0.36734247]\n",
      " [0.58758342 0.41241658]\n",
      " [0.57045678 0.42954322]\n",
      " [0.61162484 0.38837516]\n",
      " [0.59403993 0.40596007]\n",
      " [0.60805124 0.39194876]\n",
      " [0.60362848 0.39637152]\n",
      " [0.57654304 0.42345696]]\n"
     ]
    }
   ],
   "source": [
    "# predict on test data\n",
    "predictions = ABC.predict_proba(X_test)\n",
    "\n",
    "\n",
    "# print top 10 prediction probabilities\n",
    "\n",
    "print(predictions[:10])\n"
   ]
  },
  {
   "cell_type": "code",
   "execution_count": 48,
   "metadata": {
    "colab": {
     "base_uri": "https://localhost:8080/"
    },
    "id": "PvTVp3a-D3U9",
    "outputId": "7adeed32-a564-4207-ad3e-4c8d9ef7ddf8"
   },
   "outputs": [
    {
     "name": "stdout",
     "output_type": "stream",
     "text": [
      "0.960727748545338\n"
     ]
    }
   ],
   "source": [
    "# Calculate roc auc score \n",
    "\n",
    "\n",
    "print(metrics.roc_auc_score(y_test,predictions[:,1]))\n"
   ]
  },
  {
   "cell_type": "markdown",
   "metadata": {
    "id": "2QlUGz4mD3U9"
   },
   "source": [
    "Well done, you have improved the model and adaboost gave us 96% of roc_auc coverage, which is a kind of good coverage\n",
    "\n",
    "### **`2. Gradient Boosting Classifier`**\n",
    "\n",
    "\n",
    "\n",
    "Reference doc: https://scikit-learn.org/stable/modules/generated/sklearn.ensemble.GradientBoostingClassifier.html\n",
    "\n",
    "\n",
    "Boosting is a method of converting weak learners into strong learners. In boosting, each new tree is a fit on a modified version of the original data set. \n",
    "\n",
    "Let's now try the gradient boosting classifier. We'll experiment with two main hyperparameters now - ```learning_rate``` (shrinkage) and ```subsample```. \n",
    "\n",
    "By adjusting the learning rate to less than 1, we can regularize the model. A model with higher learning_rate learns fast, but is prone to overfitting; one with a lower learning rate learns slowly, but avoids overfitting.\n",
    "\n",
    "Also, there's a trade-off between ```learning_rate``` and ```n_estimators``` - the higher the learning rate, the lesser trees the model needs (and thus we usually tune only one of them).\n",
    "\n",
    "Also, by subsampling (setting ```subsample``` to less than 1), we can have the individual models built on random subsamples of size ```subsample```. That way, each tree will be trained on different subsets and reduce the model's variance."
   ]
  },
  {
   "cell_type": "markdown",
   "metadata": {
    "id": "orSq_jpEtmRg"
   },
   "source": [
    "## **`Watch Video 3: Gradient Boosting Intuition`**"
   ]
  },
  {
   "cell_type": "code",
   "execution_count": 49,
   "metadata": {
    "id": "i4RK3nuZD3U9"
   },
   "outputs": [],
   "source": [
    "# parameter grid with learning_rate as [0.2, 0.6, 0.9] and subsample as [0.3, 0.6, 0.9]\n",
    "param_grid = {'learning_rate':[0.2, 0.6, 0.9],\n",
    "             'subsample':[0.3, 0.6, 0.9]}\n",
    "\n",
    "\n"
   ]
  },
  {
   "cell_type": "code",
   "execution_count": 50,
   "metadata": {
    "id": "zFpD3jmkD3U9"
   },
   "outputs": [],
   "source": [
    "# Gradient boost as base estimator with max_depth as 2 and n_estimators as 200 and random_state as 1\n",
    "GBC = GradientBoostingClassifier(max_depth=2,n_estimators=200,random_state=1)\n",
    "\n",
    "\n",
    "\n"
   ]
  },
  {
   "cell_type": "markdown",
   "metadata": {
    "id": "VGYdbjKLD3U-"
   },
   "source": [
    "##### Run grid search\n"
   ]
  },
  {
   "cell_type": "code",
   "execution_count": 51,
   "metadata": {
    "colab": {
     "base_uri": "https://localhost:8080/"
    },
    "id": "VtnUljW9D3U-",
    "outputId": "e39b38e2-988b-4ca0-c41a-c0e127f528f8",
    "scrolled": true
   },
   "outputs": [
    {
     "name": "stdout",
     "output_type": "stream",
     "text": [
      "Fitting 3 folds for each of 9 candidates, totalling 27 fits\n"
     ]
    },
    {
     "data": {
      "text/html": [
       "<style>#sk-container-id-3 {color: black;}#sk-container-id-3 pre{padding: 0;}#sk-container-id-3 div.sk-toggleable {background-color: white;}#sk-container-id-3 label.sk-toggleable__label {cursor: pointer;display: block;width: 100%;margin-bottom: 0;padding: 0.3em;box-sizing: border-box;text-align: center;}#sk-container-id-3 label.sk-toggleable__label-arrow:before {content: \"▸\";float: left;margin-right: 0.25em;color: #696969;}#sk-container-id-3 label.sk-toggleable__label-arrow:hover:before {color: black;}#sk-container-id-3 div.sk-estimator:hover label.sk-toggleable__label-arrow:before {color: black;}#sk-container-id-3 div.sk-toggleable__content {max-height: 0;max-width: 0;overflow: hidden;text-align: left;background-color: #f0f8ff;}#sk-container-id-3 div.sk-toggleable__content pre {margin: 0.2em;color: black;border-radius: 0.25em;background-color: #f0f8ff;}#sk-container-id-3 input.sk-toggleable__control:checked~div.sk-toggleable__content {max-height: 200px;max-width: 100%;overflow: auto;}#sk-container-id-3 input.sk-toggleable__control:checked~label.sk-toggleable__label-arrow:before {content: \"▾\";}#sk-container-id-3 div.sk-estimator input.sk-toggleable__control:checked~label.sk-toggleable__label {background-color: #d4ebff;}#sk-container-id-3 div.sk-label input.sk-toggleable__control:checked~label.sk-toggleable__label {background-color: #d4ebff;}#sk-container-id-3 input.sk-hidden--visually {border: 0;clip: rect(1px 1px 1px 1px);clip: rect(1px, 1px, 1px, 1px);height: 1px;margin: -1px;overflow: hidden;padding: 0;position: absolute;width: 1px;}#sk-container-id-3 div.sk-estimator {font-family: monospace;background-color: #f0f8ff;border: 1px dotted black;border-radius: 0.25em;box-sizing: border-box;margin-bottom: 0.5em;}#sk-container-id-3 div.sk-estimator:hover {background-color: #d4ebff;}#sk-container-id-3 div.sk-parallel-item::after {content: \"\";width: 100%;border-bottom: 1px solid gray;flex-grow: 1;}#sk-container-id-3 div.sk-label:hover label.sk-toggleable__label {background-color: #d4ebff;}#sk-container-id-3 div.sk-serial::before {content: \"\";position: absolute;border-left: 1px solid gray;box-sizing: border-box;top: 0;bottom: 0;left: 50%;z-index: 0;}#sk-container-id-3 div.sk-serial {display: flex;flex-direction: column;align-items: center;background-color: white;padding-right: 0.2em;padding-left: 0.2em;position: relative;}#sk-container-id-3 div.sk-item {position: relative;z-index: 1;}#sk-container-id-3 div.sk-parallel {display: flex;align-items: stretch;justify-content: center;background-color: white;position: relative;}#sk-container-id-3 div.sk-item::before, #sk-container-id-3 div.sk-parallel-item::before {content: \"\";position: absolute;border-left: 1px solid gray;box-sizing: border-box;top: 0;bottom: 0;left: 50%;z-index: -1;}#sk-container-id-3 div.sk-parallel-item {display: flex;flex-direction: column;z-index: 1;position: relative;background-color: white;}#sk-container-id-3 div.sk-parallel-item:first-child::after {align-self: flex-end;width: 50%;}#sk-container-id-3 div.sk-parallel-item:last-child::after {align-self: flex-start;width: 50%;}#sk-container-id-3 div.sk-parallel-item:only-child::after {width: 0;}#sk-container-id-3 div.sk-dashed-wrapped {border: 1px dashed gray;margin: 0 0.4em 0.5em 0.4em;box-sizing: border-box;padding-bottom: 0.4em;background-color: white;}#sk-container-id-3 div.sk-label label {font-family: monospace;font-weight: bold;display: inline-block;line-height: 1.2em;}#sk-container-id-3 div.sk-label-container {text-align: center;}#sk-container-id-3 div.sk-container {/* jupyter's `normalize.less` sets `[hidden] { display: none; }` but bootstrap.min.css set `[hidden] { display: none !important; }` so we also need the `!important` here to be able to override the default hidden behavior on the sphinx rendered scikit-learn.org. See: https://github.com/scikit-learn/scikit-learn/issues/21755 */display: inline-block !important;position: relative;}#sk-container-id-3 div.sk-text-repr-fallback {display: none;}</style><div id=\"sk-container-id-3\" class=\"sk-top-container\"><div class=\"sk-text-repr-fallback\"><pre>GridSearchCV(cv=3,\n",
       "             estimator=GradientBoostingClassifier(max_depth=2, n_estimators=200,\n",
       "                                                  random_state=1),\n",
       "             param_grid={&#x27;learning_rate&#x27;: [0.2, 0.6, 0.9],\n",
       "                         &#x27;subsample&#x27;: [0.3, 0.6, 0.9]},\n",
       "             return_train_score=True, scoring=&#x27;roc_auc&#x27;, verbose=1)</pre><b>In a Jupyter environment, please rerun this cell to show the HTML representation or trust the notebook. <br />On GitHub, the HTML representation is unable to render, please try loading this page with nbviewer.org.</b></div><div class=\"sk-container\" hidden><div class=\"sk-item sk-dashed-wrapped\"><div class=\"sk-label-container\"><div class=\"sk-label sk-toggleable\"><input class=\"sk-toggleable__control sk-hidden--visually\" id=\"sk-estimator-id-7\" type=\"checkbox\" ><label for=\"sk-estimator-id-7\" class=\"sk-toggleable__label sk-toggleable__label-arrow\">GridSearchCV</label><div class=\"sk-toggleable__content\"><pre>GridSearchCV(cv=3,\n",
       "             estimator=GradientBoostingClassifier(max_depth=2, n_estimators=200,\n",
       "                                                  random_state=1),\n",
       "             param_grid={&#x27;learning_rate&#x27;: [0.2, 0.6, 0.9],\n",
       "                         &#x27;subsample&#x27;: [0.3, 0.6, 0.9]},\n",
       "             return_train_score=True, scoring=&#x27;roc_auc&#x27;, verbose=1)</pre></div></div></div><div class=\"sk-parallel\"><div class=\"sk-parallel-item\"><div class=\"sk-item\"><div class=\"sk-label-container\"><div class=\"sk-label sk-toggleable\"><input class=\"sk-toggleable__control sk-hidden--visually\" id=\"sk-estimator-id-8\" type=\"checkbox\" ><label for=\"sk-estimator-id-8\" class=\"sk-toggleable__label sk-toggleable__label-arrow\">estimator: GradientBoostingClassifier</label><div class=\"sk-toggleable__content\"><pre>GradientBoostingClassifier(max_depth=2, n_estimators=200, random_state=1)</pre></div></div></div><div class=\"sk-serial\"><div class=\"sk-item\"><div class=\"sk-estimator sk-toggleable\"><input class=\"sk-toggleable__control sk-hidden--visually\" id=\"sk-estimator-id-9\" type=\"checkbox\" ><label for=\"sk-estimator-id-9\" class=\"sk-toggleable__label sk-toggleable__label-arrow\">GradientBoostingClassifier</label><div class=\"sk-toggleable__content\"><pre>GradientBoostingClassifier(max_depth=2, n_estimators=200, random_state=1)</pre></div></div></div></div></div></div></div></div></div></div>"
      ],
      "text/plain": [
       "GridSearchCV(cv=3,\n",
       "             estimator=GradientBoostingClassifier(max_depth=2, n_estimators=200,\n",
       "                                                  random_state=1),\n",
       "             param_grid={'learning_rate': [0.2, 0.6, 0.9],\n",
       "                         'subsample': [0.3, 0.6, 0.9]},\n",
       "             return_train_score=True, scoring='roc_auc', verbose=1)"
      ]
     },
     "execution_count": 51,
     "metadata": {},
     "output_type": "execute_result"
    }
   ],
   "source": [
    "# CV folds as 3\n",
    "folds = 3\n",
    "\n",
    "#Instantiate grid search with GBC, folds, param_grid and scoring as roc_auc, return_train_score as True and verbose as 1\n",
    "\n",
    "grid_search_GBC = GridSearchCV(GBC,\n",
    "                              cv=folds,\n",
    "                              param_grid=param_grid,\n",
    "                              scoring='roc_auc',\n",
    "                              return_train_score=True,\n",
    "                              verbose=1\n",
    "                              )\n",
    "\n",
    "\n",
    "\n",
    "\n",
    "\n",
    "\n",
    "# grid_search_GBC fit on training data \n",
    "\n",
    "grid_search_GBC.fit(X_train,y_train)\n",
    "\n",
    "\n"
   ]
  },
  {
   "cell_type": "code",
   "execution_count": 53,
   "metadata": {
    "colab": {
     "base_uri": "https://localhost:8080/",
     "height": 485
    },
    "id": "Mm1tYS_iD3U-",
    "outputId": "085bd977-b4ed-429f-f440-d3625ec45112",
    "scrolled": true
   },
   "outputs": [
    {
     "data": {
      "text/html": [
       "<div>\n",
       "<style scoped>\n",
       "    .dataframe tbody tr th:only-of-type {\n",
       "        vertical-align: middle;\n",
       "    }\n",
       "\n",
       "    .dataframe tbody tr th {\n",
       "        vertical-align: top;\n",
       "    }\n",
       "\n",
       "    .dataframe thead th {\n",
       "        text-align: right;\n",
       "    }\n",
       "</style>\n",
       "<table border=\"1\" class=\"dataframe\">\n",
       "  <thead>\n",
       "    <tr style=\"text-align: right;\">\n",
       "      <th></th>\n",
       "      <th>mean_fit_time</th>\n",
       "      <th>std_fit_time</th>\n",
       "      <th>mean_score_time</th>\n",
       "      <th>std_score_time</th>\n",
       "      <th>param_learning_rate</th>\n",
       "      <th>param_subsample</th>\n",
       "      <th>params</th>\n",
       "      <th>split0_test_score</th>\n",
       "      <th>split1_test_score</th>\n",
       "      <th>split2_test_score</th>\n",
       "      <th>mean_test_score</th>\n",
       "      <th>std_test_score</th>\n",
       "      <th>rank_test_score</th>\n",
       "      <th>split0_train_score</th>\n",
       "      <th>split1_train_score</th>\n",
       "      <th>split2_train_score</th>\n",
       "      <th>mean_train_score</th>\n",
       "      <th>std_train_score</th>\n",
       "    </tr>\n",
       "  </thead>\n",
       "  <tbody>\n",
       "    <tr>\n",
       "      <th>0</th>\n",
       "      <td>2.382448</td>\n",
       "      <td>0.006981</td>\n",
       "      <td>0.019229</td>\n",
       "      <td>0.000436</td>\n",
       "      <td>0.2</td>\n",
       "      <td>0.3</td>\n",
       "      <td>{'learning_rate': 0.2, 'subsample': 0.3}</td>\n",
       "      <td>0.777579</td>\n",
       "      <td>0.667045</td>\n",
       "      <td>0.884576</td>\n",
       "      <td>0.776400</td>\n",
       "      <td>0.088811</td>\n",
       "      <td>3</td>\n",
       "      <td>0.848509</td>\n",
       "      <td>0.771451</td>\n",
       "      <td>0.843124</td>\n",
       "      <td>0.821028</td>\n",
       "      <td>0.035125</td>\n",
       "    </tr>\n",
       "    <tr>\n",
       "      <th>1</th>\n",
       "      <td>4.086157</td>\n",
       "      <td>0.018254</td>\n",
       "      <td>0.019462</td>\n",
       "      <td>0.000873</td>\n",
       "      <td>0.2</td>\n",
       "      <td>0.6</td>\n",
       "      <td>{'learning_rate': 0.2, 'subsample': 0.6}</td>\n",
       "      <td>0.880967</td>\n",
       "      <td>0.878957</td>\n",
       "      <td>0.751848</td>\n",
       "      <td>0.837257</td>\n",
       "      <td>0.060399</td>\n",
       "      <td>2</td>\n",
       "      <td>0.905836</td>\n",
       "      <td>0.949851</td>\n",
       "      <td>0.741464</td>\n",
       "      <td>0.865717</td>\n",
       "      <td>0.089679</td>\n",
       "    </tr>\n",
       "    <tr>\n",
       "      <th>2</th>\n",
       "      <td>5.473053</td>\n",
       "      <td>0.017695</td>\n",
       "      <td>0.019415</td>\n",
       "      <td>0.000539</td>\n",
       "      <td>0.2</td>\n",
       "      <td>0.9</td>\n",
       "      <td>{'learning_rate': 0.2, 'subsample': 0.9}</td>\n",
       "      <td>0.799695</td>\n",
       "      <td>0.823715</td>\n",
       "      <td>0.899856</td>\n",
       "      <td>0.841089</td>\n",
       "      <td>0.042696</td>\n",
       "      <td>1</td>\n",
       "      <td>0.858151</td>\n",
       "      <td>0.815856</td>\n",
       "      <td>0.904002</td>\n",
       "      <td>0.859336</td>\n",
       "      <td>0.035995</td>\n",
       "    </tr>\n",
       "    <tr>\n",
       "      <th>3</th>\n",
       "      <td>2.409805</td>\n",
       "      <td>0.014804</td>\n",
       "      <td>0.019329</td>\n",
       "      <td>0.000729</td>\n",
       "      <td>0.6</td>\n",
       "      <td>0.3</td>\n",
       "      <td>{'learning_rate': 0.6, 'subsample': 0.3}</td>\n",
       "      <td>0.712614</td>\n",
       "      <td>0.171713</td>\n",
       "      <td>0.632072</td>\n",
       "      <td>0.505466</td>\n",
       "      <td>0.238279</td>\n",
       "      <td>7</td>\n",
       "      <td>0.617595</td>\n",
       "      <td>0.177567</td>\n",
       "      <td>0.654294</td>\n",
       "      <td>0.483152</td>\n",
       "      <td>0.216600</td>\n",
       "    </tr>\n",
       "    <tr>\n",
       "      <th>4</th>\n",
       "      <td>4.138398</td>\n",
       "      <td>0.015048</td>\n",
       "      <td>0.019712</td>\n",
       "      <td>0.000899</td>\n",
       "      <td>0.6</td>\n",
       "      <td>0.6</td>\n",
       "      <td>{'learning_rate': 0.6, 'subsample': 0.6}</td>\n",
       "      <td>0.489959</td>\n",
       "      <td>0.654872</td>\n",
       "      <td>0.603384</td>\n",
       "      <td>0.582738</td>\n",
       "      <td>0.068890</td>\n",
       "      <td>6</td>\n",
       "      <td>0.452552</td>\n",
       "      <td>0.684572</td>\n",
       "      <td>0.634142</td>\n",
       "      <td>0.590422</td>\n",
       "      <td>0.099639</td>\n",
       "    </tr>\n",
       "  </tbody>\n",
       "</table>\n",
       "</div>"
      ],
      "text/plain": [
       "   mean_fit_time  std_fit_time  mean_score_time  std_score_time  \\\n",
       "0       2.382448      0.006981         0.019229        0.000436   \n",
       "1       4.086157      0.018254         0.019462        0.000873   \n",
       "2       5.473053      0.017695         0.019415        0.000539   \n",
       "3       2.409805      0.014804         0.019329        0.000729   \n",
       "4       4.138398      0.015048         0.019712        0.000899   \n",
       "\n",
       "  param_learning_rate param_subsample  \\\n",
       "0                 0.2             0.3   \n",
       "1                 0.2             0.6   \n",
       "2                 0.2             0.9   \n",
       "3                 0.6             0.3   \n",
       "4                 0.6             0.6   \n",
       "\n",
       "                                     params  split0_test_score  \\\n",
       "0  {'learning_rate': 0.2, 'subsample': 0.3}           0.777579   \n",
       "1  {'learning_rate': 0.2, 'subsample': 0.6}           0.880967   \n",
       "2  {'learning_rate': 0.2, 'subsample': 0.9}           0.799695   \n",
       "3  {'learning_rate': 0.6, 'subsample': 0.3}           0.712614   \n",
       "4  {'learning_rate': 0.6, 'subsample': 0.6}           0.489959   \n",
       "\n",
       "   split1_test_score  split2_test_score  mean_test_score  std_test_score  \\\n",
       "0           0.667045           0.884576         0.776400        0.088811   \n",
       "1           0.878957           0.751848         0.837257        0.060399   \n",
       "2           0.823715           0.899856         0.841089        0.042696   \n",
       "3           0.171713           0.632072         0.505466        0.238279   \n",
       "4           0.654872           0.603384         0.582738        0.068890   \n",
       "\n",
       "   rank_test_score  split0_train_score  split1_train_score  \\\n",
       "0                3            0.848509            0.771451   \n",
       "1                2            0.905836            0.949851   \n",
       "2                1            0.858151            0.815856   \n",
       "3                7            0.617595            0.177567   \n",
       "4                6            0.452552            0.684572   \n",
       "\n",
       "   split2_train_score  mean_train_score  std_train_score  \n",
       "0            0.843124          0.821028         0.035125  \n",
       "1            0.741464          0.865717         0.089679  \n",
       "2            0.904002          0.859336         0.035995  \n",
       "3            0.654294          0.483152         0.216600  \n",
       "4            0.634142          0.590422         0.099639  "
      ]
     },
     "execution_count": 53,
     "metadata": {},
     "output_type": "execute_result"
    }
   ],
   "source": [
    "# cv results\n",
    "\n",
    "cv_results = pd.DataFrame(grid_search_GBC.cv_results_)\n",
    "\n",
    "\n",
    "# print head\n",
    "\n",
    "cv_results.head()\n"
   ]
  },
  {
   "cell_type": "code",
   "execution_count": 56,
   "metadata": {
    "colab": {
     "base_uri": "https://localhost:8080/",
     "height": 350
    },
    "id": "ZEM6khM6D3U-",
    "outputId": "1c7c1c7e-daf0-47ad-8b86-3dd7f8e622ea"
   },
   "outputs": [
    {
     "data": {
      "image/png": "[encoded data removed]",
      "text/plain": [
       "<Figure size 1600x600 with 3 Axes>"
      ]
     },
     "metadata": {},
     "output_type": "display_data"
    }
   ],
   "source": [
    "# # plotting AUC with hyperparameter combinations i.e subsample\n",
    "\n",
    "plt.figure(figsize=(16,6))\n",
    "\n",
    "\n",
    "for n, subsample in enumerate(param_grid['subsample']):\n",
    "    \n",
    "\n",
    "    # subplot 1/n\n",
    "    plt.subplot(1,len(param_grid['subsample']), n+1)\n",
    "    df = cv_results[cv_results['param_subsample']==subsample]\n",
    "    \n",
    "    # plot df[\"param_learning_rate\"] for df[\"mean_test_score\"], df[\"mean_train_score\"\n",
    "    plt.plot(df['param_learning_rate'],df['mean_test_score'])\n",
    "    plt.plot(df['param_learning_rate'],df['mean_train_score'])\n",
    "    plt.xlabel(\"learning_rate\")\n",
    "    plt.ylabel(\"AUC\")\n",
    "    plt.title(\"Subsample :{0}\".format(subsample))\n",
    "    plt.legend([\"test score\",\"train score\"])\n",
    "    plt.ylim([0.6,1])\n",
    "    plt.xscale('log')\n",
    "\n",
    "    \n"
   ]
  },
  {
   "cell_type": "markdown",
   "metadata": {
    "id": "ZCLdKflSD3U_"
   },
   "source": [
    "It is clear from the plot above that the model with a lower subsample ratio performs better, while those with higher subsamples tend to overfit. \n",
    "\n",
    "Also, a lower learning rate results in less overfitting."
   ]
  },
  {
   "cell_type": "code",
   "execution_count": 57,
   "metadata": {
    "colab": {
     "base_uri": "https://localhost:8080/"
    },
    "id": "4fdnUAobRGSx",
    "outputId": "7d7299ae-cecc-4572-8cb8-7b4423beae71"
   },
   "outputs": [
    {
     "data": {
      "text/plain": [
       "array([[9.99759635e-01, 2.40365249e-04],\n",
       "       [9.99683461e-01, 3.16539468e-04],\n",
       "       [9.99385527e-01, 6.14472923e-04],\n",
       "       [9.99790280e-01, 2.09720179e-04],\n",
       "       [9.99189954e-01, 8.10045513e-04],\n",
       "       [9.99824758e-01, 1.75242409e-04],\n",
       "       [9.99618179e-01, 3.81820940e-04],\n",
       "       [9.99712348e-01, 2.87651814e-04],\n",
       "       [9.99781825e-01, 2.18175325e-04],\n",
       "       [9.98997601e-01, 1.00239939e-03]])"
      ]
     },
     "execution_count": 57,
     "metadata": {},
     "output_type": "execute_result"
    }
   ],
   "source": [
    "# fitting GBC training data\n",
    "GBC.fit(X_train,y_train)\n",
    "\n",
    "\n",
    "\n",
    "\n",
    "# predict probabilities on test data\n",
    "predictions = GBC.predict_proba(X_test)\n",
    "\n",
    "\n",
    "# print top 10 prediction probabilities\n",
    "predictions[:10]\n",
    "\n"
   ]
  },
  {
   "cell_type": "code",
   "execution_count": 58,
   "metadata": {
    "colab": {
     "base_uri": "https://localhost:8080/"
    },
    "id": "jdt8L_PrS54b",
    "outputId": "691bffa1-581d-4a0b-b8d4-0d7fa21e5101"
   },
   "outputs": [
    {
     "data": {
      "text/plain": [
       "0.9599148083187171"
      ]
     },
     "execution_count": 58,
     "metadata": {},
     "output_type": "execute_result"
    }
   ],
   "source": [
    "# Calculate roc auc score \n",
    "metrics.roc_auc_score(y_test,predictions[:,1])\n",
    "\n",
    "\n"
   ]
  },
  {
   "cell_type": "markdown",
   "metadata": {
    "id": "D_UuYzsnD3U_"
   },
   "source": [
    "So Gradient boosting also gives us 96% of roc_auc coverage\n",
    "\n",
    "### **`3. XGBoost`**\n",
    "\n",
    "\n",
    "Reference doc:https://www.analyticsvidhya.com/blog/2018/09/an-end-to-end-guide-to-understand-the-math-behind-xgboost/\n",
    "\n",
    "XGBoost is a decision-tree-based ensemble Machine Learning algorithm that uses a gradient boosting framework. In prediction problems involving unstructured data (images, text, etc.) artificial neural networks tend to outperform all other algorithms or frameworks. However, when it comes to small-to-medium structured/tabular data, decision tree based algorithms are considered best-in-class right now. Please see the chart below for the evolution of tree-based algorithms over the years.\n",
    "\n",
    "Let's finally try XGBoost. The hyperparameters are the same, some important ones being ```subsample```, ```learning_rate```, ```max_depth``` etc.\n",
    "\n",
    "Reference video below\n"
   ]
  },
  {
   "cell_type": "markdown",
   "metadata": {
    "id": "oD8NtJBStyO3"
   },
   "source": [
    "## **`Watch Video 4 : XGBOOST Intuition`**"
   ]
  },
  {
   "cell_type": "code",
   "execution_count": 59,
   "metadata": {
    "_cell_guid": "2c974205-ceae-45d7-ac5c-06c49449e772",
    "_uuid": "25d4621636d95e27ee661f4d6a62532671f678b6",
    "colab": {
     "base_uri": "https://localhost:8080/"
    },
    "id": "ENbuiar_D3U_",
    "outputId": "2bf255c0-9d86-43bb-89c4-e276dc9fac3f"
   },
   "outputs": [
    {
     "data": {
      "text/html": [
       "<style>#sk-container-id-4 {color: black;}#sk-container-id-4 pre{padding: 0;}#sk-container-id-4 div.sk-toggleable {background-color: white;}#sk-container-id-4 label.sk-toggleable__label {cursor: pointer;display: block;width: 100%;margin-bottom: 0;padding: 0.3em;box-sizing: border-box;text-align: center;}#sk-container-id-4 label.sk-toggleable__label-arrow:before {content: \"▸\";float: left;margin-right: 0.25em;color: #696969;}#sk-container-id-4 label.sk-toggleable__label-arrow:hover:before {color: black;}#sk-container-id-4 div.sk-estimator:hover label.sk-toggleable__label-arrow:before {color: black;}#sk-container-id-4 div.sk-toggleable__content {max-height: 0;max-width: 0;overflow: hidden;text-align: left;background-color: #f0f8ff;}#sk-container-id-4 div.sk-toggleable__content pre {margin: 0.2em;color: black;border-radius: 0.25em;background-color: #f0f8ff;}#sk-container-id-4 input.sk-toggleable__control:checked~div.sk-toggleable__content {max-height: 200px;max-width: 100%;overflow: auto;}#sk-container-id-4 input.sk-toggleable__control:checked~label.sk-toggleable__label-arrow:before {content: \"▾\";}#sk-container-id-4 div.sk-estimator input.sk-toggleable__control:checked~label.sk-toggleable__label {background-color: #d4ebff;}#sk-container-id-4 div.sk-label input.sk-toggleable__control:checked~label.sk-toggleable__label {background-color: #d4ebff;}#sk-container-id-4 input.sk-hidden--visually {border: 0;clip: rect(1px 1px 1px 1px);clip: rect(1px, 1px, 1px, 1px);height: 1px;margin: -1px;overflow: hidden;padding: 0;position: absolute;width: 1px;}#sk-container-id-4 div.sk-estimator {font-family: monospace;background-color: #f0f8ff;border: 1px dotted black;border-radius: 0.25em;box-sizing: border-box;margin-bottom: 0.5em;}#sk-container-id-4 div.sk-estimator:hover {background-color: #d4ebff;}#sk-container-id-4 div.sk-parallel-item::after {content: \"\";width: 100%;border-bottom: 1px solid gray;flex-grow: 1;}#sk-container-id-4 div.sk-label:hover label.sk-toggleable__label {background-color: #d4ebff;}#sk-container-id-4 div.sk-serial::before {content: \"\";position: absolute;border-left: 1px solid gray;box-sizing: border-box;top: 0;bottom: 0;left: 50%;z-index: 0;}#sk-container-id-4 div.sk-serial {display: flex;flex-direction: column;align-items: center;background-color: white;padding-right: 0.2em;padding-left: 0.2em;position: relative;}#sk-container-id-4 div.sk-item {position: relative;z-index: 1;}#sk-container-id-4 div.sk-parallel {display: flex;align-items: stretch;justify-content: center;background-color: white;position: relative;}#sk-container-id-4 div.sk-item::before, #sk-container-id-4 div.sk-parallel-item::before {content: \"\";position: absolute;border-left: 1px solid gray;box-sizing: border-box;top: 0;bottom: 0;left: 50%;z-index: -1;}#sk-container-id-4 div.sk-parallel-item {display: flex;flex-direction: column;z-index: 1;position: relative;background-color: white;}#sk-container-id-4 div.sk-parallel-item:first-child::after {align-self: flex-end;width: 50%;}#sk-container-id-4 div.sk-parallel-item:last-child::after {align-self: flex-start;width: 50%;}#sk-container-id-4 div.sk-parallel-item:only-child::after {width: 0;}#sk-container-id-4 div.sk-dashed-wrapped {border: 1px dashed gray;margin: 0 0.4em 0.5em 0.4em;box-sizing: border-box;padding-bottom: 0.4em;background-color: white;}#sk-container-id-4 div.sk-label label {font-family: monospace;font-weight: bold;display: inline-block;line-height: 1.2em;}#sk-container-id-4 div.sk-label-container {text-align: center;}#sk-container-id-4 div.sk-container {/* jupyter's `normalize.less` sets `[hidden] { display: none; }` but bootstrap.min.css set `[hidden] { display: none !important; }` so we also need the `!important` here to be able to override the default hidden behavior on the sphinx rendered scikit-learn.org. See: https://github.com/scikit-learn/scikit-learn/issues/21755 */display: inline-block !important;position: relative;}#sk-container-id-4 div.sk-text-repr-fallback {display: none;}</style><div id=\"sk-container-id-4\" class=\"sk-top-container\"><div class=\"sk-text-repr-fallback\"><pre>XGBClassifier(base_score=None, booster=None, callbacks=None,\n",
       "              colsample_bylevel=None, colsample_bynode=None,\n",
       "              colsample_bytree=None, device=None, early_stopping_rounds=None,\n",
       "              enable_categorical=False, eval_metric=None, feature_types=None,\n",
       "              gamma=None, grow_policy=None, importance_type=None,\n",
       "              interaction_constraints=None, learning_rate=None, max_bin=None,\n",
       "              max_cat_threshold=None, max_cat_to_onehot=None,\n",
       "              max_delta_step=None, max_depth=None, max_leaves=None,\n",
       "              min_child_weight=None, missing=nan, monotone_constraints=None,\n",
       "              multi_strategy=None, n_estimators=None, n_jobs=None,\n",
       "              num_parallel_tree=None, random_state=1, ...)</pre><b>In a Jupyter environment, please rerun this cell to show the HTML representation or trust the notebook. <br />On GitHub, the HTML representation is unable to render, please try loading this page with nbviewer.org.</b></div><div class=\"sk-container\" hidden><div class=\"sk-item\"><div class=\"sk-estimator sk-toggleable\"><input class=\"sk-toggleable__control sk-hidden--visually\" id=\"sk-estimator-id-10\" type=\"checkbox\" checked><label for=\"sk-estimator-id-10\" class=\"sk-toggleable__label sk-toggleable__label-arrow\">XGBClassifier</label><div class=\"sk-toggleable__content\"><pre>XGBClassifier(base_score=None, booster=None, callbacks=None,\n",
       "              colsample_bylevel=None, colsample_bynode=None,\n",
       "              colsample_bytree=None, device=None, early_stopping_rounds=None,\n",
       "              enable_categorical=False, eval_metric=None, feature_types=None,\n",
       "              gamma=None, grow_policy=None, importance_type=None,\n",
       "              interaction_constraints=None, learning_rate=None, max_bin=None,\n",
       "              max_cat_threshold=None, max_cat_to_onehot=None,\n",
       "              max_delta_step=None, max_depth=None, max_leaves=None,\n",
       "              min_child_weight=None, missing=nan, monotone_constraints=None,\n",
       "              multi_strategy=None, n_estimators=None, n_jobs=None,\n",
       "              num_parallel_tree=None, random_state=1, ...)</pre></div></div></div></div></div>"
      ],
      "text/plain": [
       "XGBClassifier(base_score=None, booster=None, callbacks=None,\n",
       "              colsample_bylevel=None, colsample_bynode=None,\n",
       "              colsample_bytree=None, device=None, early_stopping_rounds=None,\n",
       "              enable_categorical=False, eval_metric=None, feature_types=None,\n",
       "              gamma=None, grow_policy=None, importance_type=None,\n",
       "              interaction_constraints=None, learning_rate=None, max_bin=None,\n",
       "              max_cat_threshold=None, max_cat_to_onehot=None,\n",
       "              max_delta_step=None, max_depth=None, max_leaves=None,\n",
       "              min_child_weight=None, missing=nan, monotone_constraints=None,\n",
       "              multi_strategy=None, n_estimators=None, n_jobs=None,\n",
       "              num_parallel_tree=None, random_state=1, ...)"
      ]
     },
     "execution_count": 59,
     "metadata": {},
     "output_type": "execute_result"
    }
   ],
   "source": [
    "# Instantiate XGBClassifier with default hyperparameters and random_state=1\n",
    "model =XGBClassifier(random_state=1) \n",
    "\n",
    " \n",
    "# fit model on training data\n",
    "model.fit(X_train,y_train)\n",
    "\n",
    "\n"
   ]
  },
  {
   "cell_type": "markdown",
   "metadata": {
    "id": "kOjxFItyD3VA"
   },
   "source": [
    "Make predictions for test data\n"
   ]
  },
  {
   "cell_type": "code",
   "execution_count": 60,
   "metadata": {
    "_cell_guid": "3d7ecd8f-856e-4405-9251-4128a31501b4",
    "_uuid": "92d6a9195af92f42514cbeec09585b083bc304cf",
    "colab": {
     "base_uri": "https://localhost:8080/"
    },
    "id": "jc4iDFrGD3VA",
    "outputId": "a206707d-3f82-4adc-b640-4000a6691cb8"
   },
   "outputs": [
    {
     "data": {
      "text/plain": [
       "array([[9.9999762e-01, 2.3850384e-06],\n",
       "       [9.9997681e-01, 2.3205019e-05],\n",
       "       [9.9999285e-01, 7.1295767e-06],\n",
       "       [9.9978524e-01, 2.1477159e-04],\n",
       "       [9.9994248e-01, 5.7545258e-05],\n",
       "       [9.9999696e-01, 3.0614756e-06],\n",
       "       [9.9992359e-01, 7.6433542e-05],\n",
       "       [9.9999708e-01, 2.9036298e-06],\n",
       "       [9.9962950e-01, 3.7048370e-04],\n",
       "       [9.9869585e-01, 1.3041229e-03]], dtype=float32)"
      ]
     },
     "execution_count": 60,
     "metadata": {},
     "output_type": "execute_result"
    }
   ],
   "source": [
    "# use predict_proba since we need probabilities to compute auc\n",
    "y_pred = model.predict_proba(X_test)\n",
    "\n",
    "\n",
    "\n",
    "#print top 10 y_pred result\n",
    "\n",
    "y_pred[:10]\n",
    "\n"
   ]
  },
  {
   "cell_type": "code",
   "execution_count": 61,
   "metadata": {
    "_cell_guid": "26c5a5e3-b0ab-4b38-b31e-02aa2f94b6d2",
    "_uuid": "6761becf4d2447a77b9df32f7bb36b9331a16234",
    "colab": {
     "base_uri": "https://localhost:8080/"
    },
    "id": "_9soR1CLD3VA",
    "outputId": "75fbf13b-8ece-4d9f-a78a-7468a6d03609"
   },
   "outputs": [
    {
     "data": {
      "text/plain": [
       "0.9504139870263649"
      ]
     },
     "execution_count": 61,
     "metadata": {},
     "output_type": "execute_result"
    }
   ],
   "source": [
    "# evaluate predictions using roc_auc score\n",
    "roc = metrics.roc_auc_score(y_test,y_pred[:,1])\n",
    "\n",
    "\n",
    "# print AUC\n",
    "roc\n",
    "\n",
    "\n"
   ]
  },
  {
   "cell_type": "markdown",
   "metadata": {
    "_cell_guid": "b1724bd9-058a-428a-8052-67fb1eaf4e71",
    "_uuid": "9966ae6ab65c76abfa72e8d9503959a21665072d",
    "id": "D0R5HGVmD3VB"
   },
   "source": [
    "The roc_auc in this case is about 0.95% with default hyperparameters. Let's try changing the hyperparameters - an exhaustive list of XGBoost hyperparameters is here: http://xgboost.readthedocs.io/en/latest/parameter.html\n"
   ]
  },
  {
   "cell_type": "markdown",
   "metadata": {
    "_cell_guid": "2b2f8b31-33e9-454e-9393-263e628c3719",
    "_uuid": "309df6cbd77f3c31140606f4e0b620db53b87f35",
    "id": "uW5ayn7oD3VB"
   },
   "source": [
    "Let's now try tuning the hyperparameters using k-fold CV. We'll then use grid search CV to find the optimal values of hyperparameters."
   ]
  },
  {
   "cell_type": "code",
   "execution_count": 68,
   "metadata": {
    "_cell_guid": "06427904-5c5e-4e36-bef9-1cf74e1be8c6",
    "_uuid": "7189e86b264593e6946cac56b267f38640257c49",
    "id": "cELevyotD3VB"
   },
   "outputs": [],
   "source": [
    "# hyperparameter tuning with XGBoost\n",
    "\n",
    "# creating a KFold object( 3 )\n",
    "folds = 3\n",
    "\n",
    "# specify range of hyperparameters with learning_rate as [0.2, 0.6] ans subsample as [0.3, 0.6, 0.9]\n",
    "param_grid ={\"learning_rate\":[0.2, 0.6],\n",
    "            \"subsample\":[0.3, 0.6, 0.9]}\n",
    "\n",
    "\n",
    "\n",
    "\n",
    "# specify model with max_depth as 2 and n_estimators as 200 and random_state as 1\n",
    "xgb_model = XGBClassifier(max_depth=2,\n",
    "                         n_estimator=200,random_state=1)\n",
    "\n",
    "\n",
    "\n",
    "\n",
    "# set up GridSearchCV() with xgb_model, param_grid, folds, return_train_score and verbose as 1\n",
    "model_cv = GridSearchCV(xgb_model,\n",
    "                       param_grid,\n",
    "                       cv=folds,\n",
    "                       scoring=\"roc_auc\",\n",
    "                       return_train_score=True,\n",
    "                       verbose=1)\n",
    "\n",
    "\n",
    "\n",
    "\n"
   ]
  },
  {
   "cell_type": "code",
   "execution_count": 69,
   "metadata": {
    "_cell_guid": "bfbc46d5-708a-477c-bd72-7722bf09e6ba",
    "_uuid": "dd828f9d6467b353a835f4163fcda0e6d662c24b",
    "colab": {
     "base_uri": "https://localhost:8080/"
    },
    "id": "IIvxhmnKD3VB",
    "outputId": "5744f069-30bd-4d87-9372-d51453d1c8b1"
   },
   "outputs": [
    {
     "name": "stdout",
     "output_type": "stream",
     "text": [
      "Fitting 3 folds for each of 6 candidates, totalling 18 fits\n"
     ]
    },
    {
     "data": {
      "text/html": [
       "<style>#sk-container-id-6 {color: black;}#sk-container-id-6 pre{padding: 0;}#sk-container-id-6 div.sk-toggleable {background-color: white;}#sk-container-id-6 label.sk-toggleable__label {cursor: pointer;display: block;width: 100%;margin-bottom: 0;padding: 0.3em;box-sizing: border-box;text-align: center;}#sk-container-id-6 label.sk-toggleable__label-arrow:before {content: \"▸\";float: left;margin-right: 0.25em;color: #696969;}#sk-container-id-6 label.sk-toggleable__label-arrow:hover:before {color: black;}#sk-container-id-6 div.sk-estimator:hover label.sk-toggleable__label-arrow:before {color: black;}#sk-container-id-6 div.sk-toggleable__content {max-height: 0;max-width: 0;overflow: hidden;text-align: left;background-color: #f0f8ff;}#sk-container-id-6 div.sk-toggleable__content pre {margin: 0.2em;color: black;border-radius: 0.25em;background-color: #f0f8ff;}#sk-container-id-6 input.sk-toggleable__control:checked~div.sk-toggleable__content {max-height: 200px;max-width: 100%;overflow: auto;}#sk-container-id-6 input.sk-toggleable__control:checked~label.sk-toggleable__label-arrow:before {content: \"▾\";}#sk-container-id-6 div.sk-estimator input.sk-toggleable__control:checked~label.sk-toggleable__label {background-color: #d4ebff;}#sk-container-id-6 div.sk-label input.sk-toggleable__control:checked~label.sk-toggleable__label {background-color: #d4ebff;}#sk-container-id-6 input.sk-hidden--visually {border: 0;clip: rect(1px 1px 1px 1px);clip: rect(1px, 1px, 1px, 1px);height: 1px;margin: -1px;overflow: hidden;padding: 0;position: absolute;width: 1px;}#sk-container-id-6 div.sk-estimator {font-family: monospace;background-color: #f0f8ff;border: 1px dotted black;border-radius: 0.25em;box-sizing: border-box;margin-bottom: 0.5em;}#sk-container-id-6 div.sk-estimator:hover {background-color: #d4ebff;}#sk-container-id-6 div.sk-parallel-item::after {content: \"\";width: 100%;border-bottom: 1px solid gray;flex-grow: 1;}#sk-container-id-6 div.sk-label:hover label.sk-toggleable__label {background-color: #d4ebff;}#sk-container-id-6 div.sk-serial::before {content: \"\";position: absolute;border-left: 1px solid gray;box-sizing: border-box;top: 0;bottom: 0;left: 50%;z-index: 0;}#sk-container-id-6 div.sk-serial {display: flex;flex-direction: column;align-items: center;background-color: white;padding-right: 0.2em;padding-left: 0.2em;position: relative;}#sk-container-id-6 div.sk-item {position: relative;z-index: 1;}#sk-container-id-6 div.sk-parallel {display: flex;align-items: stretch;justify-content: center;background-color: white;position: relative;}#sk-container-id-6 div.sk-item::before, #sk-container-id-6 div.sk-parallel-item::before {content: \"\";position: absolute;border-left: 1px solid gray;box-sizing: border-box;top: 0;bottom: 0;left: 50%;z-index: -1;}#sk-container-id-6 div.sk-parallel-item {display: flex;flex-direction: column;z-index: 1;position: relative;background-color: white;}#sk-container-id-6 div.sk-parallel-item:first-child::after {align-self: flex-end;width: 50%;}#sk-container-id-6 div.sk-parallel-item:last-child::after {align-self: flex-start;width: 50%;}#sk-container-id-6 div.sk-parallel-item:only-child::after {width: 0;}#sk-container-id-6 div.sk-dashed-wrapped {border: 1px dashed gray;margin: 0 0.4em 0.5em 0.4em;box-sizing: border-box;padding-bottom: 0.4em;background-color: white;}#sk-container-id-6 div.sk-label label {font-family: monospace;font-weight: bold;display: inline-block;line-height: 1.2em;}#sk-container-id-6 div.sk-label-container {text-align: center;}#sk-container-id-6 div.sk-container {/* jupyter's `normalize.less` sets `[hidden] { display: none; }` but bootstrap.min.css set `[hidden] { display: none !important; }` so we also need the `!important` here to be able to override the default hidden behavior on the sphinx rendered scikit-learn.org. See: https://github.com/scikit-learn/scikit-learn/issues/21755 */display: inline-block !important;position: relative;}#sk-container-id-6 div.sk-text-repr-fallback {display: none;}</style><div id=\"sk-container-id-6\" class=\"sk-top-container\"><div class=\"sk-text-repr-fallback\"><pre>GridSearchCV(cv=3,\n",
       "             estimator=XGBClassifier(base_score=None, booster=None,\n",
       "                                     callbacks=None, colsample_bylevel=None,\n",
       "                                     colsample_bynode=None,\n",
       "                                     colsample_bytree=None, device=None,\n",
       "                                     early_stopping_rounds=None,\n",
       "                                     enable_categorical=False, eval_metric=None,\n",
       "                                     feature_types=None, gamma=None,\n",
       "                                     grow_policy=None, importance_type=None,\n",
       "                                     interaction_constraints=None,\n",
       "                                     learning_rate=None,...\n",
       "                                     max_cat_threshold=None,\n",
       "                                     max_cat_to_onehot=None,\n",
       "                                     max_delta_step=None, max_depth=2,\n",
       "                                     max_leaves=None, min_child_weight=None,\n",
       "                                     missing=nan, monotone_constraints=None,\n",
       "                                     multi_strategy=None, n_estimator=200,\n",
       "                                     n_estimators=None, n_jobs=None,\n",
       "                                     num_parallel_tree=None, ...),\n",
       "             param_grid={&#x27;learning_rate&#x27;: [0.2, 0.6],\n",
       "                         &#x27;subsample&#x27;: [0.3, 0.6, 0.9]},\n",
       "             return_train_score=True, scoring=&#x27;roc_auc&#x27;, verbose=1)</pre><b>In a Jupyter environment, please rerun this cell to show the HTML representation or trust the notebook. <br />On GitHub, the HTML representation is unable to render, please try loading this page with nbviewer.org.</b></div><div class=\"sk-container\" hidden><div class=\"sk-item sk-dashed-wrapped\"><div class=\"sk-label-container\"><div class=\"sk-label sk-toggleable\"><input class=\"sk-toggleable__control sk-hidden--visually\" id=\"sk-estimator-id-14\" type=\"checkbox\" ><label for=\"sk-estimator-id-14\" class=\"sk-toggleable__label sk-toggleable__label-arrow\">GridSearchCV</label><div class=\"sk-toggleable__content\"><pre>GridSearchCV(cv=3,\n",
       "             estimator=XGBClassifier(base_score=None, booster=None,\n",
       "                                     callbacks=None, colsample_bylevel=None,\n",
       "                                     colsample_bynode=None,\n",
       "                                     colsample_bytree=None, device=None,\n",
       "                                     early_stopping_rounds=None,\n",
       "                                     enable_categorical=False, eval_metric=None,\n",
       "                                     feature_types=None, gamma=None,\n",
       "                                     grow_policy=None, importance_type=None,\n",
       "                                     interaction_constraints=None,\n",
       "                                     learning_rate=None,...\n",
       "                                     max_cat_threshold=None,\n",
       "                                     max_cat_to_onehot=None,\n",
       "                                     max_delta_step=None, max_depth=2,\n",
       "                                     max_leaves=None, min_child_weight=None,\n",
       "                                     missing=nan, monotone_constraints=None,\n",
       "                                     multi_strategy=None, n_estimator=200,\n",
       "                                     n_estimators=None, n_jobs=None,\n",
       "                                     num_parallel_tree=None, ...),\n",
       "             param_grid={&#x27;learning_rate&#x27;: [0.2, 0.6],\n",
       "                         &#x27;subsample&#x27;: [0.3, 0.6, 0.9]},\n",
       "             return_train_score=True, scoring=&#x27;roc_auc&#x27;, verbose=1)</pre></div></div></div><div class=\"sk-parallel\"><div class=\"sk-parallel-item\"><div class=\"sk-item\"><div class=\"sk-label-container\"><div class=\"sk-label sk-toggleable\"><input class=\"sk-toggleable__control sk-hidden--visually\" id=\"sk-estimator-id-15\" type=\"checkbox\" ><label for=\"sk-estimator-id-15\" class=\"sk-toggleable__label sk-toggleable__label-arrow\">estimator: XGBClassifier</label><div class=\"sk-toggleable__content\"><pre>XGBClassifier(base_score=None, booster=None, callbacks=None,\n",
       "              colsample_bylevel=None, colsample_bynode=None,\n",
       "              colsample_bytree=None, device=None, early_stopping_rounds=None,\n",
       "              enable_categorical=False, eval_metric=None, feature_types=None,\n",
       "              gamma=None, grow_policy=None, importance_type=None,\n",
       "              interaction_constraints=None, learning_rate=None, max_bin=None,\n",
       "              max_cat_threshold=None, max_cat_to_onehot=None,\n",
       "              max_delta_step=None, max_depth=2, max_leaves=None,\n",
       "              min_child_weight=None, missing=nan, monotone_constraints=None,\n",
       "              multi_strategy=None, n_estimator=200, n_estimators=None,\n",
       "              n_jobs=None, num_parallel_tree=None, ...)</pre></div></div></div><div class=\"sk-serial\"><div class=\"sk-item\"><div class=\"sk-estimator sk-toggleable\"><input class=\"sk-toggleable__control sk-hidden--visually\" id=\"sk-estimator-id-16\" type=\"checkbox\" ><label for=\"sk-estimator-id-16\" class=\"sk-toggleable__label sk-toggleable__label-arrow\">XGBClassifier</label><div class=\"sk-toggleable__content\"><pre>XGBClassifier(base_score=None, booster=None, callbacks=None,\n",
       "              colsample_bylevel=None, colsample_bynode=None,\n",
       "              colsample_bytree=None, device=None, early_stopping_rounds=None,\n",
       "              enable_categorical=False, eval_metric=None, feature_types=None,\n",
       "              gamma=None, grow_policy=None, importance_type=None,\n",
       "              interaction_constraints=None, learning_rate=None, max_bin=None,\n",
       "              max_cat_threshold=None, max_cat_to_onehot=None,\n",
       "              max_delta_step=None, max_depth=2, max_leaves=None,\n",
       "              min_child_weight=None, missing=nan, monotone_constraints=None,\n",
       "              multi_strategy=None, n_estimator=200, n_estimators=None,\n",
       "              n_jobs=None, num_parallel_tree=None, ...)</pre></div></div></div></div></div></div></div></div></div></div>"
      ],
      "text/plain": [
       "GridSearchCV(cv=3,\n",
       "             estimator=XGBClassifier(base_score=None, booster=None,\n",
       "                                     callbacks=None, colsample_bylevel=None,\n",
       "                                     colsample_bynode=None,\n",
       "                                     colsample_bytree=None, device=None,\n",
       "                                     early_stopping_rounds=None,\n",
       "                                     enable_categorical=False, eval_metric=None,\n",
       "                                     feature_types=None, gamma=None,\n",
       "                                     grow_policy=None, importance_type=None,\n",
       "                                     interaction_constraints=None,\n",
       "                                     learning_rate=None,...\n",
       "                                     max_cat_threshold=None,\n",
       "                                     max_cat_to_onehot=None,\n",
       "                                     max_delta_step=None, max_depth=2,\n",
       "                                     max_leaves=None, min_child_weight=None,\n",
       "                                     missing=nan, monotone_constraints=None,\n",
       "                                     multi_strategy=None, n_estimator=200,\n",
       "                                     n_estimators=None, n_jobs=None,\n",
       "                                     num_parallel_tree=None, ...),\n",
       "             param_grid={'learning_rate': [0.2, 0.6],\n",
       "                         'subsample': [0.3, 0.6, 0.9]},\n",
       "             return_train_score=True, scoring='roc_auc', verbose=1)"
      ]
     },
     "execution_count": 69,
     "metadata": {},
     "output_type": "execute_result"
    }
   ],
   "source": [
    "# fit the model_cv on training data\n",
    "model_cv.fit(X_train,y_train)\n",
    "\n",
    "\n",
    "\n"
   ]
  },
  {
   "cell_type": "code",
   "execution_count": 70,
   "metadata": {
    "_cell_guid": "f858e220-b38f-41e2-b083-06d8f5eb742b",
    "_uuid": "afd9d9144b8f8817cdc03b1a1f568f920650a48b",
    "colab": {
     "base_uri": "https://localhost:8080/",
     "height": 567
    },
    "id": "JdN7so49D3VC",
    "outputId": "a3600638-e509-4832-f4d5-32c6c03f5709",
    "scrolled": true
   },
   "outputs": [
    {
     "data": {
      "text/html": [
       "<div>\n",
       "<style scoped>\n",
       "    .dataframe tbody tr th:only-of-type {\n",
       "        vertical-align: middle;\n",
       "    }\n",
       "\n",
       "    .dataframe tbody tr th {\n",
       "        vertical-align: top;\n",
       "    }\n",
       "\n",
       "    .dataframe thead th {\n",
       "        text-align: right;\n",
       "    }\n",
       "</style>\n",
       "<table border=\"1\" class=\"dataframe\">\n",
       "  <thead>\n",
       "    <tr style=\"text-align: right;\">\n",
       "      <th></th>\n",
       "      <th>mean_fit_time</th>\n",
       "      <th>std_fit_time</th>\n",
       "      <th>mean_score_time</th>\n",
       "      <th>std_score_time</th>\n",
       "      <th>param_learning_rate</th>\n",
       "      <th>param_subsample</th>\n",
       "      <th>params</th>\n",
       "      <th>split0_test_score</th>\n",
       "      <th>split1_test_score</th>\n",
       "      <th>split2_test_score</th>\n",
       "      <th>mean_test_score</th>\n",
       "      <th>std_test_score</th>\n",
       "      <th>rank_test_score</th>\n",
       "      <th>split0_train_score</th>\n",
       "      <th>split1_train_score</th>\n",
       "      <th>split2_train_score</th>\n",
       "      <th>mean_train_score</th>\n",
       "      <th>std_train_score</th>\n",
       "    </tr>\n",
       "  </thead>\n",
       "  <tbody>\n",
       "    <tr>\n",
       "      <th>0</th>\n",
       "      <td>0.099275</td>\n",
       "      <td>0.002380</td>\n",
       "      <td>0.011357</td>\n",
       "      <td>0.000082</td>\n",
       "      <td>0.2</td>\n",
       "      <td>0.3</td>\n",
       "      <td>{'learning_rate': 0.2, 'subsample': 0.3}</td>\n",
       "      <td>0.927506</td>\n",
       "      <td>0.974830</td>\n",
       "      <td>0.943358</td>\n",
       "      <td>0.948564</td>\n",
       "      <td>0.019668</td>\n",
       "      <td>4</td>\n",
       "      <td>0.982558</td>\n",
       "      <td>0.972479</td>\n",
       "      <td>0.985376</td>\n",
       "      <td>0.980138</td>\n",
       "      <td>0.005536</td>\n",
       "    </tr>\n",
       "    <tr>\n",
       "      <th>1</th>\n",
       "      <td>0.111710</td>\n",
       "      <td>0.007441</td>\n",
       "      <td>0.009635</td>\n",
       "      <td>0.000738</td>\n",
       "      <td>0.2</td>\n",
       "      <td>0.6</td>\n",
       "      <td>{'learning_rate': 0.2, 'subsample': 0.6}</td>\n",
       "      <td>0.935579</td>\n",
       "      <td>0.968116</td>\n",
       "      <td>0.955419</td>\n",
       "      <td>0.953038</td>\n",
       "      <td>0.013389</td>\n",
       "      <td>2</td>\n",
       "      <td>0.982628</td>\n",
       "      <td>0.973828</td>\n",
       "      <td>0.982017</td>\n",
       "      <td>0.979491</td>\n",
       "      <td>0.004012</td>\n",
       "    </tr>\n",
       "    <tr>\n",
       "      <th>2</th>\n",
       "      <td>0.100672</td>\n",
       "      <td>0.004863</td>\n",
       "      <td>0.011180</td>\n",
       "      <td>0.001990</td>\n",
       "      <td>0.2</td>\n",
       "      <td>0.9</td>\n",
       "      <td>{'learning_rate': 0.2, 'subsample': 0.9}</td>\n",
       "      <td>0.937951</td>\n",
       "      <td>0.973816</td>\n",
       "      <td>0.954680</td>\n",
       "      <td>0.955483</td>\n",
       "      <td>0.014653</td>\n",
       "      <td>1</td>\n",
       "      <td>0.985764</td>\n",
       "      <td>0.974770</td>\n",
       "      <td>0.986254</td>\n",
       "      <td>0.982263</td>\n",
       "      <td>0.005302</td>\n",
       "    </tr>\n",
       "    <tr>\n",
       "      <th>3</th>\n",
       "      <td>0.097349</td>\n",
       "      <td>0.003360</td>\n",
       "      <td>0.009807</td>\n",
       "      <td>0.000622</td>\n",
       "      <td>0.6</td>\n",
       "      <td>0.3</td>\n",
       "      <td>{'learning_rate': 0.6, 'subsample': 0.3}</td>\n",
       "      <td>0.906716</td>\n",
       "      <td>0.946598</td>\n",
       "      <td>0.950972</td>\n",
       "      <td>0.934762</td>\n",
       "      <td>0.019912</td>\n",
       "      <td>6</td>\n",
       "      <td>0.986747</td>\n",
       "      <td>0.990250</td>\n",
       "      <td>0.990589</td>\n",
       "      <td>0.989195</td>\n",
       "      <td>0.001737</td>\n",
       "    </tr>\n",
       "    <tr>\n",
       "      <th>4</th>\n",
       "      <td>0.094211</td>\n",
       "      <td>0.003240</td>\n",
       "      <td>0.010890</td>\n",
       "      <td>0.000722</td>\n",
       "      <td>0.6</td>\n",
       "      <td>0.6</td>\n",
       "      <td>{'learning_rate': 0.6, 'subsample': 0.6}</td>\n",
       "      <td>0.907693</td>\n",
       "      <td>0.964948</td>\n",
       "      <td>0.968986</td>\n",
       "      <td>0.947209</td>\n",
       "      <td>0.027991</td>\n",
       "      <td>5</td>\n",
       "      <td>0.997354</td>\n",
       "      <td>0.993893</td>\n",
       "      <td>0.994936</td>\n",
       "      <td>0.995394</td>\n",
       "      <td>0.001450</td>\n",
       "    </tr>\n",
       "    <tr>\n",
       "      <th>5</th>\n",
       "      <td>0.087392</td>\n",
       "      <td>0.001392</td>\n",
       "      <td>0.010731</td>\n",
       "      <td>0.001875</td>\n",
       "      <td>0.6</td>\n",
       "      <td>0.9</td>\n",
       "      <td>{'learning_rate': 0.6, 'subsample': 0.9}</td>\n",
       "      <td>0.927478</td>\n",
       "      <td>0.963988</td>\n",
       "      <td>0.957923</td>\n",
       "      <td>0.949796</td>\n",
       "      <td>0.015975</td>\n",
       "      <td>3</td>\n",
       "      <td>0.996446</td>\n",
       "      <td>0.995915</td>\n",
       "      <td>0.997066</td>\n",
       "      <td>0.996475</td>\n",
       "      <td>0.000470</td>\n",
       "    </tr>\n",
       "  </tbody>\n",
       "</table>\n",
       "</div>"
      ],
      "text/plain": [
       "   mean_fit_time  std_fit_time  mean_score_time  std_score_time  \\\n",
       "0       0.099275      0.002380         0.011357        0.000082   \n",
       "1       0.111710      0.007441         0.009635        0.000738   \n",
       "2       0.100672      0.004863         0.011180        0.001990   \n",
       "3       0.097349      0.003360         0.009807        0.000622   \n",
       "4       0.094211      0.003240         0.010890        0.000722   \n",
       "5       0.087392      0.001392         0.010731        0.001875   \n",
       "\n",
       "  param_learning_rate param_subsample  \\\n",
       "0                 0.2             0.3   \n",
       "1                 0.2             0.6   \n",
       "2                 0.2             0.9   \n",
       "3                 0.6             0.3   \n",
       "4                 0.6             0.6   \n",
       "5                 0.6             0.9   \n",
       "\n",
       "                                     params  split0_test_score  \\\n",
       "0  {'learning_rate': 0.2, 'subsample': 0.3}           0.927506   \n",
       "1  {'learning_rate': 0.2, 'subsample': 0.6}           0.935579   \n",
       "2  {'learning_rate': 0.2, 'subsample': 0.9}           0.937951   \n",
       "3  {'learning_rate': 0.6, 'subsample': 0.3}           0.906716   \n",
       "4  {'learning_rate': 0.6, 'subsample': 0.6}           0.907693   \n",
       "5  {'learning_rate': 0.6, 'subsample': 0.9}           0.927478   \n",
       "\n",
       "   split1_test_score  split2_test_score  mean_test_score  std_test_score  \\\n",
       "0           0.974830           0.943358         0.948564        0.019668   \n",
       "1           0.968116           0.955419         0.953038        0.013389   \n",
       "2           0.973816           0.954680         0.955483        0.014653   \n",
       "3           0.946598           0.950972         0.934762        0.019912   \n",
       "4           0.964948           0.968986         0.947209        0.027991   \n",
       "5           0.963988           0.957923         0.949796        0.015975   \n",
       "\n",
       "   rank_test_score  split0_train_score  split1_train_score  \\\n",
       "0                4            0.982558            0.972479   \n",
       "1                2            0.982628            0.973828   \n",
       "2                1            0.985764            0.974770   \n",
       "3                6            0.986747            0.990250   \n",
       "4                5            0.997354            0.993893   \n",
       "5                3            0.996446            0.995915   \n",
       "\n",
       "   split2_train_score  mean_train_score  std_train_score  \n",
       "0            0.985376          0.980138         0.005536  \n",
       "1            0.982017          0.979491         0.004012  \n",
       "2            0.986254          0.982263         0.005302  \n",
       "3            0.990589          0.989195         0.001737  \n",
       "4            0.994936          0.995394         0.001450  \n",
       "5            0.997066          0.996475         0.000470  "
      ]
     },
     "execution_count": 70,
     "metadata": {},
     "output_type": "execute_result"
    }
   ],
   "source": [
    "# Get cv results as datafame\n",
    "cv_results =pd.DataFrame( model_cv.cv_results_)\n",
    "\n",
    "\n",
    "# print cv_results\n",
    "cv_results\n"
   ]
  },
  {
   "cell_type": "markdown",
   "metadata": {
    "id": "DhdqhKH7D3VC"
   },
   "source": [
    "Convert parameters to int for plotting on x-axis\n"
   ]
  },
  {
   "cell_type": "code",
   "execution_count": 71,
   "metadata": {
    "_cell_guid": "fdb04f9e-4ada-4413-a8ae-a8bbb2cf2fac",
    "_uuid": "6e4a1bf2aea84e1361fd3234c228991273fa3ac5",
    "colab": {
     "base_uri": "https://localhost:8080/",
     "height": 350
    },
    "id": "e5o4sgkTD3VD",
    "outputId": "0c1b9d09-210f-42e6-c483-65f8971f98f0"
   },
   "outputs": [
    {
     "data": {
      "image/png": "[encoded data removed]",
      "text/plain": [
       "<Figure size 1600x600 with 3 Axes>"
      ]
     },
     "metadata": {},
     "output_type": "display_data"
    }
   ],
   "source": [
    "# # plotting\n",
    "plt.figure(figsize=(16,6))\n",
    "\n",
    "param_grid = {\"learning_rate\":[0.2, 0.6],\n",
    "            \"subsample\":[0.3, 0.6, 0.9]}\n",
    "\n",
    "\n",
    "\n",
    "\n",
    "for n, subsample in enumerate(param_grid['subsample']):\n",
    "    \n",
    "\n",
    "    # subplot 1/n\n",
    "    plt.subplot(1,len(param_grid['subsample']), n+1)\n",
    "    df = cv_results[cv_results['param_subsample']==subsample]\n",
    "    \n",
    "    # plot df[\"param_learning_rate\"] for df[\"mean_test_score\"], df[\"mean_train_score\"\n",
    "    plt.plot(df['param_learning_rate'],df['mean_test_score'])\n",
    "    plt.plot(df['param_learning_rate'],df['mean_train_score'])\n",
    "    plt.xlabel(\"learning_rate\")\n",
    "    plt.ylabel(\"AUC\")\n",
    "    plt.title(\"Subsample :{0}\".format(subsample))\n",
    "    plt.legend([\"test score\",\"train score\"])\n",
    "    plt.ylim([0.6,1])\n",
    "    plt.xscale('log')\n",
    "\n",
    "    "
   ]
  },
  {
   "cell_type": "markdown",
   "metadata": {
    "_cell_guid": "21bd521a-86d8-4e42-8e98-c2bfb83f5248",
    "_uuid": "853a028f77dfabc43dc167b4cd92ca9418818106",
    "id": "k-x6BYIqD3VD"
   },
   "source": [
    "The results show that a subsample size of 0.6 and learning_rate of about 0.2 seems optimal. \n",
    "Also, XGBoost has resulted in the highest ROC AUC obtained (across various hyperparameters). \n",
    "\n",
    "\n",
    "Let's build a final model with the chosen hyperparameters."
   ]
  },
  {
   "cell_type": "code",
   "execution_count": 72,
   "metadata": {
    "_cell_guid": "f64f6dd4-1594-434d-b006-2607929c7848",
    "_uuid": "f6d26a03087caa6804c67bec109399f32a86e4fb",
    "colab": {
     "base_uri": "https://localhost:8080/"
    },
    "id": "gj0OA89XD3VE",
    "outputId": "56fe2e6f-3ef8-42ba-8720-d456abaf3c38"
   },
   "outputs": [
    {
     "data": {
      "text/html": [
       "<style>#sk-container-id-7 {color: black;}#sk-container-id-7 pre{padding: 0;}#sk-container-id-7 div.sk-toggleable {background-color: white;}#sk-container-id-7 label.sk-toggleable__label {cursor: pointer;display: block;width: 100%;margin-bottom: 0;padding: 0.3em;box-sizing: border-box;text-align: center;}#sk-container-id-7 label.sk-toggleable__label-arrow:before {content: \"▸\";float: left;margin-right: 0.25em;color: #696969;}#sk-container-id-7 label.sk-toggleable__label-arrow:hover:before {color: black;}#sk-container-id-7 div.sk-estimator:hover label.sk-toggleable__label-arrow:before {color: black;}#sk-container-id-7 div.sk-toggleable__content {max-height: 0;max-width: 0;overflow: hidden;text-align: left;background-color: #f0f8ff;}#sk-container-id-7 div.sk-toggleable__content pre {margin: 0.2em;color: black;border-radius: 0.25em;background-color: #f0f8ff;}#sk-container-id-7 input.sk-toggleable__control:checked~div.sk-toggleable__content {max-height: 200px;max-width: 100%;overflow: auto;}#sk-container-id-7 input.sk-toggleable__control:checked~label.sk-toggleable__label-arrow:before {content: \"▾\";}#sk-container-id-7 div.sk-estimator input.sk-toggleable__control:checked~label.sk-toggleable__label {background-color: #d4ebff;}#sk-container-id-7 div.sk-label input.sk-toggleable__control:checked~label.sk-toggleable__label {background-color: #d4ebff;}#sk-container-id-7 input.sk-hidden--visually {border: 0;clip: rect(1px 1px 1px 1px);clip: rect(1px, 1px, 1px, 1px);height: 1px;margin: -1px;overflow: hidden;padding: 0;position: absolute;width: 1px;}#sk-container-id-7 div.sk-estimator {font-family: monospace;background-color: #f0f8ff;border: 1px dotted black;border-radius: 0.25em;box-sizing: border-box;margin-bottom: 0.5em;}#sk-container-id-7 div.sk-estimator:hover {background-color: #d4ebff;}#sk-container-id-7 div.sk-parallel-item::after {content: \"\";width: 100%;border-bottom: 1px solid gray;flex-grow: 1;}#sk-container-id-7 div.sk-label:hover label.sk-toggleable__label {background-color: #d4ebff;}#sk-container-id-7 div.sk-serial::before {content: \"\";position: absolute;border-left: 1px solid gray;box-sizing: border-box;top: 0;bottom: 0;left: 50%;z-index: 0;}#sk-container-id-7 div.sk-serial {display: flex;flex-direction: column;align-items: center;background-color: white;padding-right: 0.2em;padding-left: 0.2em;position: relative;}#sk-container-id-7 div.sk-item {position: relative;z-index: 1;}#sk-container-id-7 div.sk-parallel {display: flex;align-items: stretch;justify-content: center;background-color: white;position: relative;}#sk-container-id-7 div.sk-item::before, #sk-container-id-7 div.sk-parallel-item::before {content: \"\";position: absolute;border-left: 1px solid gray;box-sizing: border-box;top: 0;bottom: 0;left: 50%;z-index: -1;}#sk-container-id-7 div.sk-parallel-item {display: flex;flex-direction: column;z-index: 1;position: relative;background-color: white;}#sk-container-id-7 div.sk-parallel-item:first-child::after {align-self: flex-end;width: 50%;}#sk-container-id-7 div.sk-parallel-item:last-child::after {align-self: flex-start;width: 50%;}#sk-container-id-7 div.sk-parallel-item:only-child::after {width: 0;}#sk-container-id-7 div.sk-dashed-wrapped {border: 1px dashed gray;margin: 0 0.4em 0.5em 0.4em;box-sizing: border-box;padding-bottom: 0.4em;background-color: white;}#sk-container-id-7 div.sk-label label {font-family: monospace;font-weight: bold;display: inline-block;line-height: 1.2em;}#sk-container-id-7 div.sk-label-container {text-align: center;}#sk-container-id-7 div.sk-container {/* jupyter's `normalize.less` sets `[hidden] { display: none; }` but bootstrap.min.css set `[hidden] { display: none !important; }` so we also need the `!important` here to be able to override the default hidden behavior on the sphinx rendered scikit-learn.org. See: https://github.com/scikit-learn/scikit-learn/issues/21755 */display: inline-block !important;position: relative;}#sk-container-id-7 div.sk-text-repr-fallback {display: none;}</style><div id=\"sk-container-id-7\" class=\"sk-top-container\"><div class=\"sk-text-repr-fallback\"><pre>XGBClassifier(base_score=None, booster=None, callbacks=None,\n",
       "              colsample_bylevel=None, colsample_bynode=None,\n",
       "              colsample_bytree=None, device=None, early_stopping_rounds=None,\n",
       "              enable_categorical=False, eval_metric=None, feature_types=None,\n",
       "              gamma=None, grow_policy=None, importance_type=None,\n",
       "              interaction_constraints=None, learning_rate=None, max_bin=None,\n",
       "              max_cat_threshold=None, max_cat_to_onehot=None,\n",
       "              max_delta_step=None, max_depth=None, max_leaves=None,\n",
       "              min_child_weight=None, missing=nan, monotone_constraints=None,\n",
       "              multi_strategy=None, n_estimators=None, n_jobs=None,\n",
       "              num_parallel_tree=None,\n",
       "              params={&#x27;learning_rate&#x27;: 0.2, &#x27;max_depth&#x27;: 2, &#x27;n_estimators&#x27;: 200,\n",
       "                      &#x27;objective&#x27;: &#x27;binary:logistic&#x27;, &#x27;random_state&#x27;: 1,\n",
       "                      &#x27;subsample&#x27;: 0.6}, ...)</pre><b>In a Jupyter environment, please rerun this cell to show the HTML representation or trust the notebook. <br />On GitHub, the HTML representation is unable to render, please try loading this page with nbviewer.org.</b></div><div class=\"sk-container\" hidden><div class=\"sk-item\"><div class=\"sk-estimator sk-toggleable\"><input class=\"sk-toggleable__control sk-hidden--visually\" id=\"sk-estimator-id-17\" type=\"checkbox\" checked><label for=\"sk-estimator-id-17\" class=\"sk-toggleable__label sk-toggleable__label-arrow\">XGBClassifier</label><div class=\"sk-toggleable__content\"><pre>XGBClassifier(base_score=None, booster=None, callbacks=None,\n",
       "              colsample_bylevel=None, colsample_bynode=None,\n",
       "              colsample_bytree=None, device=None, early_stopping_rounds=None,\n",
       "              enable_categorical=False, eval_metric=None, feature_types=None,\n",
       "              gamma=None, grow_policy=None, importance_type=None,\n",
       "              interaction_constraints=None, learning_rate=None, max_bin=None,\n",
       "              max_cat_threshold=None, max_cat_to_onehot=None,\n",
       "              max_delta_step=None, max_depth=None, max_leaves=None,\n",
       "              min_child_weight=None, missing=nan, monotone_constraints=None,\n",
       "              multi_strategy=None, n_estimators=None, n_jobs=None,\n",
       "              num_parallel_tree=None,\n",
       "              params={&#x27;learning_rate&#x27;: 0.2, &#x27;max_depth&#x27;: 2, &#x27;n_estimators&#x27;: 200,\n",
       "                      &#x27;objective&#x27;: &#x27;binary:logistic&#x27;, &#x27;random_state&#x27;: 1,\n",
       "                      &#x27;subsample&#x27;: 0.6}, ...)</pre></div></div></div></div></div>"
      ],
      "text/plain": [
       "XGBClassifier(base_score=None, booster=None, callbacks=None,\n",
       "              colsample_bylevel=None, colsample_bynode=None,\n",
       "              colsample_bytree=None, device=None, early_stopping_rounds=None,\n",
       "              enable_categorical=False, eval_metric=None, feature_types=None,\n",
       "              gamma=None, grow_policy=None, importance_type=None,\n",
       "              interaction_constraints=None, learning_rate=None, max_bin=None,\n",
       "              max_cat_threshold=None, max_cat_to_onehot=None,\n",
       "              max_delta_step=None, max_depth=None, max_leaves=None,\n",
       "              min_child_weight=None, missing=nan, monotone_constraints=None,\n",
       "              multi_strategy=None, n_estimators=None, n_jobs=None,\n",
       "              num_parallel_tree=None,\n",
       "              params={'learning_rate': 0.2, 'max_depth': 2, 'n_estimators': 200,\n",
       "                      'objective': 'binary:logistic', 'random_state': 1,\n",
       "                      'subsample': 0.6}, ...)"
      ]
     },
     "execution_count": 72,
     "metadata": {},
     "output_type": "execute_result"
    }
   ],
   "source": [
    "# 4 chosen hyperparameters and use 'objective':'binary:logistic' which outputs probability rather than label, which we need for auc\n",
    "params = {'learning_rate':0.2,\n",
    "         'max_depth':2,\n",
    "         'n_estimators':200,\n",
    "         'subsample':0.6,\n",
    "         'objective':'binary:logistic',\n",
    "         'random_state':1}\n",
    "\n",
    "\n",
    "\n",
    "\n",
    "\n",
    "\n",
    "#Instantiate XGBClassifier with params\n",
    "XGB = XGBClassifier(params=params)\n",
    "\n",
    "\n",
    "\n",
    "# fit model on training data\n",
    "XGB.fit(X_train,y_train)\n",
    "\n",
    "\n"
   ]
  },
  {
   "cell_type": "code",
   "execution_count": 76,
   "metadata": {
    "_cell_guid": "4a8c73d2-d546-4741-9f81-99359a268e7d",
    "_uuid": "2bdcff9ae7faeeeac19bce56367f6f559fe9835e",
    "colab": {
     "base_uri": "https://localhost:8080/"
    },
    "id": "R80-UXyED3VE",
    "outputId": "656dbfca-6bcd-45f0-c64c-c7e66812a434"
   },
   "outputs": [
    {
     "data": {
      "text/plain": [
       "array([[9.9999762e-01, 2.3850384e-06],\n",
       "       [9.9997681e-01, 2.3205019e-05],\n",
       "       [9.9999285e-01, 7.1295767e-06],\n",
       "       [9.9978524e-01, 2.1477159e-04],\n",
       "       [9.9994248e-01, 5.7545258e-05],\n",
       "       [9.9999696e-01, 3.0614756e-06],\n",
       "       [9.9992359e-01, 7.6433542e-05],\n",
       "       [9.9999708e-01, 2.9036298e-06],\n",
       "       [9.9962950e-01, 3.7048370e-04],\n",
       "       [9.9869585e-01, 1.3041229e-03]], dtype=float32)"
      ]
     },
     "execution_count": 76,
     "metadata": {},
     "output_type": "execute_result"
    }
   ],
   "source": [
    "# get prediction probability\n",
    "y_pred = model.predict_proba(X_test)\n",
    "\n",
    "\n",
    "#print to 10 prediction result\n",
    "\n",
    "y_pred[:10]\n"
   ]
  },
  {
   "cell_type": "markdown",
   "metadata": {
    "_cell_guid": "02d2e492-87ef-4eb8-b028-09089fbaae18",
    "_uuid": "072559ae029cf30f092bd89c571ac7e981e1a0bf",
    "id": "k9dONIr8D3VE"
   },
   "source": [
    "The first column in y_pred is the P(0), i.e. P(not fraud), and the second column is P(1/fraud)."
   ]
  },
  {
   "cell_type": "code",
   "execution_count": 89,
   "metadata": {
    "_cell_guid": "fbf9a886-13ce-44f2-8489-7f903236f938",
    "_uuid": "fa63f1fa85a985837b2c77af4208b98522c86632",
    "colab": {
     "base_uri": "https://localhost:8080/"
    },
    "id": "G78YhoVzD3VF",
    "outputId": "e782f6bb-294a-49fe-da7f-ca07ff49df73"
   },
   "outputs": [
    {
     "data": {
      "text/plain": [
       "0.9627350427350426"
      ]
     },
     "execution_count": 89,
     "metadata": {},
     "output_type": "execute_result"
    }
   ],
   "source": [
    "# print roc_auc score\n",
    "auc = metrics.roc_auc_score(y_test,y_pred[:,1])\n",
    "auc\n",
    "\n"
   ]
  },
  {
   "cell_type": "markdown",
   "metadata": {
    "id": "V4H3vgzPD3VF"
   },
   "source": [
    "Even after hyerparameter tuning we got same roc_auc score. Finally, let's also look at the feature importances."
   ]
  },
  {
   "cell_type": "code",
   "execution_count": 78,
   "metadata": {
    "colab": {
     "base_uri": "https://localhost:8080/"
    },
    "id": "7IlzyzlQD3VF",
    "outputId": "e0716eed-0cbe-4bbd-afa8-e2dc71ecae4f",
    "scrolled": true
   },
   "outputs": [
    {
     "data": {
      "text/plain": [
       "{'ip': 0.037970517,\n",
       " 'app': 0.18047296,\n",
       " 'device': 0.25417635,\n",
       " 'os': 0.061070405,\n",
       " 'channel': 0.12130905,\n",
       " 'day_of_week': 0.049123943,\n",
       " 'day_of_year': 0.0,\n",
       " 'month': 0.0,\n",
       " 'hour': 0.04295167,\n",
       " 'ip_count': 0.07025951,\n",
       " 'ip_day_hour': 0.032868408,\n",
       " 'ip_hour_channel': 0.041164912,\n",
       " 'ip_hour_os': 0.03692177,\n",
       " 'ip_hour_app': 0.02896896,\n",
       " 'ip_hour_device': 0.042741563}"
      ]
     },
     "execution_count": 78,
     "metadata": {},
     "output_type": "execute_result"
    }
   ],
   "source": [
    "# print feature importance for each column in  a dictionary form\n",
    "importance = dict(zip(X_train.columns,model.feature_importances_))\n",
    "importance\n",
    "\n",
    "\n"
   ]
  },
  {
   "cell_type": "code",
   "execution_count": 79,
   "metadata": {
    "colab": {
     "base_uri": "https://localhost:8080/",
     "height": 265
    },
    "id": "qSJTQbzdD3VF",
    "outputId": "a730103e-3fe4-4668-d891-d38595c8a2f8"
   },
   "outputs": [
    {
     "data": {
      "image/png": "[encoded data removed]",
      "text/plain": [
       "<Figure size 640x480 with 1 Axes>"
      ]
     },
     "metadata": {},
     "output_type": "display_data"
    }
   ],
   "source": [
    "# plot feature importance for every column\n",
    "plt.bar(range(len(model.feature_importances_)),model.feature_importances_)\n",
    "plt.show()\n",
    "\n",
    "\n"
   ]
  },
  {
   "cell_type": "markdown",
   "metadata": {
    "id": "a8RhPIPsD3VG"
   },
   "source": [
    "## **`4.  LightGBM`**\n",
    "\n",
    "Reference doc: https://lightgbm.readthedocs.io/en/latest/Python-Intro.html\n",
    "\n",
    "Reference video: https://www.youtube.com/watch?v=Ph2nbuhOT04\n",
    "\n",
    "Light GBM is a fast, distributed, high-performance gradient boosting framework based on decision tree algorithm, used for ranking, classification and many other machine learning tasks.\n",
    "\n",
    "Since it is based on decision tree algorithms, it splits the tree leaf wise with the best fit whereas other boosting algorithms split the tree depth wise or level wise rather than leaf-wise. So when growing on the same leaf in Light GBM, the leaf-wise algorithm can reduce more loss than the level-wise algorithm and hence results in much better accuracy which can rarely be achieved by any of the existing boosting algorithms. Also, it is surprisingly very fast, hence the word ‘Light’.\n",
    "\n",
    "**Advantages of Light GBM**\n",
    "\n",
    "1. Faster training speed and higher efficiency: Light GBM use histogram based algorithm i.e it buckets continuous feature values into discrete bins which fasten the training procedure.\n",
    "2. Lower memory usage: Replaces continuous values to discrete bins which result in lower memory usage.\n",
    "3. Better accuracy than any other boosting algorithm: It produces much more complex trees by following leaf wise split approach rather than a level-wise approach which is the main factor in achieving higher accuracy. However, it can sometimes lead to overfitting which can be avoided by setting the max_depth parameter.\n",
    "4. Compatibility with Large Datasets: It is capable of performing equally good with large datasets with a significant reduction in training time as compared to XGBOOST.\n",
    "5. Parallel learning supported.\n",
    "\n",
    "I guess you must have got excited about the advantages of Light GBM. So lets get started with it"
   ]
  },
  {
   "cell_type": "code",
   "execution_count": 80,
   "metadata": {
    "colab": {
     "base_uri": "https://localhost:8080/"
    },
    "id": "5StvwjP5D3VG",
    "outputId": "af87309e-9f17-4329-af4d-7e02e60582b5"
   },
   "outputs": [
    {
     "ename": "ModuleNotFoundError",
     "evalue": "No module named 'lightgbm'",
     "output_type": "error",
     "traceback": [
      "\u001b[0;31m---------------------------------------------------------------------------\u001b[0m",
      "\u001b[0;31mModuleNotFoundError\u001b[0m                       Traceback (most recent call last)",
      "Cell \u001b[0;32mIn[80], line 2\u001b[0m\n\u001b[1;32m      1\u001b[0m \u001b[38;5;66;03m# import lightgbm\u001b[39;00m\n\u001b[0;32m----> 2\u001b[0m \u001b[38;5;28;01mfrom\u001b[39;00m \u001b[38;5;21;01mlightgbm\u001b[39;00m \u001b[38;5;28;01mimport\u001b[39;00m LGBMClassifier\n\u001b[1;32m      4\u001b[0m \u001b[38;5;66;03m# import lightgbm as LGBMClassifier\u001b[39;00m\n\u001b[1;32m      5\u001b[0m \n\u001b[1;32m      6\u001b[0m \u001b[38;5;66;03m# Instantiate LGBMClassifier with default hyperparameters and random_state=1\u001b[39;00m\n\u001b[1;32m      7\u001b[0m LGB \u001b[38;5;241m=\u001b[39m LGBMClassifier(random_state\u001b[38;5;241m=\u001b[39m\u001b[38;5;241m1\u001b[39m)\n",
      "\u001b[0;31mModuleNotFoundError\u001b[0m: No module named 'lightgbm'"
     ]
    }
   ],
   "source": [
    "# import lightgbm\n",
    "from lightgbm import LGBMClassifier\n",
    "\n",
    "# import lightgbm as LGBMClassifier\n",
    "\n",
    "# Instantiate LGBMClassifier with default hyperparameters and random_state=1\n",
    "LGB = LGBMClassifier(random_state=1)\n",
    "\n",
    " \n",
    "# fit model on training data\n",
    "LGB.fit(X_train,y_train)\n",
    "\n",
    "\n",
    "\n",
    "\n"
   ]
  },
  {
   "cell_type": "code",
   "execution_count": null,
   "metadata": {
    "colab": {
     "base_uri": "https://localhost:8080/"
    },
    "id": "7U6GwUphD3VG",
    "outputId": "ebbba334-8d99-4223-ce6c-8e788d6cf3e6"
   },
   "outputs": [],
   "source": [
    "# use predict_proba since we need probabilities to compute auc\n",
    "y_pred =\n",
    "\n",
    "\n",
    "\n",
    "#print top 10 y_pred result\n",
    "\n",
    "\n"
   ]
  },
  {
   "cell_type": "code",
   "execution_count": null,
   "metadata": {
    "colab": {
     "base_uri": "https://localhost:8080/"
    },
    "id": "fTMKpaisD3VG",
    "outputId": "2bc3d527-0215-492a-d3a9-a851d26f2ec9"
   },
   "outputs": [],
   "source": [
    "# evaluate predictions using roc_auc score\n",
    "roc = \n",
    "\n",
    "\n"
   ]
  },
  {
   "cell_type": "markdown",
   "metadata": {
    "id": "A83xQgyOD3VH"
   },
   "source": [
    "Now lets tune above model. The exhaustive list of hyperparameters in LightGBM are https://lightgbm.readthedocs.io/en/latest/Parameters-Tuning.html\n",
    "\n",
    "But lets run the LightGBM with previous selected hyperparamters i.e.\n",
    "\n",
    "`'learning_rate': 0.2,\n",
    "          'max_depth': 2, \n",
    "          'n_estimators':200,\n",
    "          'subsample':0.6,\n",
    "         'objective':'binary:logistic'\n",
    "         'random_state':1}`\n",
    "         \n",
    "Lets see if it improves"
   ]
  },
  {
   "cell_type": "code",
   "execution_count": null,
   "metadata": {
    "colab": {
     "base_uri": "https://localhost:8080/"
    },
    "id": "_W1CMCORD3VH",
    "outputId": "ad7c6521-9ffa-4da0-f30c-3398a7576f5f"
   },
   "outputs": [],
   "source": [
    "# Define parameters as above\n",
    "# params = {'learning_rate': 0.2,\n",
    "#           'max_depth': 2, \n",
    "#           'n_estimators':200,\n",
    "#           'subsample':0.6,\n",
    "#          'objective':'binary:logistic',\n",
    "#          'random_state':1}\n",
    "\n",
    "# Instantiate XGBClassifier with params\n",
    "LGB = \n",
    "\n",
    " \n",
    "# fit model on training data\n",
    "\n",
    "\n",
    "\n",
    "\n"
   ]
  },
  {
   "cell_type": "code",
   "execution_count": null,
   "metadata": {
    "colab": {
     "base_uri": "https://localhost:8080/"
    },
    "id": "B6PQTjksD3VH",
    "outputId": "aa5c40f1-96f0-4c88-8415-211189dc1283"
   },
   "outputs": [],
   "source": [
    "# use predict_proba since we need probabilities to compute auc\n",
    "y_pred = \n",
    "\n",
    "\n",
    "# evaluate predictions using roc_auc score\n",
    "roc = \n",
    "\n",
    "\n"
   ]
  },
  {
   "cell_type": "markdown",
   "metadata": {
    "id": "XIQE73rfD3VH"
   },
   "source": [
    "Oh man! even after tuning we have got lower AUC score. That's fine let us try our final model which is CatBoost.\n",
    "\n",
    "\n",
    "## **`5. CatBoost`**\n",
    "\n",
    "Reference doc: https://catboost.ai/docs/concepts/python-reference_catboostclassifier.html4\n",
    "\n",
    "\n",
    "CatBoost is a recently open-sourced machine learning algorithm from Yandex. It can easily integrate with deep learning frameworks like Google’s TensorFlow and Apple’s Core ML. It can work with diverse data types to help solve a wide range of problems that businesses face today. To top it up, it provides best-in-class accuracy.\n",
    "\n",
    "It is especially powerful in two ways:\n",
    "\n",
    "It yields state-of-the-art results without extensive data training typically required by other machine learning methods, and\n",
    "Provides powerful out-of-the-box support for the more descriptive data formats that accompany many business problems.\n",
    "“CatBoost” name comes from two words “Category” and “Boosting”.\n",
    "\n",
    "As discussed, the library works well with multiple Categories of data, such as audio, text, image including historical data.\n",
    "\n",
    "Reference video below -\n",
    "dataset used: https://drive.google.com/file/d/1xzra_oUpq7sgOo8ImJtkmTqkDNmYvVMF/view?usp=sharing\n"
   ]
  },
  {
   "cell_type": "markdown",
   "metadata": {
    "id": "Aa89FRoYuOPI"
   },
   "source": [
    "## **`Watch Video 5 : CatBoost Training on GPU`**"
   ]
  },
  {
   "cell_type": "code",
   "execution_count": 82,
   "metadata": {
    "colab": {
     "base_uri": "https://localhost:8080/"
    },
    "id": "HSk1lnbkD3VI",
    "outputId": "308c5e77-2282-4e38-8920-87aba43c1d47"
   },
   "outputs": [
    {
     "name": "stdout",
     "output_type": "stream",
     "text": [
      "Learning rate set to 0.06692\n",
      "0:\tlearn: 0.5107371\ttotal: 71.6ms\tremaining: 1m 11s\n",
      "1:\tlearn: 0.3708275\ttotal: 81.6ms\tremaining: 40.7s\n",
      "2:\tlearn: 0.2729161\ttotal: 92.1ms\tremaining: 30.6s\n",
      "3:\tlearn: 0.2003287\ttotal: 101ms\tremaining: 25.1s\n",
      "4:\tlearn: 0.1525563\ttotal: 109ms\tremaining: 21.7s\n",
      "5:\tlearn: 0.1183004\ttotal: 117ms\tremaining: 19.3s\n",
      "6:\tlearn: 0.0926960\ttotal: 124ms\tremaining: 17.6s\n",
      "7:\tlearn: 0.0741230\ttotal: 130ms\tremaining: 16.2s\n",
      "8:\tlearn: 0.0608923\ttotal: 137ms\tremaining: 15.1s\n",
      "9:\tlearn: 0.0465871\ttotal: 144ms\tremaining: 14.3s\n",
      "10:\tlearn: 0.0387759\ttotal: 151ms\tremaining: 13.5s\n",
      "11:\tlearn: 0.0329881\ttotal: 157ms\tremaining: 13s\n",
      "12:\tlearn: 0.0289558\ttotal: 165ms\tremaining: 12.5s\n",
      "13:\tlearn: 0.0251152\ttotal: 172ms\tremaining: 12.1s\n",
      "14:\tlearn: 0.0217928\ttotal: 178ms\tremaining: 11.7s\n",
      "15:\tlearn: 0.0196789\ttotal: 185ms\tremaining: 11.4s\n",
      "16:\tlearn: 0.0177198\ttotal: 191ms\tremaining: 11.1s\n",
      "17:\tlearn: 0.0161780\ttotal: 198ms\tremaining: 10.8s\n",
      "18:\tlearn: 0.0150968\ttotal: 204ms\tremaining: 10.5s\n",
      "19:\tlearn: 0.0141161\ttotal: 212ms\tremaining: 10.4s\n",
      "20:\tlearn: 0.0133998\ttotal: 218ms\tremaining: 10.2s\n",
      "21:\tlearn: 0.0129615\ttotal: 225ms\tremaining: 10s\n",
      "22:\tlearn: 0.0125280\ttotal: 231ms\tremaining: 9.83s\n",
      "23:\tlearn: 0.0122185\ttotal: 238ms\tremaining: 9.68s\n",
      "24:\tlearn: 0.0117517\ttotal: 245ms\tremaining: 9.54s\n",
      "25:\tlearn: 0.0115374\ttotal: 251ms\tremaining: 9.4s\n",
      "26:\tlearn: 0.0112135\ttotal: 258ms\tremaining: 9.29s\n",
      "27:\tlearn: 0.0110500\ttotal: 264ms\tremaining: 9.17s\n",
      "28:\tlearn: 0.0109127\ttotal: 270ms\tremaining: 9.05s\n",
      "29:\tlearn: 0.0107841\ttotal: 277ms\tremaining: 8.95s\n",
      "30:\tlearn: 0.0105824\ttotal: 283ms\tremaining: 8.86s\n",
      "31:\tlearn: 0.0104230\ttotal: 290ms\tremaining: 8.78s\n",
      "32:\tlearn: 0.0103463\ttotal: 296ms\tremaining: 8.69s\n",
      "33:\tlearn: 0.0101732\ttotal: 303ms\tremaining: 8.61s\n",
      "34:\tlearn: 0.0100638\ttotal: 310ms\tremaining: 8.54s\n",
      "35:\tlearn: 0.0099758\ttotal: 317ms\tremaining: 8.49s\n",
      "36:\tlearn: 0.0098383\ttotal: 324ms\tremaining: 8.43s\n",
      "37:\tlearn: 0.0097278\ttotal: 330ms\tremaining: 8.36s\n",
      "38:\tlearn: 0.0096459\ttotal: 337ms\tremaining: 8.3s\n",
      "39:\tlearn: 0.0095462\ttotal: 344ms\tremaining: 8.24s\n",
      "40:\tlearn: 0.0094762\ttotal: 350ms\tremaining: 8.19s\n",
      "41:\tlearn: 0.0093802\ttotal: 357ms\tremaining: 8.14s\n",
      "42:\tlearn: 0.0093038\ttotal: 364ms\tremaining: 8.09s\n",
      "43:\tlearn: 0.0092401\ttotal: 370ms\tremaining: 8.04s\n",
      "44:\tlearn: 0.0091775\ttotal: 377ms\tremaining: 8s\n",
      "45:\tlearn: 0.0091221\ttotal: 383ms\tremaining: 7.95s\n",
      "46:\tlearn: 0.0090486\ttotal: 390ms\tremaining: 7.91s\n",
      "47:\tlearn: 0.0089725\ttotal: 397ms\tremaining: 7.87s\n",
      "48:\tlearn: 0.0089160\ttotal: 403ms\tremaining: 7.82s\n",
      "49:\tlearn: 0.0088385\ttotal: 411ms\tremaining: 7.8s\n",
      "50:\tlearn: 0.0088010\ttotal: 417ms\tremaining: 7.76s\n",
      "51:\tlearn: 0.0087466\ttotal: 424ms\tremaining: 7.72s\n",
      "52:\tlearn: 0.0086930\ttotal: 430ms\tremaining: 7.68s\n",
      "53:\tlearn: 0.0086227\ttotal: 436ms\tremaining: 7.65s\n",
      "54:\tlearn: 0.0085690\ttotal: 443ms\tremaining: 7.61s\n",
      "55:\tlearn: 0.0085382\ttotal: 449ms\tremaining: 7.56s\n",
      "56:\tlearn: 0.0085006\ttotal: 455ms\tremaining: 7.53s\n",
      "57:\tlearn: 0.0084492\ttotal: 462ms\tremaining: 7.5s\n",
      "58:\tlearn: 0.0083962\ttotal: 468ms\tremaining: 7.46s\n",
      "59:\tlearn: 0.0083777\ttotal: 474ms\tremaining: 7.43s\n",
      "60:\tlearn: 0.0083595\ttotal: 480ms\tremaining: 7.39s\n",
      "61:\tlearn: 0.0083448\ttotal: 487ms\tremaining: 7.36s\n",
      "62:\tlearn: 0.0083125\ttotal: 493ms\tremaining: 7.34s\n",
      "63:\tlearn: 0.0082674\ttotal: 500ms\tremaining: 7.31s\n",
      "64:\tlearn: 0.0082505\ttotal: 507ms\tremaining: 7.29s\n",
      "65:\tlearn: 0.0082237\ttotal: 513ms\tremaining: 7.26s\n",
      "66:\tlearn: 0.0081959\ttotal: 520ms\tremaining: 7.24s\n",
      "67:\tlearn: 0.0081442\ttotal: 527ms\tremaining: 7.22s\n",
      "68:\tlearn: 0.0081139\ttotal: 533ms\tremaining: 7.2s\n",
      "69:\tlearn: 0.0080725\ttotal: 540ms\tremaining: 7.17s\n",
      "70:\tlearn: 0.0080556\ttotal: 546ms\tremaining: 7.15s\n",
      "71:\tlearn: 0.0080214\ttotal: 553ms\tremaining: 7.13s\n",
      "72:\tlearn: 0.0079759\ttotal: 559ms\tremaining: 7.1s\n",
      "73:\tlearn: 0.0079633\ttotal: 566ms\tremaining: 7.08s\n",
      "74:\tlearn: 0.0079420\ttotal: 573ms\tremaining: 7.06s\n",
      "75:\tlearn: 0.0077743\ttotal: 579ms\tremaining: 7.04s\n",
      "76:\tlearn: 0.0077609\ttotal: 586ms\tremaining: 7.02s\n",
      "77:\tlearn: 0.0077371\ttotal: 592ms\tremaining: 7s\n",
      "78:\tlearn: 0.0077152\ttotal: 598ms\tremaining: 6.97s\n",
      "79:\tlearn: 0.0075992\ttotal: 604ms\tremaining: 6.95s\n",
      "80:\tlearn: 0.0075845\ttotal: 612ms\tremaining: 6.94s\n",
      "81:\tlearn: 0.0075697\ttotal: 619ms\tremaining: 6.93s\n",
      "82:\tlearn: 0.0075336\ttotal: 626ms\tremaining: 6.91s\n",
      "83:\tlearn: 0.0075112\ttotal: 632ms\tremaining: 6.9s\n",
      "84:\tlearn: 0.0074742\ttotal: 640ms\tremaining: 6.88s\n",
      "85:\tlearn: 0.0074432\ttotal: 646ms\tremaining: 6.87s\n",
      "86:\tlearn: 0.0074164\ttotal: 652ms\tremaining: 6.85s\n",
      "87:\tlearn: 0.0074117\ttotal: 659ms\tremaining: 6.83s\n",
      "88:\tlearn: 0.0073840\ttotal: 665ms\tremaining: 6.81s\n",
      "89:\tlearn: 0.0073635\ttotal: 672ms\tremaining: 6.79s\n",
      "90:\tlearn: 0.0072567\ttotal: 678ms\tremaining: 6.77s\n",
      "91:\tlearn: 0.0072442\ttotal: 685ms\tremaining: 6.76s\n",
      "92:\tlearn: 0.0072250\ttotal: 691ms\tremaining: 6.74s\n",
      "93:\tlearn: 0.0072152\ttotal: 698ms\tremaining: 6.72s\n",
      "94:\tlearn: 0.0071005\ttotal: 704ms\tremaining: 6.71s\n",
      "95:\tlearn: 0.0070002\ttotal: 711ms\tremaining: 6.7s\n",
      "96:\tlearn: 0.0069553\ttotal: 717ms\tremaining: 6.68s\n",
      "97:\tlearn: 0.0069430\ttotal: 724ms\tremaining: 6.66s\n",
      "98:\tlearn: 0.0069283\ttotal: 730ms\tremaining: 6.64s\n",
      "99:\tlearn: 0.0069074\ttotal: 737ms\tremaining: 6.63s\n",
      "100:\tlearn: 0.0068944\ttotal: 743ms\tremaining: 6.61s\n",
      "101:\tlearn: 0.0068108\ttotal: 750ms\tremaining: 6.6s\n",
      "102:\tlearn: 0.0067985\ttotal: 757ms\tremaining: 6.59s\n",
      "103:\tlearn: 0.0067160\ttotal: 764ms\tremaining: 6.58s\n",
      "104:\tlearn: 0.0066779\ttotal: 770ms\tremaining: 6.57s\n",
      "105:\tlearn: 0.0066001\ttotal: 777ms\tremaining: 6.55s\n",
      "106:\tlearn: 0.0065919\ttotal: 784ms\tremaining: 6.54s\n",
      "107:\tlearn: 0.0065765\ttotal: 790ms\tremaining: 6.53s\n",
      "108:\tlearn: 0.0064886\ttotal: 798ms\tremaining: 6.52s\n",
      "109:\tlearn: 0.0064586\ttotal: 804ms\tremaining: 6.5s\n",
      "110:\tlearn: 0.0063820\ttotal: 811ms\tremaining: 6.5s\n",
      "111:\tlearn: 0.0063605\ttotal: 819ms\tremaining: 6.49s\n",
      "112:\tlearn: 0.0063462\ttotal: 826ms\tremaining: 6.48s\n",
      "113:\tlearn: 0.0063235\ttotal: 833ms\tremaining: 6.47s\n",
      "114:\tlearn: 0.0063174\ttotal: 840ms\tremaining: 6.46s\n",
      "115:\tlearn: 0.0063059\ttotal: 847ms\tremaining: 6.45s\n",
      "116:\tlearn: 0.0062698\ttotal: 853ms\tremaining: 6.44s\n",
      "117:\tlearn: 0.0062172\ttotal: 861ms\tremaining: 6.43s\n",
      "118:\tlearn: 0.0062026\ttotal: 867ms\tremaining: 6.42s\n",
      "119:\tlearn: 0.0061310\ttotal: 874ms\tremaining: 6.41s\n",
      "120:\tlearn: 0.0061256\ttotal: 880ms\tremaining: 6.4s\n",
      "121:\tlearn: 0.0060850\ttotal: 887ms\tremaining: 6.38s\n",
      "122:\tlearn: 0.0060369\ttotal: 893ms\tremaining: 6.37s\n",
      "123:\tlearn: 0.0060245\ttotal: 900ms\tremaining: 6.35s\n",
      "124:\tlearn: 0.0060057\ttotal: 906ms\tremaining: 6.34s\n",
      "125:\tlearn: 0.0059915\ttotal: 912ms\tremaining: 6.33s\n",
      "126:\tlearn: 0.0059878\ttotal: 918ms\tremaining: 6.31s\n",
      "127:\tlearn: 0.0059732\ttotal: 924ms\tremaining: 6.3s\n",
      "128:\tlearn: 0.0059632\ttotal: 931ms\tremaining: 6.29s\n",
      "129:\tlearn: 0.0059591\ttotal: 938ms\tremaining: 6.28s\n",
      "130:\tlearn: 0.0059298\ttotal: 944ms\tremaining: 6.26s\n",
      "131:\tlearn: 0.0059053\ttotal: 951ms\tremaining: 6.25s\n",
      "132:\tlearn: 0.0058676\ttotal: 958ms\tremaining: 6.24s\n",
      "133:\tlearn: 0.0058496\ttotal: 964ms\tremaining: 6.23s\n",
      "134:\tlearn: 0.0058295\ttotal: 971ms\tremaining: 6.22s\n",
      "135:\tlearn: 0.0058135\ttotal: 978ms\tremaining: 6.21s\n",
      "136:\tlearn: 0.0058076\ttotal: 984ms\tremaining: 6.2s\n",
      "137:\tlearn: 0.0058041\ttotal: 990ms\tremaining: 6.18s\n",
      "138:\tlearn: 0.0057931\ttotal: 997ms\tremaining: 6.17s\n",
      "139:\tlearn: 0.0057507\ttotal: 1s\tremaining: 6.17s\n",
      "140:\tlearn: 0.0057298\ttotal: 1.01s\tremaining: 6.15s\n",
      "141:\tlearn: 0.0056975\ttotal: 1.02s\tremaining: 6.14s\n",
      "142:\tlearn: 0.0056904\ttotal: 1.03s\tremaining: 6.18s\n",
      "143:\tlearn: 0.0056772\ttotal: 1.04s\tremaining: 6.19s\n",
      "144:\tlearn: 0.0056583\ttotal: 1.05s\tremaining: 6.18s\n",
      "145:\tlearn: 0.0056536\ttotal: 1.05s\tremaining: 6.17s\n",
      "146:\tlearn: 0.0056370\ttotal: 1.06s\tremaining: 6.16s\n",
      "147:\tlearn: 0.0056254\ttotal: 1.07s\tremaining: 6.15s\n",
      "148:\tlearn: 0.0055988\ttotal: 1.07s\tremaining: 6.14s\n",
      "149:\tlearn: 0.0055908\ttotal: 1.08s\tremaining: 6.13s\n",
      "150:\tlearn: 0.0055639\ttotal: 1.09s\tremaining: 6.12s\n",
      "151:\tlearn: 0.0055239\ttotal: 1.09s\tremaining: 6.11s\n",
      "152:\tlearn: 0.0055147\ttotal: 1.1s\tremaining: 6.1s\n",
      "153:\tlearn: 0.0055020\ttotal: 1.11s\tremaining: 6.09s\n",
      "154:\tlearn: 0.0054976\ttotal: 1.11s\tremaining: 6.07s\n",
      "155:\tlearn: 0.0054900\ttotal: 1.12s\tremaining: 6.06s\n",
      "156:\tlearn: 0.0054717\ttotal: 1.13s\tremaining: 6.05s\n",
      "157:\tlearn: 0.0054599\ttotal: 1.13s\tremaining: 6.04s\n",
      "158:\tlearn: 0.0054463\ttotal: 1.14s\tremaining: 6.03s\n",
      "159:\tlearn: 0.0054398\ttotal: 1.15s\tremaining: 6.01s\n",
      "160:\tlearn: 0.0054373\ttotal: 1.15s\tremaining: 6s\n",
      "161:\tlearn: 0.0054275\ttotal: 1.16s\tremaining: 5.99s\n",
      "162:\tlearn: 0.0053993\ttotal: 1.16s\tremaining: 5.97s\n",
      "163:\tlearn: 0.0053939\ttotal: 1.17s\tremaining: 5.96s\n",
      "164:\tlearn: 0.0053756\ttotal: 1.17s\tremaining: 5.95s\n",
      "165:\tlearn: 0.0053650\ttotal: 1.18s\tremaining: 5.93s\n",
      "166:\tlearn: 0.0053604\ttotal: 1.19s\tremaining: 5.92s\n",
      "167:\tlearn: 0.0053533\ttotal: 1.19s\tremaining: 5.91s\n"
     ]
    },
    {
     "name": "stdout",
     "output_type": "stream",
     "text": [
      "168:\tlearn: 0.0053489\ttotal: 1.2s\tremaining: 5.9s\n",
      "169:\tlearn: 0.0053265\ttotal: 1.21s\tremaining: 5.9s\n",
      "170:\tlearn: 0.0053160\ttotal: 1.21s\tremaining: 5.89s\n",
      "171:\tlearn: 0.0053128\ttotal: 1.22s\tremaining: 5.88s\n",
      "172:\tlearn: 0.0053005\ttotal: 1.23s\tremaining: 5.87s\n",
      "173:\tlearn: 0.0052964\ttotal: 1.23s\tremaining: 5.86s\n",
      "174:\tlearn: 0.0052910\ttotal: 1.24s\tremaining: 5.85s\n",
      "175:\tlearn: 0.0052889\ttotal: 1.25s\tremaining: 5.84s\n",
      "176:\tlearn: 0.0052783\ttotal: 1.25s\tremaining: 5.83s\n",
      "177:\tlearn: 0.0052752\ttotal: 1.26s\tremaining: 5.82s\n",
      "178:\tlearn: 0.0052715\ttotal: 1.27s\tremaining: 5.81s\n",
      "179:\tlearn: 0.0052505\ttotal: 1.27s\tremaining: 5.8s\n",
      "180:\tlearn: 0.0052450\ttotal: 1.28s\tremaining: 5.79s\n",
      "181:\tlearn: 0.0052322\ttotal: 1.29s\tremaining: 5.78s\n",
      "182:\tlearn: 0.0052282\ttotal: 1.29s\tremaining: 5.78s\n",
      "183:\tlearn: 0.0052165\ttotal: 1.3s\tremaining: 5.77s\n",
      "184:\tlearn: 0.0052135\ttotal: 1.31s\tremaining: 5.76s\n",
      "185:\tlearn: 0.0052060\ttotal: 1.31s\tremaining: 5.75s\n",
      "186:\tlearn: 0.0052030\ttotal: 1.32s\tremaining: 5.74s\n",
      "187:\tlearn: 0.0051879\ttotal: 1.33s\tremaining: 5.73s\n",
      "188:\tlearn: 0.0051863\ttotal: 1.33s\tremaining: 5.72s\n",
      "189:\tlearn: 0.0051838\ttotal: 1.34s\tremaining: 5.71s\n",
      "190:\tlearn: 0.0051798\ttotal: 1.35s\tremaining: 5.7s\n",
      "191:\tlearn: 0.0051777\ttotal: 1.35s\tremaining: 5.69s\n",
      "192:\tlearn: 0.0051741\ttotal: 1.36s\tremaining: 5.68s\n",
      "193:\tlearn: 0.0051490\ttotal: 1.37s\tremaining: 5.68s\n",
      "194:\tlearn: 0.0051357\ttotal: 1.37s\tremaining: 5.67s\n",
      "195:\tlearn: 0.0051212\ttotal: 1.38s\tremaining: 5.66s\n",
      "196:\tlearn: 0.0051141\ttotal: 1.39s\tremaining: 5.65s\n",
      "197:\tlearn: 0.0051040\ttotal: 1.39s\tremaining: 5.64s\n",
      "198:\tlearn: 0.0050858\ttotal: 1.4s\tremaining: 5.63s\n",
      "199:\tlearn: 0.0050826\ttotal: 1.41s\tremaining: 5.62s\n",
      "200:\tlearn: 0.0050803\ttotal: 1.41s\tremaining: 5.62s\n",
      "201:\tlearn: 0.0050682\ttotal: 1.42s\tremaining: 5.61s\n",
      "202:\tlearn: 0.0050663\ttotal: 1.43s\tremaining: 5.6s\n",
      "203:\tlearn: 0.0050608\ttotal: 1.43s\tremaining: 5.59s\n",
      "204:\tlearn: 0.0050585\ttotal: 1.44s\tremaining: 5.58s\n",
      "205:\tlearn: 0.0050570\ttotal: 1.45s\tremaining: 5.57s\n",
      "206:\tlearn: 0.0050378\ttotal: 1.45s\tremaining: 5.56s\n",
      "207:\tlearn: 0.0050258\ttotal: 1.46s\tremaining: 5.55s\n",
      "208:\tlearn: 0.0050101\ttotal: 1.47s\tremaining: 5.55s\n",
      "209:\tlearn: 0.0050088\ttotal: 1.47s\tremaining: 5.54s\n",
      "210:\tlearn: 0.0050070\ttotal: 1.48s\tremaining: 5.53s\n",
      "211:\tlearn: 0.0049943\ttotal: 1.48s\tremaining: 5.52s\n",
      "212:\tlearn: 0.0049931\ttotal: 1.49s\tremaining: 5.51s\n",
      "213:\tlearn: 0.0049907\ttotal: 1.5s\tremaining: 5.5s\n",
      "214:\tlearn: 0.0049819\ttotal: 1.5s\tremaining: 5.49s\n",
      "215:\tlearn: 0.0049783\ttotal: 1.51s\tremaining: 5.48s\n",
      "216:\tlearn: 0.0049673\ttotal: 1.52s\tremaining: 5.48s\n",
      "217:\tlearn: 0.0049659\ttotal: 1.52s\tremaining: 5.47s\n",
      "218:\tlearn: 0.0049502\ttotal: 1.53s\tremaining: 5.46s\n",
      "219:\tlearn: 0.0049480\ttotal: 1.54s\tremaining: 5.45s\n",
      "220:\tlearn: 0.0049356\ttotal: 1.54s\tremaining: 5.45s\n",
      "221:\tlearn: 0.0049246\ttotal: 1.55s\tremaining: 5.44s\n",
      "222:\tlearn: 0.0049144\ttotal: 1.56s\tremaining: 5.43s\n",
      "223:\tlearn: 0.0049103\ttotal: 1.56s\tremaining: 5.42s\n",
      "224:\tlearn: 0.0049082\ttotal: 1.57s\tremaining: 5.41s\n",
      "225:\tlearn: 0.0049034\ttotal: 1.58s\tremaining: 5.4s\n",
      "226:\tlearn: 0.0049015\ttotal: 1.58s\tremaining: 5.39s\n",
      "227:\tlearn: 0.0048910\ttotal: 1.59s\tremaining: 5.39s\n",
      "228:\tlearn: 0.0048893\ttotal: 1.6s\tremaining: 5.38s\n",
      "229:\tlearn: 0.0048813\ttotal: 1.6s\tremaining: 5.37s\n",
      "230:\tlearn: 0.0048664\ttotal: 1.61s\tremaining: 5.36s\n",
      "231:\tlearn: 0.0048586\ttotal: 1.62s\tremaining: 5.35s\n",
      "232:\tlearn: 0.0048541\ttotal: 1.62s\tremaining: 5.35s\n",
      "233:\tlearn: 0.0048454\ttotal: 1.63s\tremaining: 5.34s\n",
      "234:\tlearn: 0.0048359\ttotal: 1.64s\tremaining: 5.33s\n",
      "235:\tlearn: 0.0048342\ttotal: 1.64s\tremaining: 5.32s\n",
      "236:\tlearn: 0.0048229\ttotal: 1.65s\tremaining: 5.31s\n",
      "237:\tlearn: 0.0048214\ttotal: 1.66s\tremaining: 5.31s\n",
      "238:\tlearn: 0.0048198\ttotal: 1.66s\tremaining: 5.3s\n",
      "239:\tlearn: 0.0048051\ttotal: 1.67s\tremaining: 5.29s\n",
      "240:\tlearn: 0.0047973\ttotal: 1.68s\tremaining: 5.28s\n",
      "241:\tlearn: 0.0047768\ttotal: 1.68s\tremaining: 5.27s\n",
      "242:\tlearn: 0.0047671\ttotal: 1.69s\tremaining: 5.27s\n",
      "243:\tlearn: 0.0047438\ttotal: 1.7s\tremaining: 5.26s\n",
      "244:\tlearn: 0.0047368\ttotal: 1.7s\tremaining: 5.25s\n",
      "245:\tlearn: 0.0047321\ttotal: 1.71s\tremaining: 5.24s\n",
      "246:\tlearn: 0.0047307\ttotal: 1.72s\tremaining: 5.23s\n",
      "247:\tlearn: 0.0047234\ttotal: 1.72s\tremaining: 5.22s\n",
      "248:\tlearn: 0.0047173\ttotal: 1.73s\tremaining: 5.21s\n",
      "249:\tlearn: 0.0047133\ttotal: 1.74s\tremaining: 5.21s\n",
      "250:\tlearn: 0.0047050\ttotal: 1.74s\tremaining: 5.2s\n",
      "251:\tlearn: 0.0047015\ttotal: 1.75s\tremaining: 5.19s\n",
      "252:\tlearn: 0.0046981\ttotal: 1.75s\tremaining: 5.18s\n",
      "253:\tlearn: 0.0046964\ttotal: 1.76s\tremaining: 5.17s\n",
      "254:\tlearn: 0.0046889\ttotal: 1.77s\tremaining: 5.16s\n",
      "255:\tlearn: 0.0046745\ttotal: 1.77s\tremaining: 5.16s\n",
      "256:\tlearn: 0.0046611\ttotal: 1.78s\tremaining: 5.15s\n",
      "257:\tlearn: 0.0046479\ttotal: 1.79s\tremaining: 5.14s\n",
      "258:\tlearn: 0.0046429\ttotal: 1.79s\tremaining: 5.13s\n",
      "259:\tlearn: 0.0046401\ttotal: 1.8s\tremaining: 5.13s\n",
      "260:\tlearn: 0.0046347\ttotal: 1.81s\tremaining: 5.12s\n",
      "261:\tlearn: 0.0046235\ttotal: 1.81s\tremaining: 5.11s\n",
      "262:\tlearn: 0.0046154\ttotal: 1.82s\tremaining: 5.1s\n",
      "263:\tlearn: 0.0046090\ttotal: 1.83s\tremaining: 5.09s\n",
      "264:\tlearn: 0.0046064\ttotal: 1.83s\tremaining: 5.09s\n",
      "265:\tlearn: 0.0045923\ttotal: 1.84s\tremaining: 5.08s\n",
      "266:\tlearn: 0.0045873\ttotal: 1.85s\tremaining: 5.07s\n",
      "267:\tlearn: 0.0045828\ttotal: 1.85s\tremaining: 5.07s\n",
      "268:\tlearn: 0.0045647\ttotal: 1.86s\tremaining: 5.06s\n",
      "269:\tlearn: 0.0045607\ttotal: 1.87s\tremaining: 5.05s\n",
      "270:\tlearn: 0.0045525\ttotal: 1.87s\tremaining: 5.04s\n",
      "271:\tlearn: 0.0045505\ttotal: 1.88s\tremaining: 5.04s\n",
      "272:\tlearn: 0.0045443\ttotal: 1.89s\tremaining: 5.03s\n",
      "273:\tlearn: 0.0045346\ttotal: 1.89s\tremaining: 5.02s\n",
      "274:\tlearn: 0.0045236\ttotal: 1.9s\tremaining: 5.01s\n",
      "275:\tlearn: 0.0045197\ttotal: 1.91s\tremaining: 5s\n",
      "276:\tlearn: 0.0045175\ttotal: 1.91s\tremaining: 4.99s\n",
      "277:\tlearn: 0.0045132\ttotal: 1.92s\tremaining: 4.99s\n",
      "278:\tlearn: 0.0045072\ttotal: 1.93s\tremaining: 4.98s\n",
      "279:\tlearn: 0.0044902\ttotal: 1.93s\tremaining: 4.97s\n",
      "280:\tlearn: 0.0044762\ttotal: 1.94s\tremaining: 4.96s\n",
      "281:\tlearn: 0.0044721\ttotal: 1.95s\tremaining: 4.95s\n",
      "282:\tlearn: 0.0044590\ttotal: 1.95s\tremaining: 4.95s\n",
      "283:\tlearn: 0.0044445\ttotal: 1.96s\tremaining: 4.94s\n",
      "284:\tlearn: 0.0044420\ttotal: 1.97s\tremaining: 4.93s\n",
      "285:\tlearn: 0.0044365\ttotal: 1.97s\tremaining: 4.93s\n",
      "286:\tlearn: 0.0044281\ttotal: 1.98s\tremaining: 4.92s\n",
      "287:\tlearn: 0.0044201\ttotal: 1.99s\tremaining: 4.91s\n",
      "288:\tlearn: 0.0044147\ttotal: 1.99s\tremaining: 4.9s\n",
      "289:\tlearn: 0.0044114\ttotal: 2s\tremaining: 4.89s\n",
      "290:\tlearn: 0.0044010\ttotal: 2s\tremaining: 4.89s\n",
      "291:\tlearn: 0.0043843\ttotal: 2.01s\tremaining: 4.88s\n",
      "292:\tlearn: 0.0043694\ttotal: 2.02s\tremaining: 4.87s\n",
      "293:\tlearn: 0.0043585\ttotal: 2.02s\tremaining: 4.86s\n",
      "294:\tlearn: 0.0043468\ttotal: 2.03s\tremaining: 4.86s\n",
      "295:\tlearn: 0.0043201\ttotal: 2.04s\tremaining: 4.85s\n",
      "296:\tlearn: 0.0043180\ttotal: 2.04s\tremaining: 4.84s\n",
      "297:\tlearn: 0.0043127\ttotal: 2.05s\tremaining: 4.83s\n",
      "298:\tlearn: 0.0043090\ttotal: 2.06s\tremaining: 4.83s\n",
      "299:\tlearn: 0.0042997\ttotal: 2.06s\tremaining: 4.82s\n",
      "300:\tlearn: 0.0042978\ttotal: 2.07s\tremaining: 4.81s\n",
      "301:\tlearn: 0.0042958\ttotal: 2.08s\tremaining: 4.8s\n",
      "302:\tlearn: 0.0042836\ttotal: 2.08s\tremaining: 4.79s\n",
      "303:\tlearn: 0.0042818\ttotal: 2.09s\tremaining: 4.79s\n",
      "304:\tlearn: 0.0042782\ttotal: 2.1s\tremaining: 4.78s\n",
      "305:\tlearn: 0.0042712\ttotal: 2.1s\tremaining: 4.77s\n",
      "306:\tlearn: 0.0042664\ttotal: 2.11s\tremaining: 4.76s\n",
      "307:\tlearn: 0.0042585\ttotal: 2.12s\tremaining: 4.75s\n",
      "308:\tlearn: 0.0042492\ttotal: 2.12s\tremaining: 4.75s\n",
      "309:\tlearn: 0.0042393\ttotal: 2.13s\tremaining: 4.74s\n",
      "310:\tlearn: 0.0042317\ttotal: 2.13s\tremaining: 4.73s\n",
      "311:\tlearn: 0.0042285\ttotal: 2.14s\tremaining: 4.72s\n",
      "312:\tlearn: 0.0042116\ttotal: 2.15s\tremaining: 4.72s\n",
      "313:\tlearn: 0.0042100\ttotal: 2.15s\tremaining: 4.71s\n",
      "314:\tlearn: 0.0042026\ttotal: 2.16s\tremaining: 4.7s\n",
      "315:\tlearn: 0.0041888\ttotal: 2.17s\tremaining: 4.7s\n",
      "316:\tlearn: 0.0041855\ttotal: 2.17s\tremaining: 4.69s\n",
      "317:\tlearn: 0.0041768\ttotal: 2.18s\tremaining: 4.68s\n",
      "318:\tlearn: 0.0041736\ttotal: 2.19s\tremaining: 4.67s\n",
      "319:\tlearn: 0.0041714\ttotal: 2.2s\tremaining: 4.67s\n",
      "320:\tlearn: 0.0041612\ttotal: 2.2s\tremaining: 4.66s\n",
      "321:\tlearn: 0.0041522\ttotal: 2.21s\tremaining: 4.65s\n",
      "322:\tlearn: 0.0041447\ttotal: 2.22s\tremaining: 4.64s\n",
      "323:\tlearn: 0.0041413\ttotal: 2.22s\tremaining: 4.63s\n",
      "324:\tlearn: 0.0041400\ttotal: 2.23s\tremaining: 4.63s\n",
      "325:\tlearn: 0.0041302\ttotal: 2.23s\tremaining: 4.62s\n",
      "326:\tlearn: 0.0041286\ttotal: 2.24s\tremaining: 4.61s\n",
      "327:\tlearn: 0.0041247\ttotal: 2.25s\tremaining: 4.61s\n",
      "328:\tlearn: 0.0041188\ttotal: 2.25s\tremaining: 4.6s\n",
      "329:\tlearn: 0.0041125\ttotal: 2.26s\tremaining: 4.59s\n",
      "330:\tlearn: 0.0041034\ttotal: 2.27s\tremaining: 4.58s\n",
      "331:\tlearn: 0.0040887\ttotal: 2.27s\tremaining: 4.58s\n",
      "332:\tlearn: 0.0040859\ttotal: 2.28s\tremaining: 4.57s\n",
      "333:\tlearn: 0.0040742\ttotal: 2.29s\tremaining: 4.56s\n",
      "334:\tlearn: 0.0040684\ttotal: 2.29s\tremaining: 4.55s\n",
      "335:\tlearn: 0.0040642\ttotal: 2.3s\tremaining: 4.54s\n",
      "336:\tlearn: 0.0040618\ttotal: 2.31s\tremaining: 4.54s\n",
      "337:\tlearn: 0.0040581\ttotal: 2.31s\tremaining: 4.53s\n",
      "338:\tlearn: 0.0040548\ttotal: 2.32s\tremaining: 4.52s\n",
      "339:\tlearn: 0.0040391\ttotal: 2.33s\tremaining: 4.51s\n",
      "340:\tlearn: 0.0040309\ttotal: 2.33s\tremaining: 4.51s\n",
      "341:\tlearn: 0.0040253\ttotal: 2.34s\tremaining: 4.5s\n",
      "342:\tlearn: 0.0040223\ttotal: 2.35s\tremaining: 4.49s\n",
      "343:\tlearn: 0.0040206\ttotal: 2.35s\tremaining: 4.48s\n",
      "344:\tlearn: 0.0040169\ttotal: 2.36s\tremaining: 4.48s\n",
      "345:\tlearn: 0.0040142\ttotal: 2.36s\tremaining: 4.47s\n",
      "346:\tlearn: 0.0040115\ttotal: 2.37s\tremaining: 4.46s\n",
      "347:\tlearn: 0.0040049\ttotal: 2.38s\tremaining: 4.45s\n",
      "348:\tlearn: 0.0039992\ttotal: 2.38s\tremaining: 4.44s\n",
      "349:\tlearn: 0.0039980\ttotal: 2.39s\tremaining: 4.44s\n",
      "350:\tlearn: 0.0039949\ttotal: 2.4s\tremaining: 4.43s\n",
      "351:\tlearn: 0.0039864\ttotal: 2.4s\tremaining: 4.42s\n",
      "352:\tlearn: 0.0039768\ttotal: 2.41s\tremaining: 4.42s\n"
     ]
    },
    {
     "name": "stdout",
     "output_type": "stream",
     "text": [
      "353:\tlearn: 0.0039707\ttotal: 2.42s\tremaining: 4.41s\n",
      "354:\tlearn: 0.0039698\ttotal: 2.42s\tremaining: 4.4s\n",
      "355:\tlearn: 0.0039604\ttotal: 2.43s\tremaining: 4.39s\n",
      "356:\tlearn: 0.0039446\ttotal: 2.44s\tremaining: 4.39s\n",
      "357:\tlearn: 0.0039375\ttotal: 2.44s\tremaining: 4.38s\n",
      "358:\tlearn: 0.0039359\ttotal: 2.45s\tremaining: 4.37s\n",
      "359:\tlearn: 0.0039323\ttotal: 2.46s\tremaining: 4.37s\n",
      "360:\tlearn: 0.0039282\ttotal: 2.46s\tremaining: 4.36s\n",
      "361:\tlearn: 0.0039165\ttotal: 2.47s\tremaining: 4.35s\n",
      "362:\tlearn: 0.0039153\ttotal: 2.48s\tremaining: 4.35s\n",
      "363:\tlearn: 0.0039099\ttotal: 2.48s\tremaining: 4.34s\n",
      "364:\tlearn: 0.0039057\ttotal: 2.49s\tremaining: 4.33s\n",
      "365:\tlearn: 0.0039031\ttotal: 2.5s\tremaining: 4.32s\n",
      "366:\tlearn: 0.0039012\ttotal: 2.5s\tremaining: 4.32s\n",
      "367:\tlearn: 0.0038920\ttotal: 2.51s\tremaining: 4.31s\n",
      "368:\tlearn: 0.0038879\ttotal: 2.52s\tremaining: 4.3s\n",
      "369:\tlearn: 0.0038841\ttotal: 2.52s\tremaining: 4.29s\n",
      "370:\tlearn: 0.0038744\ttotal: 2.53s\tremaining: 4.29s\n",
      "371:\tlearn: 0.0038739\ttotal: 2.54s\tremaining: 4.28s\n",
      "372:\tlearn: 0.0038616\ttotal: 2.54s\tremaining: 4.27s\n",
      "373:\tlearn: 0.0038517\ttotal: 2.55s\tremaining: 4.27s\n",
      "374:\tlearn: 0.0038500\ttotal: 2.56s\tremaining: 4.26s\n",
      "375:\tlearn: 0.0038472\ttotal: 2.56s\tremaining: 4.25s\n",
      "376:\tlearn: 0.0038447\ttotal: 2.57s\tremaining: 4.24s\n",
      "377:\tlearn: 0.0038391\ttotal: 2.58s\tremaining: 4.24s\n",
      "378:\tlearn: 0.0038385\ttotal: 2.58s\tremaining: 4.23s\n",
      "379:\tlearn: 0.0038357\ttotal: 2.59s\tremaining: 4.22s\n",
      "380:\tlearn: 0.0038254\ttotal: 2.6s\tremaining: 4.22s\n",
      "381:\tlearn: 0.0038194\ttotal: 2.6s\tremaining: 4.21s\n",
      "382:\tlearn: 0.0038147\ttotal: 2.61s\tremaining: 4.2s\n",
      "383:\tlearn: 0.0038035\ttotal: 2.62s\tremaining: 4.2s\n",
      "384:\tlearn: 0.0037975\ttotal: 2.62s\tremaining: 4.19s\n",
      "385:\tlearn: 0.0037855\ttotal: 2.63s\tremaining: 4.18s\n",
      "386:\tlearn: 0.0037822\ttotal: 2.63s\tremaining: 4.17s\n",
      "387:\tlearn: 0.0037743\ttotal: 2.64s\tremaining: 4.17s\n",
      "388:\tlearn: 0.0037698\ttotal: 2.65s\tremaining: 4.16s\n",
      "389:\tlearn: 0.0037591\ttotal: 2.66s\tremaining: 4.16s\n",
      "390:\tlearn: 0.0037559\ttotal: 2.66s\tremaining: 4.15s\n",
      "391:\tlearn: 0.0037516\ttotal: 2.67s\tremaining: 4.14s\n",
      "392:\tlearn: 0.0037506\ttotal: 2.68s\tremaining: 4.13s\n",
      "393:\tlearn: 0.0037491\ttotal: 2.68s\tremaining: 4.13s\n",
      "394:\tlearn: 0.0037369\ttotal: 2.69s\tremaining: 4.12s\n",
      "395:\tlearn: 0.0037275\ttotal: 2.7s\tremaining: 4.11s\n",
      "396:\tlearn: 0.0037205\ttotal: 2.7s\tremaining: 4.11s\n",
      "397:\tlearn: 0.0037193\ttotal: 2.71s\tremaining: 4.1s\n",
      "398:\tlearn: 0.0037172\ttotal: 2.72s\tremaining: 4.09s\n",
      "399:\tlearn: 0.0037142\ttotal: 2.72s\tremaining: 4.08s\n",
      "400:\tlearn: 0.0037073\ttotal: 2.73s\tremaining: 4.08s\n",
      "401:\tlearn: 0.0037064\ttotal: 2.73s\tremaining: 4.07s\n",
      "402:\tlearn: 0.0037058\ttotal: 2.74s\tremaining: 4.06s\n",
      "403:\tlearn: 0.0037044\ttotal: 2.75s\tremaining: 4.05s\n",
      "404:\tlearn: 0.0036952\ttotal: 2.75s\tremaining: 4.05s\n",
      "405:\tlearn: 0.0036860\ttotal: 2.76s\tremaining: 4.04s\n",
      "406:\tlearn: 0.0036834\ttotal: 2.77s\tremaining: 4.03s\n",
      "407:\tlearn: 0.0036757\ttotal: 2.77s\tremaining: 4.02s\n",
      "408:\tlearn: 0.0036694\ttotal: 2.78s\tremaining: 4.02s\n",
      "409:\tlearn: 0.0036682\ttotal: 2.79s\tremaining: 4.01s\n",
      "410:\tlearn: 0.0036674\ttotal: 2.79s\tremaining: 4s\n",
      "411:\tlearn: 0.0036575\ttotal: 2.8s\tremaining: 4s\n",
      "412:\tlearn: 0.0036381\ttotal: 2.81s\tremaining: 3.99s\n",
      "413:\tlearn: 0.0036376\ttotal: 2.81s\tremaining: 3.98s\n",
      "414:\tlearn: 0.0036370\ttotal: 2.82s\tremaining: 3.97s\n",
      "415:\tlearn: 0.0036285\ttotal: 2.83s\tremaining: 3.97s\n",
      "416:\tlearn: 0.0036219\ttotal: 2.83s\tremaining: 3.96s\n",
      "417:\tlearn: 0.0036214\ttotal: 2.84s\tremaining: 3.95s\n",
      "418:\tlearn: 0.0036132\ttotal: 2.85s\tremaining: 3.95s\n",
      "419:\tlearn: 0.0036096\ttotal: 2.85s\tremaining: 3.94s\n",
      "420:\tlearn: 0.0036044\ttotal: 2.86s\tremaining: 3.93s\n",
      "421:\tlearn: 0.0035980\ttotal: 2.87s\tremaining: 3.92s\n",
      "422:\tlearn: 0.0035857\ttotal: 2.87s\tremaining: 3.92s\n",
      "423:\tlearn: 0.0035768\ttotal: 2.88s\tremaining: 3.91s\n",
      "424:\tlearn: 0.0035747\ttotal: 2.88s\tremaining: 3.9s\n",
      "425:\tlearn: 0.0035741\ttotal: 2.89s\tremaining: 3.9s\n",
      "426:\tlearn: 0.0035728\ttotal: 2.9s\tremaining: 3.89s\n",
      "427:\tlearn: 0.0035715\ttotal: 2.9s\tremaining: 3.88s\n",
      "428:\tlearn: 0.0035624\ttotal: 2.91s\tremaining: 3.87s\n",
      "429:\tlearn: 0.0035556\ttotal: 2.92s\tremaining: 3.87s\n",
      "430:\tlearn: 0.0035478\ttotal: 2.92s\tremaining: 3.86s\n",
      "431:\tlearn: 0.0035377\ttotal: 2.93s\tremaining: 3.85s\n",
      "432:\tlearn: 0.0035359\ttotal: 2.94s\tremaining: 3.84s\n",
      "433:\tlearn: 0.0035326\ttotal: 2.94s\tremaining: 3.84s\n",
      "434:\tlearn: 0.0035302\ttotal: 2.95s\tremaining: 3.83s\n",
      "435:\tlearn: 0.0035286\ttotal: 2.95s\tremaining: 3.82s\n",
      "436:\tlearn: 0.0035214\ttotal: 2.96s\tremaining: 3.81s\n",
      "437:\tlearn: 0.0035206\ttotal: 2.97s\tremaining: 3.81s\n",
      "438:\tlearn: 0.0035184\ttotal: 2.97s\tremaining: 3.8s\n",
      "439:\tlearn: 0.0035142\ttotal: 2.98s\tremaining: 3.79s\n",
      "440:\tlearn: 0.0035078\ttotal: 2.99s\tremaining: 3.79s\n",
      "441:\tlearn: 0.0034892\ttotal: 2.99s\tremaining: 3.78s\n",
      "442:\tlearn: 0.0034866\ttotal: 3s\tremaining: 3.77s\n",
      "443:\tlearn: 0.0034853\ttotal: 3s\tremaining: 3.76s\n",
      "444:\tlearn: 0.0034679\ttotal: 3.01s\tremaining: 3.76s\n",
      "445:\tlearn: 0.0034667\ttotal: 3.02s\tremaining: 3.75s\n",
      "446:\tlearn: 0.0034635\ttotal: 3.02s\tremaining: 3.74s\n",
      "447:\tlearn: 0.0034613\ttotal: 3.03s\tremaining: 3.73s\n",
      "448:\tlearn: 0.0034603\ttotal: 3.04s\tremaining: 3.73s\n",
      "449:\tlearn: 0.0034559\ttotal: 3.04s\tremaining: 3.72s\n",
      "450:\tlearn: 0.0034529\ttotal: 3.05s\tremaining: 3.71s\n",
      "451:\tlearn: 0.0034509\ttotal: 3.06s\tremaining: 3.71s\n",
      "452:\tlearn: 0.0034426\ttotal: 3.06s\tremaining: 3.7s\n",
      "453:\tlearn: 0.0034408\ttotal: 3.07s\tremaining: 3.69s\n",
      "454:\tlearn: 0.0034400\ttotal: 3.08s\tremaining: 3.69s\n",
      "455:\tlearn: 0.0034181\ttotal: 3.08s\tremaining: 3.68s\n",
      "456:\tlearn: 0.0034141\ttotal: 3.09s\tremaining: 3.67s\n",
      "457:\tlearn: 0.0034135\ttotal: 3.1s\tremaining: 3.67s\n",
      "458:\tlearn: 0.0034107\ttotal: 3.1s\tremaining: 3.66s\n",
      "459:\tlearn: 0.0034100\ttotal: 3.11s\tremaining: 3.65s\n",
      "460:\tlearn: 0.0034073\ttotal: 3.12s\tremaining: 3.64s\n",
      "461:\tlearn: 0.0034013\ttotal: 3.12s\tremaining: 3.64s\n",
      "462:\tlearn: 0.0033999\ttotal: 3.13s\tremaining: 3.63s\n",
      "463:\tlearn: 0.0033972\ttotal: 3.14s\tremaining: 3.62s\n",
      "464:\tlearn: 0.0033964\ttotal: 3.14s\tremaining: 3.62s\n",
      "465:\tlearn: 0.0033957\ttotal: 3.15s\tremaining: 3.61s\n",
      "466:\tlearn: 0.0033841\ttotal: 3.16s\tremaining: 3.6s\n",
      "467:\tlearn: 0.0033648\ttotal: 3.16s\tremaining: 3.6s\n",
      "468:\tlearn: 0.0033622\ttotal: 3.17s\tremaining: 3.59s\n",
      "469:\tlearn: 0.0033574\ttotal: 3.17s\tremaining: 3.58s\n",
      "470:\tlearn: 0.0033563\ttotal: 3.18s\tremaining: 3.57s\n",
      "471:\tlearn: 0.0033548\ttotal: 3.19s\tremaining: 3.57s\n",
      "472:\tlearn: 0.0033525\ttotal: 3.19s\tremaining: 3.56s\n",
      "473:\tlearn: 0.0033501\ttotal: 3.2s\tremaining: 3.55s\n",
      "474:\tlearn: 0.0033315\ttotal: 3.21s\tremaining: 3.54s\n",
      "475:\tlearn: 0.0033301\ttotal: 3.21s\tremaining: 3.54s\n",
      "476:\tlearn: 0.0033159\ttotal: 3.22s\tremaining: 3.53s\n",
      "477:\tlearn: 0.0033140\ttotal: 3.23s\tremaining: 3.52s\n",
      "478:\tlearn: 0.0033016\ttotal: 3.23s\tremaining: 3.52s\n",
      "479:\tlearn: 0.0032997\ttotal: 3.24s\tremaining: 3.51s\n",
      "480:\tlearn: 0.0032960\ttotal: 3.25s\tremaining: 3.5s\n",
      "481:\tlearn: 0.0032930\ttotal: 3.25s\tremaining: 3.5s\n",
      "482:\tlearn: 0.0032849\ttotal: 3.26s\tremaining: 3.49s\n",
      "483:\tlearn: 0.0032835\ttotal: 3.27s\tremaining: 3.48s\n",
      "484:\tlearn: 0.0032787\ttotal: 3.27s\tremaining: 3.48s\n",
      "485:\tlearn: 0.0032673\ttotal: 3.28s\tremaining: 3.47s\n",
      "486:\tlearn: 0.0032661\ttotal: 3.29s\tremaining: 3.46s\n",
      "487:\tlearn: 0.0032638\ttotal: 3.29s\tremaining: 3.46s\n",
      "488:\tlearn: 0.0032608\ttotal: 3.3s\tremaining: 3.45s\n",
      "489:\tlearn: 0.0032516\ttotal: 3.31s\tremaining: 3.44s\n",
      "490:\tlearn: 0.0032495\ttotal: 3.31s\tremaining: 3.44s\n",
      "491:\tlearn: 0.0032467\ttotal: 3.32s\tremaining: 3.43s\n",
      "492:\tlearn: 0.0032448\ttotal: 3.33s\tremaining: 3.42s\n",
      "493:\tlearn: 0.0032413\ttotal: 3.33s\tremaining: 3.42s\n",
      "494:\tlearn: 0.0032401\ttotal: 3.34s\tremaining: 3.41s\n",
      "495:\tlearn: 0.0032394\ttotal: 3.35s\tremaining: 3.4s\n",
      "496:\tlearn: 0.0032192\ttotal: 3.35s\tremaining: 3.39s\n",
      "497:\tlearn: 0.0032155\ttotal: 3.36s\tremaining: 3.39s\n",
      "498:\tlearn: 0.0032144\ttotal: 3.37s\tremaining: 3.38s\n",
      "499:\tlearn: 0.0032083\ttotal: 3.37s\tremaining: 3.37s\n",
      "500:\tlearn: 0.0032038\ttotal: 3.38s\tremaining: 3.36s\n",
      "501:\tlearn: 0.0032012\ttotal: 3.38s\tremaining: 3.36s\n",
      "502:\tlearn: 0.0031970\ttotal: 3.39s\tremaining: 3.35s\n",
      "503:\tlearn: 0.0031808\ttotal: 3.4s\tremaining: 3.34s\n",
      "504:\tlearn: 0.0031790\ttotal: 3.4s\tremaining: 3.34s\n",
      "505:\tlearn: 0.0031744\ttotal: 3.41s\tremaining: 3.33s\n",
      "506:\tlearn: 0.0031702\ttotal: 3.42s\tremaining: 3.32s\n",
      "507:\tlearn: 0.0031685\ttotal: 3.42s\tremaining: 3.31s\n",
      "508:\tlearn: 0.0031568\ttotal: 3.43s\tremaining: 3.31s\n",
      "509:\tlearn: 0.0031534\ttotal: 3.44s\tremaining: 3.3s\n",
      "510:\tlearn: 0.0031505\ttotal: 3.44s\tremaining: 3.29s\n",
      "511:\tlearn: 0.0031493\ttotal: 3.45s\tremaining: 3.29s\n",
      "512:\tlearn: 0.0031331\ttotal: 3.46s\tremaining: 3.28s\n",
      "513:\tlearn: 0.0031317\ttotal: 3.46s\tremaining: 3.27s\n",
      "514:\tlearn: 0.0031310\ttotal: 3.47s\tremaining: 3.27s\n",
      "515:\tlearn: 0.0031241\ttotal: 3.48s\tremaining: 3.26s\n",
      "516:\tlearn: 0.0031188\ttotal: 3.48s\tremaining: 3.25s\n",
      "517:\tlearn: 0.0031095\ttotal: 3.49s\tremaining: 3.25s\n",
      "518:\tlearn: 0.0031061\ttotal: 3.5s\tremaining: 3.24s\n",
      "519:\tlearn: 0.0031008\ttotal: 3.5s\tremaining: 3.23s\n",
      "520:\tlearn: 0.0030981\ttotal: 3.51s\tremaining: 3.23s\n",
      "521:\tlearn: 0.0030879\ttotal: 3.52s\tremaining: 3.22s\n",
      "522:\tlearn: 0.0030808\ttotal: 3.52s\tremaining: 3.21s\n",
      "523:\tlearn: 0.0030732\ttotal: 3.53s\tremaining: 3.21s\n",
      "524:\tlearn: 0.0030626\ttotal: 3.54s\tremaining: 3.2s\n",
      "525:\tlearn: 0.0030616\ttotal: 3.54s\tremaining: 3.19s\n",
      "526:\tlearn: 0.0030592\ttotal: 3.55s\tremaining: 3.19s\n",
      "527:\tlearn: 0.0030459\ttotal: 3.56s\tremaining: 3.18s\n",
      "528:\tlearn: 0.0030447\ttotal: 3.56s\tremaining: 3.17s\n",
      "529:\tlearn: 0.0030432\ttotal: 3.57s\tremaining: 3.16s\n",
      "530:\tlearn: 0.0030373\ttotal: 3.58s\tremaining: 3.16s\n",
      "531:\tlearn: 0.0030355\ttotal: 3.58s\tremaining: 3.15s\n",
      "532:\tlearn: 0.0030344\ttotal: 3.59s\tremaining: 3.14s\n",
      "533:\tlearn: 0.0030199\ttotal: 3.59s\tremaining: 3.14s\n",
      "534:\tlearn: 0.0030154\ttotal: 3.6s\tremaining: 3.13s\n",
      "535:\tlearn: 0.0030019\ttotal: 3.61s\tremaining: 3.12s\n",
      "536:\tlearn: 0.0029987\ttotal: 3.61s\tremaining: 3.12s\n",
      "537:\tlearn: 0.0029937\ttotal: 3.62s\tremaining: 3.11s\n",
      "538:\tlearn: 0.0029924\ttotal: 3.63s\tremaining: 3.1s\n"
     ]
    },
    {
     "name": "stdout",
     "output_type": "stream",
     "text": [
      "539:\tlearn: 0.0029903\ttotal: 3.63s\tremaining: 3.1s\n",
      "540:\tlearn: 0.0029855\ttotal: 3.64s\tremaining: 3.09s\n",
      "541:\tlearn: 0.0029756\ttotal: 3.66s\tremaining: 3.09s\n",
      "542:\tlearn: 0.0029744\ttotal: 3.66s\tremaining: 3.08s\n",
      "543:\tlearn: 0.0029707\ttotal: 3.67s\tremaining: 3.08s\n",
      "544:\tlearn: 0.0029683\ttotal: 3.68s\tremaining: 3.07s\n",
      "545:\tlearn: 0.0029608\ttotal: 3.68s\tremaining: 3.06s\n",
      "546:\tlearn: 0.0029462\ttotal: 3.69s\tremaining: 3.06s\n",
      "547:\tlearn: 0.0029459\ttotal: 3.7s\tremaining: 3.05s\n",
      "548:\tlearn: 0.0029439\ttotal: 3.7s\tremaining: 3.04s\n",
      "549:\tlearn: 0.0029432\ttotal: 3.71s\tremaining: 3.04s\n",
      "550:\tlearn: 0.0029398\ttotal: 3.72s\tremaining: 3.03s\n",
      "551:\tlearn: 0.0029230\ttotal: 3.72s\tremaining: 3.02s\n",
      "552:\tlearn: 0.0029201\ttotal: 3.73s\tremaining: 3.01s\n",
      "553:\tlearn: 0.0029164\ttotal: 3.73s\tremaining: 3.01s\n",
      "554:\tlearn: 0.0029122\ttotal: 3.74s\tremaining: 3s\n",
      "555:\tlearn: 0.0029113\ttotal: 3.75s\tremaining: 2.99s\n",
      "556:\tlearn: 0.0029105\ttotal: 3.75s\tremaining: 2.99s\n",
      "557:\tlearn: 0.0029063\ttotal: 3.76s\tremaining: 2.98s\n",
      "558:\tlearn: 0.0029055\ttotal: 3.77s\tremaining: 2.97s\n",
      "559:\tlearn: 0.0029047\ttotal: 3.77s\tremaining: 2.96s\n",
      "560:\tlearn: 0.0029022\ttotal: 3.78s\tremaining: 2.96s\n",
      "561:\tlearn: 0.0028944\ttotal: 3.79s\tremaining: 2.95s\n",
      "562:\tlearn: 0.0028791\ttotal: 3.79s\tremaining: 2.94s\n",
      "563:\tlearn: 0.0028778\ttotal: 3.8s\tremaining: 2.94s\n",
      "564:\tlearn: 0.0028774\ttotal: 3.81s\tremaining: 2.93s\n",
      "565:\tlearn: 0.0028698\ttotal: 3.81s\tremaining: 2.92s\n",
      "566:\tlearn: 0.0028683\ttotal: 3.82s\tremaining: 2.92s\n",
      "567:\tlearn: 0.0028679\ttotal: 3.83s\tremaining: 2.91s\n",
      "568:\tlearn: 0.0028662\ttotal: 3.83s\tremaining: 2.9s\n",
      "569:\tlearn: 0.0028648\ttotal: 3.84s\tremaining: 2.9s\n",
      "570:\tlearn: 0.0028626\ttotal: 3.85s\tremaining: 2.89s\n",
      "571:\tlearn: 0.0028612\ttotal: 3.85s\tremaining: 2.88s\n",
      "572:\tlearn: 0.0028589\ttotal: 3.86s\tremaining: 2.88s\n",
      "573:\tlearn: 0.0028571\ttotal: 3.87s\tremaining: 2.87s\n",
      "574:\tlearn: 0.0028545\ttotal: 3.87s\tremaining: 2.86s\n",
      "575:\tlearn: 0.0028531\ttotal: 3.88s\tremaining: 2.85s\n",
      "576:\tlearn: 0.0028393\ttotal: 3.89s\tremaining: 2.85s\n",
      "577:\tlearn: 0.0028325\ttotal: 3.89s\tremaining: 2.84s\n",
      "578:\tlearn: 0.0028256\ttotal: 3.9s\tremaining: 2.83s\n",
      "579:\tlearn: 0.0028176\ttotal: 3.9s\tremaining: 2.83s\n",
      "580:\tlearn: 0.0028118\ttotal: 3.91s\tremaining: 2.82s\n",
      "581:\tlearn: 0.0028054\ttotal: 3.92s\tremaining: 2.81s\n",
      "582:\tlearn: 0.0027997\ttotal: 3.92s\tremaining: 2.81s\n",
      "583:\tlearn: 0.0027977\ttotal: 3.93s\tremaining: 2.8s\n",
      "584:\tlearn: 0.0027957\ttotal: 3.94s\tremaining: 2.79s\n",
      "585:\tlearn: 0.0027929\ttotal: 3.94s\tremaining: 2.79s\n",
      "586:\tlearn: 0.0027913\ttotal: 3.95s\tremaining: 2.78s\n",
      "587:\tlearn: 0.0027884\ttotal: 3.96s\tremaining: 2.77s\n",
      "588:\tlearn: 0.0027880\ttotal: 3.96s\tremaining: 2.77s\n",
      "589:\tlearn: 0.0027793\ttotal: 3.97s\tremaining: 2.76s\n",
      "590:\tlearn: 0.0027775\ttotal: 3.98s\tremaining: 2.75s\n",
      "591:\tlearn: 0.0027690\ttotal: 3.98s\tremaining: 2.75s\n",
      "592:\tlearn: 0.0027626\ttotal: 3.99s\tremaining: 2.74s\n",
      "593:\tlearn: 0.0027588\ttotal: 4s\tremaining: 2.73s\n",
      "594:\tlearn: 0.0027577\ttotal: 4s\tremaining: 2.72s\n",
      "595:\tlearn: 0.0027553\ttotal: 4.01s\tremaining: 2.72s\n",
      "596:\tlearn: 0.0027529\ttotal: 4.02s\tremaining: 2.71s\n",
      "597:\tlearn: 0.0027522\ttotal: 4.02s\tremaining: 2.7s\n",
      "598:\tlearn: 0.0027427\ttotal: 4.03s\tremaining: 2.7s\n",
      "599:\tlearn: 0.0027383\ttotal: 4.04s\tremaining: 2.69s\n",
      "600:\tlearn: 0.0027307\ttotal: 4.04s\tremaining: 2.68s\n",
      "601:\tlearn: 0.0027303\ttotal: 4.05s\tremaining: 2.68s\n",
      "602:\tlearn: 0.0027264\ttotal: 4.06s\tremaining: 2.67s\n",
      "603:\tlearn: 0.0027262\ttotal: 4.06s\tremaining: 2.66s\n",
      "604:\tlearn: 0.0027259\ttotal: 4.07s\tremaining: 2.66s\n",
      "605:\tlearn: 0.0027203\ttotal: 4.08s\tremaining: 2.65s\n",
      "606:\tlearn: 0.0027191\ttotal: 4.08s\tremaining: 2.64s\n",
      "607:\tlearn: 0.0027123\ttotal: 4.09s\tremaining: 2.64s\n",
      "608:\tlearn: 0.0027026\ttotal: 4.1s\tremaining: 2.63s\n",
      "609:\tlearn: 0.0026957\ttotal: 4.1s\tremaining: 2.62s\n",
      "610:\tlearn: 0.0026905\ttotal: 4.11s\tremaining: 2.62s\n",
      "611:\tlearn: 0.0026882\ttotal: 4.12s\tremaining: 2.61s\n",
      "612:\tlearn: 0.0026857\ttotal: 4.12s\tremaining: 2.6s\n",
      "613:\tlearn: 0.0026801\ttotal: 4.13s\tremaining: 2.6s\n",
      "614:\tlearn: 0.0026768\ttotal: 4.13s\tremaining: 2.59s\n",
      "615:\tlearn: 0.0026758\ttotal: 4.14s\tremaining: 2.58s\n",
      "616:\tlearn: 0.0026722\ttotal: 4.15s\tremaining: 2.58s\n",
      "617:\tlearn: 0.0026712\ttotal: 4.15s\tremaining: 2.57s\n",
      "618:\tlearn: 0.0026687\ttotal: 4.16s\tremaining: 2.56s\n",
      "619:\tlearn: 0.0026682\ttotal: 4.17s\tremaining: 2.55s\n",
      "620:\tlearn: 0.0026658\ttotal: 4.17s\tremaining: 2.55s\n",
      "621:\tlearn: 0.0026647\ttotal: 4.18s\tremaining: 2.54s\n",
      "622:\tlearn: 0.0026605\ttotal: 4.19s\tremaining: 2.53s\n",
      "623:\tlearn: 0.0026537\ttotal: 4.19s\tremaining: 2.53s\n",
      "624:\tlearn: 0.0026512\ttotal: 4.2s\tremaining: 2.52s\n",
      "625:\tlearn: 0.0026480\ttotal: 4.21s\tremaining: 2.51s\n",
      "626:\tlearn: 0.0026443\ttotal: 4.21s\tremaining: 2.5s\n",
      "627:\tlearn: 0.0026410\ttotal: 4.22s\tremaining: 2.5s\n",
      "628:\tlearn: 0.0026398\ttotal: 4.22s\tremaining: 2.49s\n",
      "629:\tlearn: 0.0026282\ttotal: 4.23s\tremaining: 2.48s\n",
      "630:\tlearn: 0.0026272\ttotal: 4.24s\tremaining: 2.48s\n",
      "631:\tlearn: 0.0026262\ttotal: 4.24s\tremaining: 2.47s\n",
      "632:\tlearn: 0.0026243\ttotal: 4.25s\tremaining: 2.46s\n",
      "633:\tlearn: 0.0026235\ttotal: 4.26s\tremaining: 2.46s\n",
      "634:\tlearn: 0.0026227\ttotal: 4.26s\tremaining: 2.45s\n",
      "635:\tlearn: 0.0026204\ttotal: 4.27s\tremaining: 2.44s\n",
      "636:\tlearn: 0.0026097\ttotal: 4.28s\tremaining: 2.44s\n",
      "637:\tlearn: 0.0026040\ttotal: 4.28s\tremaining: 2.43s\n",
      "638:\tlearn: 0.0026012\ttotal: 4.29s\tremaining: 2.42s\n",
      "639:\tlearn: 0.0025984\ttotal: 4.3s\tremaining: 2.42s\n",
      "640:\tlearn: 0.0025944\ttotal: 4.3s\tremaining: 2.41s\n",
      "641:\tlearn: 0.0025934\ttotal: 4.31s\tremaining: 2.4s\n",
      "642:\tlearn: 0.0025894\ttotal: 4.32s\tremaining: 2.4s\n",
      "643:\tlearn: 0.0025848\ttotal: 4.32s\tremaining: 2.39s\n",
      "644:\tlearn: 0.0025842\ttotal: 4.33s\tremaining: 2.38s\n",
      "645:\tlearn: 0.0025747\ttotal: 4.34s\tremaining: 2.38s\n",
      "646:\tlearn: 0.0025740\ttotal: 4.34s\tremaining: 2.37s\n",
      "647:\tlearn: 0.0025699\ttotal: 4.35s\tremaining: 2.36s\n",
      "648:\tlearn: 0.0025661\ttotal: 4.36s\tremaining: 2.35s\n",
      "649:\tlearn: 0.0025615\ttotal: 4.36s\tremaining: 2.35s\n",
      "650:\tlearn: 0.0025596\ttotal: 4.37s\tremaining: 2.34s\n",
      "651:\tlearn: 0.0025593\ttotal: 4.38s\tremaining: 2.33s\n",
      "652:\tlearn: 0.0025589\ttotal: 4.38s\tremaining: 2.33s\n",
      "653:\tlearn: 0.0025581\ttotal: 4.39s\tremaining: 2.32s\n",
      "654:\tlearn: 0.0025578\ttotal: 4.39s\tremaining: 2.31s\n",
      "655:\tlearn: 0.0025538\ttotal: 4.4s\tremaining: 2.31s\n",
      "656:\tlearn: 0.0025496\ttotal: 4.41s\tremaining: 2.3s\n",
      "657:\tlearn: 0.0025466\ttotal: 4.42s\tremaining: 2.29s\n",
      "658:\tlearn: 0.0025447\ttotal: 4.42s\tremaining: 2.29s\n",
      "659:\tlearn: 0.0025408\ttotal: 4.43s\tremaining: 2.28s\n",
      "660:\tlearn: 0.0025339\ttotal: 4.43s\tremaining: 2.27s\n",
      "661:\tlearn: 0.0025306\ttotal: 4.44s\tremaining: 2.27s\n",
      "662:\tlearn: 0.0025295\ttotal: 4.45s\tremaining: 2.26s\n",
      "663:\tlearn: 0.0025277\ttotal: 4.46s\tremaining: 2.25s\n",
      "664:\tlearn: 0.0025241\ttotal: 4.46s\tremaining: 2.25s\n",
      "665:\tlearn: 0.0025238\ttotal: 4.47s\tremaining: 2.24s\n",
      "666:\tlearn: 0.0025213\ttotal: 4.48s\tremaining: 2.23s\n",
      "667:\tlearn: 0.0025197\ttotal: 4.48s\tremaining: 2.23s\n",
      "668:\tlearn: 0.0025175\ttotal: 4.49s\tremaining: 2.22s\n",
      "669:\tlearn: 0.0025118\ttotal: 4.5s\tremaining: 2.21s\n",
      "670:\tlearn: 0.0025077\ttotal: 4.5s\tremaining: 2.21s\n",
      "671:\tlearn: 0.0025074\ttotal: 4.51s\tremaining: 2.2s\n",
      "672:\tlearn: 0.0025046\ttotal: 4.51s\tremaining: 2.19s\n",
      "673:\tlearn: 0.0024970\ttotal: 4.52s\tremaining: 2.19s\n",
      "674:\tlearn: 0.0024941\ttotal: 4.53s\tremaining: 2.18s\n",
      "675:\tlearn: 0.0024918\ttotal: 4.54s\tremaining: 2.17s\n",
      "676:\tlearn: 0.0024916\ttotal: 4.54s\tremaining: 2.17s\n",
      "677:\tlearn: 0.0024893\ttotal: 4.55s\tremaining: 2.16s\n",
      "678:\tlearn: 0.0024854\ttotal: 4.55s\tremaining: 2.15s\n",
      "679:\tlearn: 0.0024852\ttotal: 4.56s\tremaining: 2.15s\n",
      "680:\tlearn: 0.0024769\ttotal: 4.57s\tremaining: 2.14s\n",
      "681:\tlearn: 0.0024750\ttotal: 4.58s\tremaining: 2.13s\n",
      "682:\tlearn: 0.0024699\ttotal: 4.58s\tremaining: 2.13s\n",
      "683:\tlearn: 0.0024692\ttotal: 4.59s\tremaining: 2.12s\n",
      "684:\tlearn: 0.0024640\ttotal: 4.59s\tremaining: 2.11s\n",
      "685:\tlearn: 0.0024574\ttotal: 4.6s\tremaining: 2.11s\n",
      "686:\tlearn: 0.0024559\ttotal: 4.61s\tremaining: 2.1s\n",
      "687:\tlearn: 0.0024524\ttotal: 4.61s\tremaining: 2.09s\n",
      "688:\tlearn: 0.0024478\ttotal: 4.62s\tremaining: 2.08s\n",
      "689:\tlearn: 0.0024440\ttotal: 4.63s\tremaining: 2.08s\n",
      "690:\tlearn: 0.0024435\ttotal: 4.63s\tremaining: 2.07s\n",
      "691:\tlearn: 0.0024402\ttotal: 4.64s\tremaining: 2.06s\n",
      "692:\tlearn: 0.0024361\ttotal: 4.64s\tremaining: 2.06s\n",
      "693:\tlearn: 0.0024328\ttotal: 4.65s\tremaining: 2.05s\n",
      "694:\tlearn: 0.0024282\ttotal: 4.66s\tremaining: 2.04s\n",
      "695:\tlearn: 0.0024251\ttotal: 4.67s\tremaining: 2.04s\n",
      "696:\tlearn: 0.0024245\ttotal: 4.67s\tremaining: 2.03s\n",
      "697:\tlearn: 0.0024204\ttotal: 4.68s\tremaining: 2.02s\n",
      "698:\tlearn: 0.0024193\ttotal: 4.69s\tremaining: 2.02s\n",
      "699:\tlearn: 0.0024185\ttotal: 4.69s\tremaining: 2.01s\n",
      "700:\tlearn: 0.0024178\ttotal: 4.7s\tremaining: 2s\n",
      "701:\tlearn: 0.0024134\ttotal: 4.71s\tremaining: 2s\n",
      "702:\tlearn: 0.0024121\ttotal: 4.71s\tremaining: 1.99s\n",
      "703:\tlearn: 0.0024074\ttotal: 4.72s\tremaining: 1.98s\n",
      "704:\tlearn: 0.0024045\ttotal: 4.72s\tremaining: 1.98s\n",
      "705:\tlearn: 0.0024025\ttotal: 4.73s\tremaining: 1.97s\n",
      "706:\tlearn: 0.0023962\ttotal: 4.74s\tremaining: 1.96s\n",
      "707:\tlearn: 0.0023960\ttotal: 4.74s\tremaining: 1.96s\n",
      "708:\tlearn: 0.0023900\ttotal: 4.75s\tremaining: 1.95s\n",
      "709:\tlearn: 0.0023894\ttotal: 4.76s\tremaining: 1.94s\n",
      "710:\tlearn: 0.0023846\ttotal: 4.76s\tremaining: 1.94s\n",
      "711:\tlearn: 0.0023844\ttotal: 4.77s\tremaining: 1.93s\n",
      "712:\tlearn: 0.0023811\ttotal: 4.78s\tremaining: 1.92s\n",
      "713:\tlearn: 0.0023809\ttotal: 4.78s\tremaining: 1.92s\n",
      "714:\tlearn: 0.0023778\ttotal: 4.79s\tremaining: 1.91s\n",
      "715:\tlearn: 0.0023750\ttotal: 4.79s\tremaining: 1.9s\n",
      "716:\tlearn: 0.0023739\ttotal: 4.8s\tremaining: 1.89s\n",
      "717:\tlearn: 0.0023728\ttotal: 4.81s\tremaining: 1.89s\n",
      "718:\tlearn: 0.0023704\ttotal: 4.81s\tremaining: 1.88s\n",
      "719:\tlearn: 0.0023690\ttotal: 4.82s\tremaining: 1.87s\n",
      "720:\tlearn: 0.0023649\ttotal: 4.83s\tremaining: 1.87s\n",
      "721:\tlearn: 0.0023635\ttotal: 4.83s\tremaining: 1.86s\n",
      "722:\tlearn: 0.0023625\ttotal: 4.84s\tremaining: 1.85s\n",
      "723:\tlearn: 0.0023595\ttotal: 4.84s\tremaining: 1.85s\n",
      "724:\tlearn: 0.0023564\ttotal: 4.85s\tremaining: 1.84s\n"
     ]
    },
    {
     "name": "stdout",
     "output_type": "stream",
     "text": [
      "725:\tlearn: 0.0023506\ttotal: 4.86s\tremaining: 1.83s\n",
      "726:\tlearn: 0.0023496\ttotal: 4.86s\tremaining: 1.83s\n",
      "727:\tlearn: 0.0023470\ttotal: 4.87s\tremaining: 1.82s\n",
      "728:\tlearn: 0.0023466\ttotal: 4.88s\tremaining: 1.81s\n",
      "729:\tlearn: 0.0023428\ttotal: 4.88s\tremaining: 1.81s\n",
      "730:\tlearn: 0.0023426\ttotal: 4.89s\tremaining: 1.8s\n",
      "731:\tlearn: 0.0023397\ttotal: 4.9s\tremaining: 1.79s\n",
      "732:\tlearn: 0.0023354\ttotal: 4.91s\tremaining: 1.79s\n",
      "733:\tlearn: 0.0023330\ttotal: 4.91s\tremaining: 1.78s\n",
      "734:\tlearn: 0.0023283\ttotal: 4.92s\tremaining: 1.77s\n",
      "735:\tlearn: 0.0023191\ttotal: 4.93s\tremaining: 1.77s\n",
      "736:\tlearn: 0.0023173\ttotal: 4.93s\tremaining: 1.76s\n",
      "737:\tlearn: 0.0023153\ttotal: 4.94s\tremaining: 1.75s\n",
      "738:\tlearn: 0.0023151\ttotal: 4.95s\tremaining: 1.75s\n",
      "739:\tlearn: 0.0023123\ttotal: 4.95s\tremaining: 1.74s\n",
      "740:\tlearn: 0.0023077\ttotal: 4.96s\tremaining: 1.73s\n",
      "741:\tlearn: 0.0023074\ttotal: 4.97s\tremaining: 1.73s\n",
      "742:\tlearn: 0.0023047\ttotal: 4.97s\tremaining: 1.72s\n",
      "743:\tlearn: 0.0023016\ttotal: 4.98s\tremaining: 1.71s\n",
      "744:\tlearn: 0.0022995\ttotal: 4.99s\tremaining: 1.71s\n",
      "745:\tlearn: 0.0022969\ttotal: 4.99s\tremaining: 1.7s\n",
      "746:\tlearn: 0.0022966\ttotal: 5s\tremaining: 1.69s\n",
      "747:\tlearn: 0.0022952\ttotal: 5s\tremaining: 1.69s\n",
      "748:\tlearn: 0.0022950\ttotal: 5.01s\tremaining: 1.68s\n",
      "749:\tlearn: 0.0022909\ttotal: 5.02s\tremaining: 1.67s\n",
      "750:\tlearn: 0.0022892\ttotal: 5.02s\tremaining: 1.67s\n",
      "751:\tlearn: 0.0022844\ttotal: 5.03s\tremaining: 1.66s\n",
      "752:\tlearn: 0.0022819\ttotal: 5.04s\tremaining: 1.65s\n",
      "753:\tlearn: 0.0022737\ttotal: 5.04s\tremaining: 1.65s\n",
      "754:\tlearn: 0.0022716\ttotal: 5.05s\tremaining: 1.64s\n",
      "755:\tlearn: 0.0022693\ttotal: 5.06s\tremaining: 1.63s\n",
      "756:\tlearn: 0.0022687\ttotal: 5.06s\tremaining: 1.63s\n",
      "757:\tlearn: 0.0022666\ttotal: 5.07s\tremaining: 1.62s\n",
      "758:\tlearn: 0.0022641\ttotal: 5.08s\tremaining: 1.61s\n",
      "759:\tlearn: 0.0022621\ttotal: 5.08s\tremaining: 1.6s\n",
      "760:\tlearn: 0.0022594\ttotal: 5.09s\tremaining: 1.6s\n",
      "761:\tlearn: 0.0022591\ttotal: 5.1s\tremaining: 1.59s\n",
      "762:\tlearn: 0.0022568\ttotal: 5.1s\tremaining: 1.58s\n",
      "763:\tlearn: 0.0022516\ttotal: 5.11s\tremaining: 1.58s\n",
      "764:\tlearn: 0.0022499\ttotal: 5.12s\tremaining: 1.57s\n",
      "765:\tlearn: 0.0022480\ttotal: 5.12s\tremaining: 1.56s\n",
      "766:\tlearn: 0.0022455\ttotal: 5.13s\tremaining: 1.56s\n",
      "767:\tlearn: 0.0022446\ttotal: 5.14s\tremaining: 1.55s\n",
      "768:\tlearn: 0.0022442\ttotal: 5.14s\tremaining: 1.54s\n",
      "769:\tlearn: 0.0022437\ttotal: 5.15s\tremaining: 1.54s\n",
      "770:\tlearn: 0.0022396\ttotal: 5.16s\tremaining: 1.53s\n",
      "771:\tlearn: 0.0022340\ttotal: 5.16s\tremaining: 1.52s\n",
      "772:\tlearn: 0.0022297\ttotal: 5.17s\tremaining: 1.52s\n",
      "773:\tlearn: 0.0022278\ttotal: 5.17s\tremaining: 1.51s\n",
      "774:\tlearn: 0.0022246\ttotal: 5.18s\tremaining: 1.5s\n",
      "775:\tlearn: 0.0022207\ttotal: 5.19s\tremaining: 1.5s\n",
      "776:\tlearn: 0.0022197\ttotal: 5.19s\tremaining: 1.49s\n",
      "777:\tlearn: 0.0022154\ttotal: 5.2s\tremaining: 1.48s\n",
      "778:\tlearn: 0.0022141\ttotal: 5.21s\tremaining: 1.48s\n",
      "779:\tlearn: 0.0022120\ttotal: 5.21s\tremaining: 1.47s\n",
      "780:\tlearn: 0.0022098\ttotal: 5.22s\tremaining: 1.46s\n",
      "781:\tlearn: 0.0022065\ttotal: 5.23s\tremaining: 1.46s\n",
      "782:\tlearn: 0.0022047\ttotal: 5.23s\tremaining: 1.45s\n",
      "783:\tlearn: 0.0022021\ttotal: 5.24s\tremaining: 1.44s\n",
      "784:\tlearn: 0.0021977\ttotal: 5.25s\tremaining: 1.44s\n",
      "785:\tlearn: 0.0021913\ttotal: 5.25s\tremaining: 1.43s\n",
      "786:\tlearn: 0.0021898\ttotal: 5.26s\tremaining: 1.42s\n",
      "787:\tlearn: 0.0021867\ttotal: 5.27s\tremaining: 1.42s\n",
      "788:\tlearn: 0.0021857\ttotal: 5.27s\tremaining: 1.41s\n",
      "789:\tlearn: 0.0021841\ttotal: 5.28s\tremaining: 1.4s\n",
      "790:\tlearn: 0.0021836\ttotal: 5.29s\tremaining: 1.4s\n",
      "791:\tlearn: 0.0021803\ttotal: 5.29s\tremaining: 1.39s\n",
      "792:\tlearn: 0.0021786\ttotal: 5.3s\tremaining: 1.38s\n",
      "793:\tlearn: 0.0021729\ttotal: 5.31s\tremaining: 1.38s\n",
      "794:\tlearn: 0.0021684\ttotal: 5.31s\tremaining: 1.37s\n",
      "795:\tlearn: 0.0021665\ttotal: 5.32s\tremaining: 1.36s\n",
      "796:\tlearn: 0.0021662\ttotal: 5.33s\tremaining: 1.36s\n",
      "797:\tlearn: 0.0021623\ttotal: 5.33s\tremaining: 1.35s\n",
      "798:\tlearn: 0.0021601\ttotal: 5.34s\tremaining: 1.34s\n",
      "799:\tlearn: 0.0021524\ttotal: 5.34s\tremaining: 1.34s\n",
      "800:\tlearn: 0.0021488\ttotal: 5.35s\tremaining: 1.33s\n",
      "801:\tlearn: 0.0021487\ttotal: 5.36s\tremaining: 1.32s\n",
      "802:\tlearn: 0.0021436\ttotal: 5.37s\tremaining: 1.32s\n",
      "803:\tlearn: 0.0021434\ttotal: 5.37s\tremaining: 1.31s\n",
      "804:\tlearn: 0.0021382\ttotal: 5.38s\tremaining: 1.3s\n",
      "805:\tlearn: 0.0021363\ttotal: 5.38s\tremaining: 1.3s\n",
      "806:\tlearn: 0.0021362\ttotal: 5.39s\tremaining: 1.29s\n",
      "807:\tlearn: 0.0021350\ttotal: 5.4s\tremaining: 1.28s\n",
      "808:\tlearn: 0.0021305\ttotal: 5.4s\tremaining: 1.28s\n",
      "809:\tlearn: 0.0021289\ttotal: 5.41s\tremaining: 1.27s\n",
      "810:\tlearn: 0.0021288\ttotal: 5.42s\tremaining: 1.26s\n",
      "811:\tlearn: 0.0021254\ttotal: 5.42s\tremaining: 1.25s\n",
      "812:\tlearn: 0.0021245\ttotal: 5.43s\tremaining: 1.25s\n",
      "813:\tlearn: 0.0021230\ttotal: 5.44s\tremaining: 1.24s\n",
      "814:\tlearn: 0.0021180\ttotal: 5.44s\tremaining: 1.24s\n",
      "815:\tlearn: 0.0021176\ttotal: 5.45s\tremaining: 1.23s\n",
      "816:\tlearn: 0.0021156\ttotal: 5.46s\tremaining: 1.22s\n",
      "817:\tlearn: 0.0021150\ttotal: 5.46s\tremaining: 1.22s\n",
      "818:\tlearn: 0.0021115\ttotal: 5.47s\tremaining: 1.21s\n",
      "819:\tlearn: 0.0021092\ttotal: 5.48s\tremaining: 1.2s\n",
      "820:\tlearn: 0.0021050\ttotal: 5.48s\tremaining: 1.2s\n",
      "821:\tlearn: 0.0021028\ttotal: 5.49s\tremaining: 1.19s\n",
      "822:\tlearn: 0.0020979\ttotal: 5.5s\tremaining: 1.18s\n",
      "823:\tlearn: 0.0020944\ttotal: 5.5s\tremaining: 1.18s\n",
      "824:\tlearn: 0.0020895\ttotal: 5.51s\tremaining: 1.17s\n",
      "825:\tlearn: 0.0020891\ttotal: 5.52s\tremaining: 1.16s\n",
      "826:\tlearn: 0.0020871\ttotal: 5.52s\tremaining: 1.16s\n",
      "827:\tlearn: 0.0020829\ttotal: 5.53s\tremaining: 1.15s\n",
      "828:\tlearn: 0.0020825\ttotal: 5.54s\tremaining: 1.14s\n",
      "829:\tlearn: 0.0020781\ttotal: 5.54s\tremaining: 1.14s\n",
      "830:\tlearn: 0.0020766\ttotal: 5.55s\tremaining: 1.13s\n",
      "831:\tlearn: 0.0020718\ttotal: 5.56s\tremaining: 1.12s\n",
      "832:\tlearn: 0.0020709\ttotal: 5.56s\tremaining: 1.11s\n",
      "833:\tlearn: 0.0020629\ttotal: 5.57s\tremaining: 1.11s\n",
      "834:\tlearn: 0.0020597\ttotal: 5.58s\tremaining: 1.1s\n",
      "835:\tlearn: 0.0020566\ttotal: 5.58s\tremaining: 1.09s\n",
      "836:\tlearn: 0.0020545\ttotal: 5.59s\tremaining: 1.09s\n",
      "837:\tlearn: 0.0020543\ttotal: 5.59s\tremaining: 1.08s\n",
      "838:\tlearn: 0.0020508\ttotal: 5.6s\tremaining: 1.07s\n",
      "839:\tlearn: 0.0020500\ttotal: 5.61s\tremaining: 1.07s\n",
      "840:\tlearn: 0.0020491\ttotal: 5.61s\tremaining: 1.06s\n",
      "841:\tlearn: 0.0020473\ttotal: 5.62s\tremaining: 1.05s\n",
      "842:\tlearn: 0.0020432\ttotal: 5.63s\tremaining: 1.05s\n",
      "843:\tlearn: 0.0020425\ttotal: 5.63s\tremaining: 1.04s\n",
      "844:\tlearn: 0.0020399\ttotal: 5.64s\tremaining: 1.03s\n",
      "845:\tlearn: 0.0020374\ttotal: 5.65s\tremaining: 1.03s\n",
      "846:\tlearn: 0.0020345\ttotal: 5.65s\tremaining: 1.02s\n",
      "847:\tlearn: 0.0020338\ttotal: 5.66s\tremaining: 1.01s\n",
      "848:\tlearn: 0.0020324\ttotal: 5.67s\tremaining: 1.01s\n",
      "849:\tlearn: 0.0020317\ttotal: 5.67s\tremaining: 1s\n",
      "850:\tlearn: 0.0020313\ttotal: 5.68s\tremaining: 994ms\n",
      "851:\tlearn: 0.0020308\ttotal: 5.68s\tremaining: 988ms\n",
      "852:\tlearn: 0.0020294\ttotal: 5.69s\tremaining: 981ms\n",
      "853:\tlearn: 0.0020278\ttotal: 5.7s\tremaining: 974ms\n",
      "854:\tlearn: 0.0020255\ttotal: 5.71s\tremaining: 968ms\n",
      "855:\tlearn: 0.0020233\ttotal: 5.71s\tremaining: 961ms\n",
      "856:\tlearn: 0.0020212\ttotal: 5.72s\tremaining: 954ms\n",
      "857:\tlearn: 0.0020107\ttotal: 5.72s\tremaining: 948ms\n",
      "858:\tlearn: 0.0020105\ttotal: 5.73s\tremaining: 941ms\n",
      "859:\tlearn: 0.0020084\ttotal: 5.74s\tremaining: 934ms\n",
      "860:\tlearn: 0.0020075\ttotal: 5.75s\tremaining: 928ms\n",
      "861:\tlearn: 0.0020062\ttotal: 5.75s\tremaining: 921ms\n",
      "862:\tlearn: 0.0020042\ttotal: 5.76s\tremaining: 914ms\n",
      "863:\tlearn: 0.0020037\ttotal: 5.76s\tremaining: 907ms\n",
      "864:\tlearn: 0.0020036\ttotal: 5.77s\tremaining: 901ms\n",
      "865:\tlearn: 0.0020010\ttotal: 5.78s\tremaining: 894ms\n",
      "866:\tlearn: 0.0020008\ttotal: 5.78s\tremaining: 887ms\n",
      "867:\tlearn: 0.0019982\ttotal: 5.79s\tremaining: 881ms\n",
      "868:\tlearn: 0.0019960\ttotal: 5.8s\tremaining: 874ms\n",
      "869:\tlearn: 0.0019900\ttotal: 5.8s\tremaining: 867ms\n",
      "870:\tlearn: 0.0019854\ttotal: 5.81s\tremaining: 861ms\n",
      "871:\tlearn: 0.0019819\ttotal: 5.82s\tremaining: 854ms\n",
      "872:\tlearn: 0.0019789\ttotal: 5.82s\tremaining: 847ms\n",
      "873:\tlearn: 0.0019774\ttotal: 5.83s\tremaining: 841ms\n",
      "874:\tlearn: 0.0019755\ttotal: 5.84s\tremaining: 834ms\n",
      "875:\tlearn: 0.0019754\ttotal: 5.84s\tremaining: 827ms\n",
      "876:\tlearn: 0.0019731\ttotal: 5.85s\tremaining: 820ms\n",
      "877:\tlearn: 0.0019687\ttotal: 5.86s\tremaining: 814ms\n",
      "878:\tlearn: 0.0019681\ttotal: 5.86s\tremaining: 807ms\n",
      "879:\tlearn: 0.0019653\ttotal: 5.87s\tremaining: 800ms\n",
      "880:\tlearn: 0.0019562\ttotal: 5.88s\tremaining: 794ms\n",
      "881:\tlearn: 0.0019520\ttotal: 5.88s\tremaining: 787ms\n",
      "882:\tlearn: 0.0019462\ttotal: 5.89s\tremaining: 780ms\n",
      "883:\tlearn: 0.0019448\ttotal: 5.9s\tremaining: 774ms\n",
      "884:\tlearn: 0.0019434\ttotal: 5.9s\tremaining: 767ms\n",
      "885:\tlearn: 0.0019406\ttotal: 5.91s\tremaining: 760ms\n",
      "886:\tlearn: 0.0019404\ttotal: 5.92s\tremaining: 754ms\n",
      "887:\tlearn: 0.0019386\ttotal: 5.92s\tremaining: 747ms\n",
      "888:\tlearn: 0.0019384\ttotal: 5.93s\tremaining: 740ms\n",
      "889:\tlearn: 0.0019382\ttotal: 5.93s\tremaining: 734ms\n",
      "890:\tlearn: 0.0019370\ttotal: 5.94s\tremaining: 727ms\n",
      "891:\tlearn: 0.0019364\ttotal: 5.95s\tremaining: 720ms\n",
      "892:\tlearn: 0.0019351\ttotal: 5.96s\tremaining: 714ms\n",
      "893:\tlearn: 0.0019323\ttotal: 5.96s\tremaining: 707ms\n",
      "894:\tlearn: 0.0019305\ttotal: 5.97s\tremaining: 700ms\n",
      "895:\tlearn: 0.0019281\ttotal: 5.97s\tremaining: 694ms\n",
      "896:\tlearn: 0.0019269\ttotal: 5.98s\tremaining: 687ms\n",
      "897:\tlearn: 0.0019193\ttotal: 5.99s\tremaining: 680ms\n",
      "898:\tlearn: 0.0019182\ttotal: 6s\tremaining: 674ms\n",
      "899:\tlearn: 0.0019175\ttotal: 6s\tremaining: 667ms\n",
      "900:\tlearn: 0.0019168\ttotal: 6.01s\tremaining: 660ms\n",
      "901:\tlearn: 0.0019134\ttotal: 6.01s\tremaining: 653ms\n",
      "902:\tlearn: 0.0019128\ttotal: 6.02s\tremaining: 647ms\n",
      "903:\tlearn: 0.0019092\ttotal: 6.03s\tremaining: 640ms\n",
      "904:\tlearn: 0.0019051\ttotal: 6.03s\tremaining: 633ms\n",
      "905:\tlearn: 0.0019042\ttotal: 6.04s\tremaining: 627ms\n",
      "906:\tlearn: 0.0019023\ttotal: 6.05s\tremaining: 620ms\n",
      "907:\tlearn: 0.0019017\ttotal: 6.05s\tremaining: 613ms\n",
      "908:\tlearn: 0.0018984\ttotal: 6.06s\tremaining: 607ms\n",
      "909:\tlearn: 0.0018947\ttotal: 6.07s\tremaining: 600ms\n"
     ]
    },
    {
     "name": "stdout",
     "output_type": "stream",
     "text": [
      "910:\tlearn: 0.0018944\ttotal: 6.07s\tremaining: 593ms\n",
      "911:\tlearn: 0.0018908\ttotal: 6.08s\tremaining: 587ms\n",
      "912:\tlearn: 0.0018875\ttotal: 6.08s\tremaining: 580ms\n",
      "913:\tlearn: 0.0018873\ttotal: 6.09s\tremaining: 573ms\n",
      "914:\tlearn: 0.0018851\ttotal: 6.1s\tremaining: 567ms\n",
      "915:\tlearn: 0.0018850\ttotal: 6.11s\tremaining: 560ms\n",
      "916:\tlearn: 0.0018843\ttotal: 6.11s\tremaining: 553ms\n",
      "917:\tlearn: 0.0018823\ttotal: 6.12s\tremaining: 547ms\n",
      "918:\tlearn: 0.0018779\ttotal: 6.13s\tremaining: 540ms\n",
      "919:\tlearn: 0.0018775\ttotal: 6.13s\tremaining: 533ms\n",
      "920:\tlearn: 0.0018754\ttotal: 6.14s\tremaining: 526ms\n",
      "921:\tlearn: 0.0018742\ttotal: 6.14s\tremaining: 520ms\n",
      "922:\tlearn: 0.0018737\ttotal: 6.15s\tremaining: 513ms\n",
      "923:\tlearn: 0.0018718\ttotal: 6.16s\tremaining: 507ms\n",
      "924:\tlearn: 0.0018717\ttotal: 6.16s\tremaining: 500ms\n",
      "925:\tlearn: 0.0018688\ttotal: 6.17s\tremaining: 493ms\n",
      "926:\tlearn: 0.0018649\ttotal: 6.18s\tremaining: 486ms\n",
      "927:\tlearn: 0.0018624\ttotal: 6.18s\tremaining: 480ms\n",
      "928:\tlearn: 0.0018579\ttotal: 6.19s\tremaining: 473ms\n",
      "929:\tlearn: 0.0018567\ttotal: 6.2s\tremaining: 466ms\n",
      "930:\tlearn: 0.0018556\ttotal: 6.2s\tremaining: 460ms\n",
      "931:\tlearn: 0.0018554\ttotal: 6.21s\tremaining: 453ms\n",
      "932:\tlearn: 0.0018542\ttotal: 6.22s\tremaining: 446ms\n",
      "933:\tlearn: 0.0018519\ttotal: 6.22s\tremaining: 440ms\n",
      "934:\tlearn: 0.0018495\ttotal: 6.23s\tremaining: 433ms\n",
      "935:\tlearn: 0.0018474\ttotal: 6.24s\tremaining: 426ms\n",
      "936:\tlearn: 0.0018459\ttotal: 6.24s\tremaining: 420ms\n",
      "937:\tlearn: 0.0018429\ttotal: 6.25s\tremaining: 413ms\n",
      "938:\tlearn: 0.0018397\ttotal: 6.25s\tremaining: 406ms\n",
      "939:\tlearn: 0.0018369\ttotal: 6.26s\tremaining: 400ms\n",
      "940:\tlearn: 0.0018341\ttotal: 6.27s\tremaining: 393ms\n",
      "941:\tlearn: 0.0018339\ttotal: 6.28s\tremaining: 386ms\n",
      "942:\tlearn: 0.0018299\ttotal: 6.28s\tremaining: 380ms\n",
      "943:\tlearn: 0.0018292\ttotal: 6.29s\tremaining: 373ms\n",
      "944:\tlearn: 0.0018268\ttotal: 6.29s\tremaining: 366ms\n",
      "945:\tlearn: 0.0018244\ttotal: 6.3s\tremaining: 360ms\n",
      "946:\tlearn: 0.0018233\ttotal: 6.31s\tremaining: 353ms\n",
      "947:\tlearn: 0.0018217\ttotal: 6.32s\tremaining: 347ms\n",
      "948:\tlearn: 0.0018183\ttotal: 6.32s\tremaining: 340ms\n",
      "949:\tlearn: 0.0018174\ttotal: 6.33s\tremaining: 333ms\n",
      "950:\tlearn: 0.0018163\ttotal: 6.34s\tremaining: 327ms\n",
      "951:\tlearn: 0.0018144\ttotal: 6.34s\tremaining: 320ms\n",
      "952:\tlearn: 0.0018133\ttotal: 6.35s\tremaining: 313ms\n",
      "953:\tlearn: 0.0018080\ttotal: 6.36s\tremaining: 307ms\n",
      "954:\tlearn: 0.0018041\ttotal: 6.36s\tremaining: 300ms\n",
      "955:\tlearn: 0.0018038\ttotal: 6.37s\tremaining: 293ms\n",
      "956:\tlearn: 0.0018018\ttotal: 6.38s\tremaining: 286ms\n",
      "957:\tlearn: 0.0017971\ttotal: 6.38s\tremaining: 280ms\n",
      "958:\tlearn: 0.0017956\ttotal: 6.39s\tremaining: 273ms\n",
      "959:\tlearn: 0.0017954\ttotal: 6.39s\tremaining: 266ms\n",
      "960:\tlearn: 0.0017906\ttotal: 6.4s\tremaining: 260ms\n",
      "961:\tlearn: 0.0017830\ttotal: 6.41s\tremaining: 253ms\n",
      "962:\tlearn: 0.0017791\ttotal: 6.42s\tremaining: 247ms\n",
      "963:\tlearn: 0.0017775\ttotal: 6.42s\tremaining: 240ms\n",
      "964:\tlearn: 0.0017759\ttotal: 6.43s\tremaining: 233ms\n",
      "965:\tlearn: 0.0017739\ttotal: 6.43s\tremaining: 227ms\n",
      "966:\tlearn: 0.0017719\ttotal: 6.44s\tremaining: 220ms\n",
      "967:\tlearn: 0.0017708\ttotal: 6.45s\tremaining: 213ms\n",
      "968:\tlearn: 0.0017699\ttotal: 6.46s\tremaining: 207ms\n",
      "969:\tlearn: 0.0017689\ttotal: 6.46s\tremaining: 200ms\n",
      "970:\tlearn: 0.0017685\ttotal: 6.47s\tremaining: 193ms\n",
      "971:\tlearn: 0.0017672\ttotal: 6.47s\tremaining: 187ms\n",
      "972:\tlearn: 0.0017646\ttotal: 6.48s\tremaining: 180ms\n",
      "973:\tlearn: 0.0017632\ttotal: 6.49s\tremaining: 173ms\n",
      "974:\tlearn: 0.0017622\ttotal: 6.5s\tremaining: 167ms\n",
      "975:\tlearn: 0.0017605\ttotal: 6.5s\tremaining: 160ms\n",
      "976:\tlearn: 0.0017600\ttotal: 6.51s\tremaining: 153ms\n",
      "977:\tlearn: 0.0017598\ttotal: 6.51s\tremaining: 147ms\n",
      "978:\tlearn: 0.0017587\ttotal: 6.52s\tremaining: 140ms\n",
      "979:\tlearn: 0.0017579\ttotal: 6.53s\tremaining: 133ms\n",
      "980:\tlearn: 0.0017578\ttotal: 6.53s\tremaining: 127ms\n",
      "981:\tlearn: 0.0017545\ttotal: 6.54s\tremaining: 120ms\n",
      "982:\tlearn: 0.0017533\ttotal: 6.55s\tremaining: 113ms\n",
      "983:\tlearn: 0.0017498\ttotal: 6.55s\tremaining: 107ms\n",
      "984:\tlearn: 0.0017473\ttotal: 6.56s\tremaining: 99.9ms\n",
      "985:\tlearn: 0.0017466\ttotal: 6.57s\tremaining: 93.3ms\n",
      "986:\tlearn: 0.0017457\ttotal: 6.58s\tremaining: 86.6ms\n",
      "987:\tlearn: 0.0017446\ttotal: 6.58s\tremaining: 79.9ms\n",
      "988:\tlearn: 0.0017444\ttotal: 6.59s\tremaining: 73.3ms\n",
      "989:\tlearn: 0.0017435\ttotal: 6.59s\tremaining: 66.6ms\n",
      "990:\tlearn: 0.0017426\ttotal: 6.6s\tremaining: 59.9ms\n",
      "991:\tlearn: 0.0017418\ttotal: 6.61s\tremaining: 53.3ms\n",
      "992:\tlearn: 0.0017412\ttotal: 6.62s\tremaining: 46.6ms\n",
      "993:\tlearn: 0.0017388\ttotal: 6.62s\tremaining: 40ms\n",
      "994:\tlearn: 0.0017381\ttotal: 6.63s\tremaining: 33.3ms\n",
      "995:\tlearn: 0.0017331\ttotal: 6.63s\tremaining: 26.6ms\n",
      "996:\tlearn: 0.0017268\ttotal: 6.64s\tremaining: 20ms\n",
      "997:\tlearn: 0.0017249\ttotal: 6.65s\tremaining: 13.3ms\n",
      "998:\tlearn: 0.0017231\ttotal: 6.65s\tremaining: 6.66ms\n",
      "999:\tlearn: 0.0017229\ttotal: 6.66s\tremaining: 0us\n"
     ]
    },
    {
     "data": {
      "text/plain": [
       "<catboost.core.CatBoostClassifier at 0x3069c8210>"
      ]
     },
     "execution_count": 82,
     "metadata": {},
     "output_type": "execute_result"
    }
   ],
   "source": [
    "# import CatBoostClassifier\n",
    "from catboost import CatBoostClassifier\n",
    "\n",
    "\n",
    "\n",
    "# Instantiate CatBoostClassifier with default hyperparameters and random_state=1\n",
    "Cat = CatBoostClassifier(random_state=1)\n",
    "\n",
    " \n",
    "# fit model on training data\n",
    "Cat.fit(X_train,y_train)\n",
    "\n",
    "\n"
   ]
  },
  {
   "cell_type": "markdown",
   "metadata": {
    "id": "TpVMMbBbD3VI"
   },
   "source": [
    "Now lets tune above model. The exhaustive list of hyperparameters in LightGBM are https://lightgbm.readthedocs.io/en/latest/Parameters-Tuning.html\n",
    "\n",
    "But lets run the CatBoost with previous selected hyperparamters i.e\n",
    "\n",
    "`learning_rate=0.2,\n",
    "max_depth=2,\n",
    "n_estimators=200,\n",
    "subsample=0.6,\n",
    "random_state=1`\n",
    "\n",
    "and lets see if it improves"
   ]
  },
  {
   "cell_type": "code",
   "execution_count": 84,
   "metadata": {
    "colab": {
     "base_uri": "https://localhost:8080/"
    },
    "id": "oQDFvB9yD3VI",
    "outputId": "9a0e2f8c-1588-438d-80df-a80e31e53bf2"
   },
   "outputs": [
    {
     "name": "stdout",
     "output_type": "stream",
     "text": [
      "0:\tlearn: 0.2613770\ttotal: 8.99ms\tremaining: 1.79s\n",
      "1:\tlearn: 0.1107299\ttotal: 15ms\tremaining: 1.48s\n",
      "2:\tlearn: 0.0567450\ttotal: 21ms\tremaining: 1.38s\n",
      "3:\tlearn: 0.0348243\ttotal: 27.3ms\tremaining: 1.33s\n",
      "4:\tlearn: 0.0248349\ttotal: 32.6ms\tremaining: 1.27s\n",
      "5:\tlearn: 0.0195141\ttotal: 37.8ms\tremaining: 1.22s\n",
      "6:\tlearn: 0.0164514\ttotal: 42.4ms\tremaining: 1.17s\n",
      "7:\tlearn: 0.0151273\ttotal: 46.9ms\tremaining: 1.13s\n",
      "8:\tlearn: 0.0137331\ttotal: 51.5ms\tremaining: 1.09s\n",
      "9:\tlearn: 0.0130939\ttotal: 55.6ms\tremaining: 1.06s\n",
      "10:\tlearn: 0.0129013\ttotal: 60.5ms\tremaining: 1.04s\n",
      "11:\tlearn: 0.0124680\ttotal: 64.7ms\tremaining: 1.01s\n",
      "12:\tlearn: 0.0121171\ttotal: 69.6ms\tremaining: 1s\n",
      "13:\tlearn: 0.0120108\ttotal: 74.6ms\tremaining: 991ms\n",
      "14:\tlearn: 0.0118553\ttotal: 79.6ms\tremaining: 981ms\n",
      "15:\tlearn: 0.0117221\ttotal: 83.6ms\tremaining: 962ms\n",
      "16:\tlearn: 0.0115269\ttotal: 87.9ms\tremaining: 946ms\n",
      "17:\tlearn: 0.0113924\ttotal: 92.9ms\tremaining: 939ms\n",
      "18:\tlearn: 0.0113005\ttotal: 97.8ms\tremaining: 932ms\n",
      "19:\tlearn: 0.0112542\ttotal: 102ms\tremaining: 918ms\n",
      "20:\tlearn: 0.0111744\ttotal: 107ms\tremaining: 909ms\n",
      "21:\tlearn: 0.0110331\ttotal: 111ms\tremaining: 900ms\n",
      "22:\tlearn: 0.0110040\ttotal: 116ms\tremaining: 893ms\n",
      "23:\tlearn: 0.0109243\ttotal: 121ms\tremaining: 887ms\n",
      "24:\tlearn: 0.0107862\ttotal: 126ms\tremaining: 882ms\n",
      "25:\tlearn: 0.0106990\ttotal: 131ms\tremaining: 874ms\n",
      "26:\tlearn: 0.0105833\ttotal: 136ms\tremaining: 869ms\n",
      "27:\tlearn: 0.0105309\ttotal: 140ms\tremaining: 860ms\n",
      "28:\tlearn: 0.0104814\ttotal: 145ms\tremaining: 854ms\n",
      "29:\tlearn: 0.0104638\ttotal: 150ms\tremaining: 849ms\n",
      "30:\tlearn: 0.0104181\ttotal: 155ms\tremaining: 843ms\n",
      "31:\tlearn: 0.0103845\ttotal: 160ms\tremaining: 838ms\n",
      "32:\tlearn: 0.0103707\ttotal: 165ms\tremaining: 833ms\n",
      "33:\tlearn: 0.0103319\ttotal: 170ms\tremaining: 829ms\n",
      "34:\tlearn: 0.0100526\ttotal: 174ms\tremaining: 821ms\n",
      "35:\tlearn: 0.0100108\ttotal: 179ms\tremaining: 816ms\n",
      "36:\tlearn: 0.0099976\ttotal: 184ms\tremaining: 811ms\n",
      "37:\tlearn: 0.0097816\ttotal: 188ms\tremaining: 803ms\n",
      "38:\tlearn: 0.0096909\ttotal: 193ms\tremaining: 797ms\n",
      "39:\tlearn: 0.0095962\ttotal: 197ms\tremaining: 789ms\n",
      "40:\tlearn: 0.0095732\ttotal: 202ms\tremaining: 784ms\n",
      "41:\tlearn: 0.0095443\ttotal: 207ms\tremaining: 780ms\n",
      "42:\tlearn: 0.0095152\ttotal: 212ms\tremaining: 774ms\n",
      "43:\tlearn: 0.0094425\ttotal: 217ms\tremaining: 768ms\n",
      "44:\tlearn: 0.0094278\ttotal: 223ms\tremaining: 768ms\n",
      "45:\tlearn: 0.0094034\ttotal: 228ms\tremaining: 762ms\n",
      "46:\tlearn: 0.0093880\ttotal: 232ms\tremaining: 756ms\n",
      "47:\tlearn: 0.0093780\ttotal: 237ms\tremaining: 752ms\n",
      "48:\tlearn: 0.0093058\ttotal: 242ms\tremaining: 745ms\n",
      "49:\tlearn: 0.0092476\ttotal: 246ms\tremaining: 738ms\n",
      "50:\tlearn: 0.0091924\ttotal: 250ms\tremaining: 731ms\n",
      "51:\tlearn: 0.0091838\ttotal: 255ms\tremaining: 726ms\n",
      "52:\tlearn: 0.0091706\ttotal: 260ms\tremaining: 721ms\n",
      "53:\tlearn: 0.0090566\ttotal: 265ms\tremaining: 715ms\n",
      "54:\tlearn: 0.0090433\ttotal: 269ms\tremaining: 710ms\n",
      "55:\tlearn: 0.0090097\ttotal: 273ms\tremaining: 703ms\n",
      "56:\tlearn: 0.0090037\ttotal: 278ms\tremaining: 698ms\n",
      "57:\tlearn: 0.0089302\ttotal: 283ms\tremaining: 692ms\n",
      "58:\tlearn: 0.0089011\ttotal: 288ms\tremaining: 687ms\n",
      "59:\tlearn: 0.0088147\ttotal: 292ms\tremaining: 682ms\n",
      "60:\tlearn: 0.0088088\ttotal: 297ms\tremaining: 677ms\n",
      "61:\tlearn: 0.0087963\ttotal: 302ms\tremaining: 672ms\n",
      "62:\tlearn: 0.0087823\ttotal: 307ms\tremaining: 667ms\n",
      "63:\tlearn: 0.0087352\ttotal: 312ms\tremaining: 662ms\n",
      "64:\tlearn: 0.0087281\ttotal: 317ms\tremaining: 658ms\n",
      "65:\tlearn: 0.0087089\ttotal: 321ms\tremaining: 653ms\n",
      "66:\tlearn: 0.0086780\ttotal: 326ms\tremaining: 648ms\n",
      "67:\tlearn: 0.0086493\ttotal: 331ms\tremaining: 643ms\n",
      "68:\tlearn: 0.0086376\ttotal: 337ms\tremaining: 639ms\n",
      "69:\tlearn: 0.0086292\ttotal: 341ms\tremaining: 634ms\n",
      "70:\tlearn: 0.0086227\ttotal: 346ms\tremaining: 629ms\n",
      "71:\tlearn: 0.0085881\ttotal: 351ms\tremaining: 624ms\n",
      "72:\tlearn: 0.0085652\ttotal: 356ms\tremaining: 620ms\n",
      "73:\tlearn: 0.0085555\ttotal: 361ms\tremaining: 616ms\n",
      "74:\tlearn: 0.0085410\ttotal: 366ms\tremaining: 611ms\n",
      "75:\tlearn: 0.0084889\ttotal: 371ms\tremaining: 606ms\n",
      "76:\tlearn: 0.0084838\ttotal: 376ms\tremaining: 601ms\n",
      "77:\tlearn: 0.0084753\ttotal: 381ms\tremaining: 596ms\n",
      "78:\tlearn: 0.0084359\ttotal: 386ms\tremaining: 591ms\n",
      "79:\tlearn: 0.0084189\ttotal: 391ms\tremaining: 586ms\n",
      "80:\tlearn: 0.0083986\ttotal: 396ms\tremaining: 581ms\n",
      "81:\tlearn: 0.0083832\ttotal: 400ms\tremaining: 576ms\n",
      "82:\tlearn: 0.0082956\ttotal: 405ms\tremaining: 570ms\n",
      "83:\tlearn: 0.0082911\ttotal: 409ms\tremaining: 565ms\n",
      "84:\tlearn: 0.0082783\ttotal: 414ms\tremaining: 560ms\n",
      "85:\tlearn: 0.0080925\ttotal: 419ms\tremaining: 555ms\n",
      "86:\tlearn: 0.0080786\ttotal: 425ms\tremaining: 551ms\n",
      "87:\tlearn: 0.0080650\ttotal: 430ms\tremaining: 547ms\n",
      "88:\tlearn: 0.0080617\ttotal: 434ms\tremaining: 542ms\n",
      "89:\tlearn: 0.0079230\ttotal: 439ms\tremaining: 537ms\n",
      "90:\tlearn: 0.0079167\ttotal: 444ms\tremaining: 532ms\n",
      "91:\tlearn: 0.0079066\ttotal: 449ms\tremaining: 527ms\n",
      "92:\tlearn: 0.0078937\ttotal: 454ms\tremaining: 522ms\n",
      "93:\tlearn: 0.0078794\ttotal: 459ms\tremaining: 518ms\n",
      "94:\tlearn: 0.0078728\ttotal: 464ms\tremaining: 513ms\n",
      "95:\tlearn: 0.0078628\ttotal: 468ms\tremaining: 508ms\n",
      "96:\tlearn: 0.0078540\ttotal: 473ms\tremaining: 502ms\n",
      "97:\tlearn: 0.0078503\ttotal: 478ms\tremaining: 497ms\n",
      "98:\tlearn: 0.0078435\ttotal: 483ms\tremaining: 493ms\n",
      "99:\tlearn: 0.0078307\ttotal: 488ms\tremaining: 488ms\n",
      "100:\tlearn: 0.0078228\ttotal: 492ms\tremaining: 482ms\n",
      "101:\tlearn: 0.0078182\ttotal: 497ms\tremaining: 477ms\n",
      "102:\tlearn: 0.0078121\ttotal: 501ms\tremaining: 472ms\n",
      "103:\tlearn: 0.0077979\ttotal: 506ms\tremaining: 467ms\n",
      "104:\tlearn: 0.0077382\ttotal: 511ms\tremaining: 462ms\n",
      "105:\tlearn: 0.0077358\ttotal: 515ms\tremaining: 457ms\n",
      "106:\tlearn: 0.0076363\ttotal: 520ms\tremaining: 452ms\n",
      "107:\tlearn: 0.0076185\ttotal: 524ms\tremaining: 447ms\n",
      "108:\tlearn: 0.0076090\ttotal: 529ms\tremaining: 441ms\n",
      "109:\tlearn: 0.0076040\ttotal: 533ms\tremaining: 436ms\n",
      "110:\tlearn: 0.0075776\ttotal: 539ms\tremaining: 432ms\n",
      "111:\tlearn: 0.0075684\ttotal: 544ms\tremaining: 427ms\n",
      "112:\tlearn: 0.0075658\ttotal: 548ms\tremaining: 422ms\n",
      "113:\tlearn: 0.0075593\ttotal: 553ms\tremaining: 417ms\n",
      "114:\tlearn: 0.0075524\ttotal: 558ms\tremaining: 412ms\n",
      "115:\tlearn: 0.0075502\ttotal: 563ms\tremaining: 408ms\n",
      "116:\tlearn: 0.0075344\ttotal: 568ms\tremaining: 403ms\n",
      "117:\tlearn: 0.0075283\ttotal: 572ms\tremaining: 398ms\n",
      "118:\tlearn: 0.0075249\ttotal: 577ms\tremaining: 393ms\n",
      "119:\tlearn: 0.0075170\ttotal: 582ms\tremaining: 388ms\n",
      "120:\tlearn: 0.0075111\ttotal: 586ms\tremaining: 383ms\n",
      "121:\tlearn: 0.0074360\ttotal: 591ms\tremaining: 378ms\n",
      "122:\tlearn: 0.0072826\ttotal: 595ms\tremaining: 373ms\n",
      "123:\tlearn: 0.0072778\ttotal: 600ms\tremaining: 368ms\n",
      "124:\tlearn: 0.0072711\ttotal: 605ms\tremaining: 363ms\n",
      "125:\tlearn: 0.0072619\ttotal: 610ms\tremaining: 358ms\n",
      "126:\tlearn: 0.0072553\ttotal: 615ms\tremaining: 354ms\n",
      "127:\tlearn: 0.0072509\ttotal: 620ms\tremaining: 349ms\n",
      "128:\tlearn: 0.0072033\ttotal: 624ms\tremaining: 343ms\n",
      "129:\tlearn: 0.0071957\ttotal: 630ms\tremaining: 339ms\n",
      "130:\tlearn: 0.0071921\ttotal: 636ms\tremaining: 335ms\n",
      "131:\tlearn: 0.0071894\ttotal: 641ms\tremaining: 330ms\n",
      "132:\tlearn: 0.0071843\ttotal: 646ms\tremaining: 326ms\n",
      "133:\tlearn: 0.0071820\ttotal: 651ms\tremaining: 321ms\n",
      "134:\tlearn: 0.0071756\ttotal: 656ms\tremaining: 316ms\n",
      "135:\tlearn: 0.0071707\ttotal: 661ms\tremaining: 311ms\n",
      "136:\tlearn: 0.0071674\ttotal: 666ms\tremaining: 306ms\n",
      "137:\tlearn: 0.0071637\ttotal: 670ms\tremaining: 301ms\n",
      "138:\tlearn: 0.0071612\ttotal: 675ms\tremaining: 296ms\n",
      "139:\tlearn: 0.0071561\ttotal: 680ms\tremaining: 291ms\n",
      "140:\tlearn: 0.0071536\ttotal: 685ms\tremaining: 287ms\n",
      "141:\tlearn: 0.0071515\ttotal: 690ms\tremaining: 282ms\n",
      "142:\tlearn: 0.0071419\ttotal: 695ms\tremaining: 277ms\n",
      "143:\tlearn: 0.0071376\ttotal: 699ms\tremaining: 272ms\n",
      "144:\tlearn: 0.0071304\ttotal: 704ms\tremaining: 267ms\n",
      "145:\tlearn: 0.0071284\ttotal: 709ms\tremaining: 262ms\n",
      "146:\tlearn: 0.0071238\ttotal: 713ms\tremaining: 257ms\n",
      "147:\tlearn: 0.0071178\ttotal: 718ms\tremaining: 252ms\n",
      "148:\tlearn: 0.0070859\ttotal: 723ms\tremaining: 247ms\n",
      "149:\tlearn: 0.0070704\ttotal: 727ms\tremaining: 242ms\n",
      "150:\tlearn: 0.0070680\ttotal: 732ms\tremaining: 237ms\n",
      "151:\tlearn: 0.0070601\ttotal: 736ms\tremaining: 232ms\n",
      "152:\tlearn: 0.0070278\ttotal: 741ms\tremaining: 228ms\n",
      "153:\tlearn: 0.0070266\ttotal: 746ms\tremaining: 223ms\n",
      "154:\tlearn: 0.0069889\ttotal: 751ms\tremaining: 218ms\n",
      "155:\tlearn: 0.0069783\ttotal: 755ms\tremaining: 213ms\n",
      "156:\tlearn: 0.0069536\ttotal: 760ms\tremaining: 208ms\n",
      "157:\tlearn: 0.0069241\ttotal: 764ms\tremaining: 203ms\n",
      "158:\tlearn: 0.0069198\ttotal: 769ms\tremaining: 198ms\n",
      "159:\tlearn: 0.0069030\ttotal: 774ms\tremaining: 194ms\n",
      "160:\tlearn: 0.0068956\ttotal: 778ms\tremaining: 189ms\n",
      "161:\tlearn: 0.0068932\ttotal: 783ms\tremaining: 184ms\n",
      "162:\tlearn: 0.0068771\ttotal: 788ms\tremaining: 179ms\n",
      "163:\tlearn: 0.0068623\ttotal: 793ms\tremaining: 174ms\n",
      "164:\tlearn: 0.0068404\ttotal: 798ms\tremaining: 169ms\n",
      "165:\tlearn: 0.0068157\ttotal: 803ms\tremaining: 164ms\n",
      "166:\tlearn: 0.0068140\ttotal: 808ms\tremaining: 160ms\n",
      "167:\tlearn: 0.0068093\ttotal: 812ms\tremaining: 155ms\n"
     ]
    },
    {
     "name": "stdout",
     "output_type": "stream",
     "text": [
      "168:\tlearn: 0.0068065\ttotal: 817ms\tremaining: 150ms\n",
      "169:\tlearn: 0.0068044\ttotal: 822ms\tremaining: 145ms\n",
      "170:\tlearn: 0.0067935\ttotal: 828ms\tremaining: 140ms\n",
      "171:\tlearn: 0.0067910\ttotal: 833ms\tremaining: 136ms\n",
      "172:\tlearn: 0.0067890\ttotal: 838ms\tremaining: 131ms\n",
      "173:\tlearn: 0.0067836\ttotal: 842ms\tremaining: 126ms\n",
      "174:\tlearn: 0.0067717\ttotal: 847ms\tremaining: 121ms\n",
      "175:\tlearn: 0.0067692\ttotal: 852ms\tremaining: 116ms\n",
      "176:\tlearn: 0.0067651\ttotal: 857ms\tremaining: 111ms\n",
      "177:\tlearn: 0.0067593\ttotal: 861ms\tremaining: 106ms\n",
      "178:\tlearn: 0.0067556\ttotal: 866ms\tremaining: 102ms\n",
      "179:\tlearn: 0.0067486\ttotal: 870ms\tremaining: 96.7ms\n",
      "180:\tlearn: 0.0067246\ttotal: 875ms\tremaining: 91.9ms\n",
      "181:\tlearn: 0.0067204\ttotal: 879ms\tremaining: 87ms\n",
      "182:\tlearn: 0.0067011\ttotal: 884ms\tremaining: 82.1ms\n",
      "183:\tlearn: 0.0066990\ttotal: 889ms\tremaining: 77.3ms\n",
      "184:\tlearn: 0.0066970\ttotal: 894ms\tremaining: 72.5ms\n",
      "185:\tlearn: 0.0066785\ttotal: 899ms\tremaining: 67.7ms\n",
      "186:\tlearn: 0.0066699\ttotal: 904ms\tremaining: 62.8ms\n",
      "187:\tlearn: 0.0066657\ttotal: 908ms\tremaining: 58ms\n",
      "188:\tlearn: 0.0066607\ttotal: 912ms\tremaining: 53.1ms\n",
      "189:\tlearn: 0.0066589\ttotal: 917ms\tremaining: 48.3ms\n",
      "190:\tlearn: 0.0066577\ttotal: 922ms\tremaining: 43.5ms\n",
      "191:\tlearn: 0.0066428\ttotal: 927ms\tremaining: 38.6ms\n",
      "192:\tlearn: 0.0066408\ttotal: 932ms\tremaining: 33.8ms\n",
      "193:\tlearn: 0.0066366\ttotal: 937ms\tremaining: 29ms\n",
      "194:\tlearn: 0.0066355\ttotal: 941ms\tremaining: 24.1ms\n",
      "195:\tlearn: 0.0066339\ttotal: 946ms\tremaining: 19.3ms\n",
      "196:\tlearn: 0.0066328\ttotal: 951ms\tremaining: 14.5ms\n",
      "197:\tlearn: 0.0066260\ttotal: 956ms\tremaining: 9.65ms\n",
      "198:\tlearn: 0.0066213\ttotal: 960ms\tremaining: 4.83ms\n",
      "199:\tlearn: 0.0066150\ttotal: 966ms\tremaining: 0us\n"
     ]
    },
    {
     "data": {
      "text/plain": [
       "<catboost.core.CatBoostClassifier at 0x306aa4810>"
      ]
     },
     "execution_count": 84,
     "metadata": {},
     "output_type": "execute_result"
    }
   ],
   "source": [
    "\n",
    "# Instantiate CatBoostClassifier with params\n",
    "Cat = CatBoostClassifier(learning_rate=0.2, max_depth=2, n_estimators=200, subsample=0.6, random_state=1)\n",
    "\n",
    " \n",
    "# fit model on training data\n",
    "Cat.fit(X_train,y_train)\n",
    "\n",
    "\n",
    "\n"
   ]
  },
  {
   "cell_type": "code",
   "execution_count": 88,
   "metadata": {
    "colab": {
     "base_uri": "https://localhost:8080/"
    },
    "id": "AS4dO6AkD3VI",
    "outputId": "e1075ad4-d254-436b-d01b-680a61ec4671"
   },
   "outputs": [
    {
     "name": "stdout",
     "output_type": "stream",
     "text": [
      "AUC: 96.27%\n"
     ]
    }
   ],
   "source": [
    "# use predict_proba since we need probabilities to compute auc\n",
    "y_pred = Cat.predict_proba(X_test)\n",
    "\n",
    "\n",
    "# evaluate predictions using roc_auc score\n",
    "roc =metrics.roc_auc_score(y_test,y_pred[:,1])\n",
    "print(\"AUC: %.2f%%\"%(roc*100.0))\n"
   ]
  },
  {
   "cell_type": "markdown",
   "metadata": {
    "id": "7PevkKhdD3VJ"
   },
   "source": [
    "Wohoo! oh yes. Your final model can come to your rescue. CatBoost gives slightly better result than all other models which we tried till now."
   ]
  },
  {
   "cell_type": "markdown",
   "metadata": {
    "_cell_guid": "b753bc69-f824-4ed5-8f27-ec391f0cb820",
    "_uuid": "e02e3ccc572ac3bbcc9a40b8dd2bbe269a36994d",
    "id": "ll4QNddSD3VJ"
   },
   "source": [
    "\n",
    "Recommendations for training:\n",
    "- We have used only a fraction of the training set (train_sample, 100k rows), the full training data on Kaggle (train.csv) has about 180 million rows. You'll get good results only if you train the model on a significant portion of the training dataset.  \n",
    "- Because of the size, you'll need to use Colab kernels to train the model on full training data. Colab kernels provide powerful computation capacities on cloud (for free). \n",
    "- Even on the kernel, you may need to use a portion of the training dataset (try using the last 20-30 million rows).\n",
    "- Make sure you save memory by following some tricks and best practices, else you won't be able to train the model at all on a large dataset.\n",
    "\n",
    "\n",
    "Finally in this assignment you have learned about various boosting techniques and in previous assignment you had learned about Bagging techniques. We hope you understood the difference between them and their use.\n",
    "\n",
    "You can refer below videos to know interesting Interview questions on Boosting techniques. \n",
    "\n",
    "https://www.youtube.com/watch?v=EHewTwtYcgE\n",
    "\n",
    "\n"
   ]
  },
  {
   "cell_type": "markdown",
   "metadata": {
    "id": "O-jAA4y9D3VJ"
   },
   "source": [
    "From above you can see that most of the International footbal tournament were on sunday. Such small small analysis becomes usefull for our machine learning problems to solve.\n",
    "\n",
    "All these feature engineering techniques becomes very important to bring good insights and results for any machine learning problems, hence we hope that you understand the importance of feature engineering as part of data science.\n",
    "\n",
    "---------------------\n",
    "# Peaceable with ensemble! Congrats..you have completed your ML Ensemble challenge\n",
    "---------------------\n",
    "\n",
    "\n",
    "# FeedBack\n",
    "We hope you’ve enjoyed this course so far. We’re committed to help you use \"AI for All\" course to its full potential, so that you have a great learning experience. And that’s why we need your help in form of a feedback here.\n",
    "\n",
    "Please fill this feedback form https://zfrmz.in/MtRG5oWXBdesm6rmSM7N"
   ]
  }
 ],
 "metadata": {
  "colab": {
   "collapsed_sections": [],
   "provenance": []
  },
  "kernelspec": {
   "display_name": "Python 3 (ipykernel)",
   "language": "python",
   "name": "python3"
  },
  "language_info": {
   "codemirror_mode": {
    "name": "ipython",
    "version": 3
   },
   "file_extension": ".py",
   "mimetype": "text/x-python",
   "name": "python",
   "nbconvert_exporter": "python",
   "pygments_lexer": "ipython3",
   "version": "3.12.4"
  },
  "latex_envs": {
   "LaTeX_envs_menu_present": true,
   "autoclose": false,
   "autocomplete": true,
   "bibliofile": "biblio.bib",
   "cite_by": "apalike",
   "current_citInitial": 1,
   "eqLabelWithNumbers": true,
   "eqNumInitial": 1,
   "hotkeys": {
    "equation": "Ctrl-E",
    "itemize": "Ctrl-I"
   },
   "labels_anchors": false,
   "latex_user_defs": false,
   "report_style_numbering": false,
   "user_envs_cfg": false
  }
 },
 "nbformat": 4,
 "nbformat_minor": 4
}

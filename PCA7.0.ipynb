{
 "cells": [
  {
   "cell_type": "markdown",
   "metadata": {
    "id": "IEB1TVgg7qlj"
   },
   "source": [
    "# <CENTER><U>**`PRINCIPAL COMPONENT ANALYSIS (PCA)`**</U></CENTER>\n",
    "\n",
    "\n",
    "Large datasets are increasingly widespread in many disciplines. In order to interpret such datasets, methods are required to drastically reduce their dimensionality in an interpretable way, such that most of the information in the data is preserved. Many techniques have been developed for this purpose, but principal component analysis (PCA) is one of the oldest and most widely used. Its idea is simple—reduce the dimensionality of a dataset, while preserving as much ‘variability’ (i.e. statistical information) as possible.\n",
    "\n",
    "\n",
    "\n",
    "Lets understand it using MNIST data:<br>\n",
    "DOWLOAD DATASET: https://www.kaggle.com/c/digit-recognizer/data?select=train.csv\n",
    "\n",
    "Here this is very short assignment where you will understand concept of PCA while doing handson. Do go through the video links provided so that you understand the topics well."
   ]
  },
  {
   "cell_type": "markdown",
   "metadata": {
    "id": "W8l9QcniuSrx"
   },
   "source": [
    "# **`WATCH ALL VIDEOS IN THE PORTAL`**"
   ]
  },
  {
   "cell_type": "markdown",
   "metadata": {
    "id": "2N_aa9I57LXj"
   },
   "source": [
    "## **`Watch Video 1 & 2: PCA Theory Part 1, 2`**"
   ]
  },
  {
   "cell_type": "markdown",
   "metadata": {
    "id": "GefxSR4PvAc9"
   },
   "source": [
    "## **`Watch Video 3: PCA Implementation`**\n",
    "### **`File used in the  video`**: https://drive.google.com/file/d/1PxOQIeuEFs-Q1HptYTWXD3fooji8CtIV/view?usp=sharing"
   ]
  },
  {
   "cell_type": "code",
   "execution_count": 1,
   "metadata": {
    "id": "BLui43Dm7qlr"
   },
   "outputs": [],
   "source": [
    "#Import Functions to read and show images.\n",
    "\n",
    "import numpy as np\n",
    "import pandas as pd\n",
    "import matplotlib.pyplot as plt"
   ]
  },
  {
   "cell_type": "code",
   "execution_count": 2,
   "metadata": {
    "id": "lPJTx3987qlt"
   },
   "outputs": [],
   "source": [
    "## Load MNIST Data (train.csv)\n",
    "d0 = pd.read_csv('train.csv')\n"
   ]
  },
  {
   "cell_type": "code",
   "execution_count": 4,
   "metadata": {
    "id": "LnyW5OU97qlv",
    "outputId": "cfb26399-8d65-4100-802d-3a6e07bb7bb1"
   },
   "outputs": [
    {
     "data": {
      "text/html": [
       "<div>\n",
       "<style scoped>\n",
       "    .dataframe tbody tr th:only-of-type {\n",
       "        vertical-align: middle;\n",
       "    }\n",
       "\n",
       "    .dataframe tbody tr th {\n",
       "        vertical-align: top;\n",
       "    }\n",
       "\n",
       "    .dataframe thead th {\n",
       "        text-align: right;\n",
       "    }\n",
       "</style>\n",
       "<table border=\"1\" class=\"dataframe\">\n",
       "  <thead>\n",
       "    <tr style=\"text-align: right;\">\n",
       "      <th></th>\n",
       "      <th>label</th>\n",
       "      <th>pixel0</th>\n",
       "      <th>pixel1</th>\n",
       "      <th>pixel2</th>\n",
       "      <th>pixel3</th>\n",
       "      <th>pixel4</th>\n",
       "      <th>pixel5</th>\n",
       "      <th>pixel6</th>\n",
       "      <th>pixel7</th>\n",
       "      <th>pixel8</th>\n",
       "      <th>...</th>\n",
       "      <th>pixel774</th>\n",
       "      <th>pixel775</th>\n",
       "      <th>pixel776</th>\n",
       "      <th>pixel777</th>\n",
       "      <th>pixel778</th>\n",
       "      <th>pixel779</th>\n",
       "      <th>pixel780</th>\n",
       "      <th>pixel781</th>\n",
       "      <th>pixel782</th>\n",
       "      <th>pixel783</th>\n",
       "    </tr>\n",
       "  </thead>\n",
       "  <tbody>\n",
       "    <tr>\n",
       "      <th>0</th>\n",
       "      <td>1</td>\n",
       "      <td>0</td>\n",
       "      <td>0</td>\n",
       "      <td>0</td>\n",
       "      <td>0</td>\n",
       "      <td>0</td>\n",
       "      <td>0</td>\n",
       "      <td>0</td>\n",
       "      <td>0</td>\n",
       "      <td>0</td>\n",
       "      <td>...</td>\n",
       "      <td>0</td>\n",
       "      <td>0</td>\n",
       "      <td>0</td>\n",
       "      <td>0</td>\n",
       "      <td>0</td>\n",
       "      <td>0</td>\n",
       "      <td>0</td>\n",
       "      <td>0</td>\n",
       "      <td>0</td>\n",
       "      <td>0</td>\n",
       "    </tr>\n",
       "    <tr>\n",
       "      <th>1</th>\n",
       "      <td>0</td>\n",
       "      <td>0</td>\n",
       "      <td>0</td>\n",
       "      <td>0</td>\n",
       "      <td>0</td>\n",
       "      <td>0</td>\n",
       "      <td>0</td>\n",
       "      <td>0</td>\n",
       "      <td>0</td>\n",
       "      <td>0</td>\n",
       "      <td>...</td>\n",
       "      <td>0</td>\n",
       "      <td>0</td>\n",
       "      <td>0</td>\n",
       "      <td>0</td>\n",
       "      <td>0</td>\n",
       "      <td>0</td>\n",
       "      <td>0</td>\n",
       "      <td>0</td>\n",
       "      <td>0</td>\n",
       "      <td>0</td>\n",
       "    </tr>\n",
       "    <tr>\n",
       "      <th>2</th>\n",
       "      <td>1</td>\n",
       "      <td>0</td>\n",
       "      <td>0</td>\n",
       "      <td>0</td>\n",
       "      <td>0</td>\n",
       "      <td>0</td>\n",
       "      <td>0</td>\n",
       "      <td>0</td>\n",
       "      <td>0</td>\n",
       "      <td>0</td>\n",
       "      <td>...</td>\n",
       "      <td>0</td>\n",
       "      <td>0</td>\n",
       "      <td>0</td>\n",
       "      <td>0</td>\n",
       "      <td>0</td>\n",
       "      <td>0</td>\n",
       "      <td>0</td>\n",
       "      <td>0</td>\n",
       "      <td>0</td>\n",
       "      <td>0</td>\n",
       "    </tr>\n",
       "    <tr>\n",
       "      <th>3</th>\n",
       "      <td>4</td>\n",
       "      <td>0</td>\n",
       "      <td>0</td>\n",
       "      <td>0</td>\n",
       "      <td>0</td>\n",
       "      <td>0</td>\n",
       "      <td>0</td>\n",
       "      <td>0</td>\n",
       "      <td>0</td>\n",
       "      <td>0</td>\n",
       "      <td>...</td>\n",
       "      <td>0</td>\n",
       "      <td>0</td>\n",
       "      <td>0</td>\n",
       "      <td>0</td>\n",
       "      <td>0</td>\n",
       "      <td>0</td>\n",
       "      <td>0</td>\n",
       "      <td>0</td>\n",
       "      <td>0</td>\n",
       "      <td>0</td>\n",
       "    </tr>\n",
       "    <tr>\n",
       "      <th>4</th>\n",
       "      <td>0</td>\n",
       "      <td>0</td>\n",
       "      <td>0</td>\n",
       "      <td>0</td>\n",
       "      <td>0</td>\n",
       "      <td>0</td>\n",
       "      <td>0</td>\n",
       "      <td>0</td>\n",
       "      <td>0</td>\n",
       "      <td>0</td>\n",
       "      <td>...</td>\n",
       "      <td>0</td>\n",
       "      <td>0</td>\n",
       "      <td>0</td>\n",
       "      <td>0</td>\n",
       "      <td>0</td>\n",
       "      <td>0</td>\n",
       "      <td>0</td>\n",
       "      <td>0</td>\n",
       "      <td>0</td>\n",
       "      <td>0</td>\n",
       "    </tr>\n",
       "  </tbody>\n",
       "</table>\n",
       "<p>5 rows × 785 columns</p>\n",
       "</div>"
      ],
      "text/plain": [
       "   label  pixel0  pixel1  pixel2  pixel3  pixel4  pixel5  pixel6  pixel7  \\\n",
       "0      1       0       0       0       0       0       0       0       0   \n",
       "1      0       0       0       0       0       0       0       0       0   \n",
       "2      1       0       0       0       0       0       0       0       0   \n",
       "3      4       0       0       0       0       0       0       0       0   \n",
       "4      0       0       0       0       0       0       0       0       0   \n",
       "\n",
       "   pixel8  ...  pixel774  pixel775  pixel776  pixel777  pixel778  pixel779  \\\n",
       "0       0  ...         0         0         0         0         0         0   \n",
       "1       0  ...         0         0         0         0         0         0   \n",
       "2       0  ...         0         0         0         0         0         0   \n",
       "3       0  ...         0         0         0         0         0         0   \n",
       "4       0  ...         0         0         0         0         0         0   \n",
       "\n",
       "   pixel780  pixel781  pixel782  pixel783  \n",
       "0         0         0         0         0  \n",
       "1         0         0         0         0  \n",
       "2         0         0         0         0  \n",
       "3         0         0         0         0  \n",
       "4         0         0         0         0  \n",
       "\n",
       "[5 rows x 785 columns]"
      ]
     },
     "execution_count": 4,
     "metadata": {},
     "output_type": "execute_result"
    }
   ],
   "source": [
    "# print first five rows of d0.\n",
    "d0.head()\n"
   ]
  },
  {
   "cell_type": "markdown",
   "metadata": {
    "id": "fLLBZmVT729b"
   },
   "source": [
    "### **`Data Dict:`**<br>\n",
    "`The data files train.csv contain gray-scale images of hand-drawn digits, from zero through nine.`\n",
    "\n",
    "`Each image is 28 pixels in height and 28 pixels in width, for a total of 784 pixels in total.`\n",
    "`Each pixel has a single pixel-value associated with it, indicating the lightness or darkness of that pixel, with higher numbers meaning darker. This pixel-value is an integer between 0 and 255, inclusive.`\n",
    "\n",
    "`The training data set has 785 columns. The first column, called \"label\", is the digit that was drawn by the user. The rest of the columns contain the pixel-values of the associated image.`"
   ]
  },
  {
   "cell_type": "code",
   "execution_count": 5,
   "metadata": {
    "id": "ZkGLDxGh7qlw"
   },
   "outputs": [],
   "source": [
    "# save the labels into a variable l.\n",
    "l = d0['label']\n"
   ]
  },
  {
   "cell_type": "code",
   "execution_count": 6,
   "metadata": {
    "id": "BGw5d4BN7qlx"
   },
   "outputs": [],
   "source": [
    "# Drop the label feature from d0 and store the pixel data in d.\n",
    "d = d0.drop('label',axis=1)\n"
   ]
  },
  {
   "cell_type": "code",
   "execution_count": 7,
   "metadata": {
    "id": "Czp6Q2Gy7qly",
    "outputId": "0582aac2-a020-433d-c128-ae329c121721"
   },
   "outputs": [
    {
     "name": "stdout",
     "output_type": "stream",
     "text": [
      "(42000, 784)\n",
      "(42000,)\n"
     ]
    }
   ],
   "source": [
    "#print shape of pixel and label data\n",
    "print(d.shape)\n",
    "print(l.shape)"
   ]
  },
  {
   "cell_type": "code",
   "execution_count": 8,
   "metadata": {
    "id": "d35aFuu57ql0",
    "outputId": "b9e14737-4097-4975-d5ee-d2b2944e33cb"
   },
   "outputs": [
    {
     "name": "stdout",
     "output_type": "stream",
     "text": [
      "0\n"
     ]
    }
   ],
   "source": [
    "idx = 1\n",
    "# print label value for above index\n",
    "print(l[idx])\n"
   ]
  },
  {
   "cell_type": "markdown",
   "metadata": {
    "id": "XC6QQRxl7ql1"
   },
   "source": [
    "#### display or plot above label.\n",
    "\n",
    "Reference: \n"
   ]
  },
  {
   "cell_type": "code",
   "execution_count": 9,
   "metadata": {
    "id": "ioB9rSel7ql2",
    "outputId": "cd1d54a7-d1cc-4957-85bb-6893ac454ddc"
   },
   "outputs": [
    {
     "data": {
      "image/png": "[encoded data removed]",
      "text/plain": [
       "<Figure size 700x700 with 1 Axes>"
      ]
     },
     "metadata": {},
     "output_type": "display_data"
    }
   ],
   "source": [
    "plt.figure(figsize=(7,7))\n",
    "\n",
    "# reshape from 1d to 2d pixel array ( prefer 28 X 28)\n",
    "grid_data=d.loc[idx].values.reshape(28,28)\n",
    "\n",
    "\n",
    "#plot above grid image with cmap as gray and interpoltion as none\n",
    "\n",
    "plt.imshow(grid_data,interpolation='none',cmap='gray')\n",
    "\n",
    "#display plot\n",
    "\n",
    "plt.show()\n"
   ]
  },
  {
   "cell_type": "markdown",
   "metadata": {
    "id": "PGAwSnWT7ql3"
   },
   "source": [
    "#  **`2D Visualization using PCA`** \n",
    "\n",
    "\n",
    "Reference:"
   ]
  },
  {
   "cell_type": "markdown",
   "metadata": {
    "id": "1dY1nTdC86pI"
   },
   "source": [
    "## **`Watch Video 4: PCA Visualization`**\n",
    "### **`File used in the video`**:https://drive.google.com/file/d/1pjNx6wivLRSgveJa_WdApd0E0gUk3WUt/view?usp=sharing"
   ]
  },
  {
   "cell_type": "code",
   "execution_count": 10,
   "metadata": {
    "id": "uiaslEBP7ql4",
    "outputId": "4b0337b9-2a85-454a-a261-fcf2c7118778"
   },
   "outputs": [
    {
     "data": {
      "text/plain": [
       "(15000, 784)"
      ]
     },
     "execution_count": 10,
     "metadata": {},
     "output_type": "execute_result"
    }
   ],
   "source": [
    "# Pick first 15K data-points to work on for time-effeciency.\n",
    "#Excercise: Perform the same analysis on all of 42K data-points.\n",
    "\n",
    "labels = l.head(15000)            #labels with 15k data points\n",
    "data = d.head(15000)              #data with 15k data points\n",
    "\n",
    "data.shape\n",
    "\n"
   ]
  },
  {
   "cell_type": "markdown",
   "metadata": {
    "id": "ItKPKGma7ql5"
   },
   "source": [
    "### **`Data-preprocessing: Standardizing the data`**\n",
    "\n",
    "\n"
   ]
  },
  {
   "cell_type": "code",
   "execution_count": 12,
   "metadata": {
    "id": "JaJDNUt67ql5",
    "outputId": "07927d12-d713-4a64-b9ed-46332a354a5f"
   },
   "outputs": [
    {
     "name": "stdout",
     "output_type": "stream",
     "text": [
      "(15000, 784)\n"
     ]
    }
   ],
   "source": [
    "# import standard scalar\n",
    "from sklearn.preprocessing import StandardScaler\n",
    "\n",
    "\n",
    "#fit transform data\n",
    "standardized_data =StandardScaler().fit_transform(data) \n",
    "\n",
    "\n",
    "#print shape of standardized_data\n",
    "\n",
    "print(standardized_data.shape)\n"
   ]
  },
  {
   "cell_type": "markdown",
   "metadata": {
    "id": "YFFeJmy97ql6"
   },
   "source": [
    "### **`find the co-variance matrix which is : A^T * A`**\n",
    "\n",
    "Find the covariance matrix of the dataset by multiplying the the matrix of features by its transpose. It is a measure of how much each of the dimensions vary from the mean with respect to each other.\n",
    "\n",
    "The covariance is measured between 2 dimensions to see if there is a relationship between the 2 dimensions, e.g., relationship between the height and weight of students. \n",
    "\n",
    "A positive value of covariance indicates that both the dimensions are directly proportional to each other, where if one dimension increases the other dimension increases accordingly.\n",
    "\n",
    "A negative value of covariance indicates that both the dimensions are indirectly proportional to each other, where if one dimension increases then other dimension decreases accordingly.\n",
    "\n",
    "\n",
    "If in case the covariance is zero, then the two dimensions are independent of each other."
   ]
  },
  {
   "cell_type": "code",
   "execution_count": 13,
   "metadata": {
    "id": "Z-BUBd7z7ql7",
    "outputId": "990d6344-f9fc-4138-bbcf-3247be218b52"
   },
   "outputs": [
    {
     "data": {
      "text/plain": [
       "(784, 784)"
      ]
     },
     "execution_count": 13,
     "metadata": {},
     "output_type": "execute_result"
    }
   ],
   "source": [
    "\n",
    "sample_data = standardized_data\n",
    "\n",
    "#use matrix multiplication using numpy to find covariance matrix\n",
    "covar_matrix = np.matmul(sample_data.T,sample_data)\n",
    "\n",
    "\n",
    "\n",
    "#print shape of covar_matrix\n",
    "covar_matrix.shape\n",
    "\n"
   ]
  },
  {
   "cell_type": "markdown",
   "metadata": {
    "id": "Jm9qsYRW7ql8"
   },
   "source": [
    "### **`Computing Eigenvectors and Eigenvalues`**\n",
    "\n",
    "\n",
    "The eigenvectors and eigenvalues of a covariance (or correlation) matrix represent the “core” of a PCA: The eigenvectors (principal components) determine the directions of the new feature space, and the eigenvalues determine their magnitude. In other words, the eigenvalues explain the variance of the data along the new feature axes.\n",
    "\n",
    "The eigenvectors and eigenvalues of the covariance matrix will give the principal components and a vector that we can use to project high-dimensional inputs to the lower-dimensional subspace."
   ]
  },
  {
   "cell_type": "code",
   "execution_count": 15,
   "metadata": {
    "id": "510i_cun7ql9",
    "outputId": "0afbe7b1-e620-4d7e-b48b-e359d4d42d42"
   },
   "outputs": [
    {
     "name": "stdout",
     "output_type": "stream",
     "text": [
      "eigen shape :  (784, 2)\n",
      "Updated shape :  (2, 784)\n"
     ]
    },
    {
     "name": "stderr",
     "output_type": "stream",
     "text": [
      "/var/folders/s8/h9l9nw0s2h32gsbkdcyn3p_80000gp/T/ipykernel_1706/1253913296.py:10: DeprecationWarning: Keyword argument 'eigvals' is deprecated in favour of 'subset_by_index' keyword instead and will be removed in SciPy 1.12.0.\n",
      "  values, vectors = eigh(covar_matrix,eigvals=(782,783))\n"
     ]
    }
   ],
   "source": [
    "# finding the top two eigen-values and corresponding eigen-vectors \n",
    "# for projecting onto a 2-Dim space.\n",
    "from scipy.linalg import eigh\n",
    "\n",
    " \n",
    "\n",
    "# the parameter 'eigvals' is defined (low value to heigh value) \n",
    "# eigh function will return the eigen values in asending order\n",
    "# this code generates only the top 2 (782 and 783) eigenvalues.\n",
    "values, vectors = eigh(covar_matrix,eigvals=(782,783))\n",
    "\n",
    "print(\"eigen shape : \",vectors.shape)\n",
    "\n",
    "\n",
    "# converting the eigen vectors into (2,d) shape for easyness of further computations\n",
    "vectors =vectors.T\n",
    "\n",
    "\n",
    "print(\"Updated shape : \",vectors.shape)\n",
    "# here the vectors[1] represent the eigen vector corresponding 1st principal eigen vector\n",
    "# here the vectors[0] represent the eigen vector corresponding 2nd principal eigen vector"
   ]
  },
  {
   "cell_type": "code",
   "execution_count": 16,
   "metadata": {
    "id": "jWufPd9S7ql9",
    "outputId": "10d63ad1-20e9-4f33-e8f0-93223530ec70"
   },
   "outputs": [
    {
     "name": "stdout",
     "output_type": "stream",
     "text": [
      "NEw shape : (2, 784) X (784, 15000) = (2, 15000)\n"
     ]
    }
   ],
   "source": [
    "# projecting the original data sample on the plane \n",
    "#formed by multiplication of two principal eigen vectors with transposed sample_data\n",
    "\n",
    "import matplotlib.pyplot as plt\n",
    "\n",
    "\n",
    "# multiplication of two principal eigen vectors with transposed sample_data to get 2d projected data\n",
    "new_coordinates = np.matmul(vectors,sample_data.T)\n",
    "\n",
    "# print resultant new data points\n",
    "\n",
    "print(\"NEw shape :\",vectors.shape,\"X\",sample_data.T.shape,\"=\",new_coordinates.shape)"
   ]
  },
  {
   "cell_type": "code",
   "execution_count": 17,
   "metadata": {
    "id": "vSCLf-bC7qmA",
    "outputId": "7d8b0b64-b12c-450a-ba35-23246e91ca8e"
   },
   "outputs": [
    {
     "data": {
      "text/html": [
       "<div>\n",
       "<style scoped>\n",
       "    .dataframe tbody tr th:only-of-type {\n",
       "        vertical-align: middle;\n",
       "    }\n",
       "\n",
       "    .dataframe tbody tr th {\n",
       "        vertical-align: top;\n",
       "    }\n",
       "\n",
       "    .dataframe thead th {\n",
       "        text-align: right;\n",
       "    }\n",
       "</style>\n",
       "<table border=\"1\" class=\"dataframe\">\n",
       "  <thead>\n",
       "    <tr style=\"text-align: right;\">\n",
       "      <th></th>\n",
       "      <th>1st_principal</th>\n",
       "      <th>2nd_principal</th>\n",
       "      <th>label</th>\n",
       "    </tr>\n",
       "  </thead>\n",
       "  <tbody>\n",
       "    <tr>\n",
       "      <th>0</th>\n",
       "      <td>-5.558661</td>\n",
       "      <td>-5.043558</td>\n",
       "      <td>1.0</td>\n",
       "    </tr>\n",
       "    <tr>\n",
       "      <th>1</th>\n",
       "      <td>6.193635</td>\n",
       "      <td>19.305278</td>\n",
       "      <td>0.0</td>\n",
       "    </tr>\n",
       "    <tr>\n",
       "      <th>2</th>\n",
       "      <td>-1.909878</td>\n",
       "      <td>-7.678775</td>\n",
       "      <td>1.0</td>\n",
       "    </tr>\n",
       "    <tr>\n",
       "      <th>3</th>\n",
       "      <td>5.525748</td>\n",
       "      <td>-0.464845</td>\n",
       "      <td>4.0</td>\n",
       "    </tr>\n",
       "    <tr>\n",
       "      <th>4</th>\n",
       "      <td>6.366527</td>\n",
       "      <td>26.644289</td>\n",
       "      <td>0.0</td>\n",
       "    </tr>\n",
       "  </tbody>\n",
       "</table>\n",
       "</div>"
      ],
      "text/plain": [
       "   1st_principal  2nd_principal  label\n",
       "0      -5.558661      -5.043558    1.0\n",
       "1       6.193635      19.305278    0.0\n",
       "2      -1.909878      -7.678775    1.0\n",
       "3       5.525748      -0.464845    4.0\n",
       "4       6.366527      26.644289    0.0"
      ]
     },
     "execution_count": 17,
     "metadata": {},
     "output_type": "execute_result"
    }
   ],
   "source": [
    "import pandas as pd\n",
    "\n",
    "# appending label to the 2d projected data\n",
    "new_coordinates = np.vstack((new_coordinates,labels)).T\n",
    "\n",
    "\n",
    "# creating a new data frame for ploting the labeled points.\n",
    "dataframe = pd.DataFrame(data=new_coordinates,columns=(\"1st_principal\",\"2nd_principal\",\"label\"))\n",
    "\n",
    "# print head\n",
    "dataframe.head()\n",
    "\n"
   ]
  },
  {
   "cell_type": "code",
   "execution_count": 19,
   "metadata": {
    "id": "gRwvTDKN7qmA",
    "outputId": "92e7211a-887a-48c9-d6e0-b471c31d8ec0"
   },
   "outputs": [
    {
     "name": "stderr",
     "output_type": "stream",
     "text": [
      "/Users/gauravmac/anaconda3/lib/python3.11/site-packages/seaborn/axisgrid.py:118: UserWarning: The figure layout has changed to tight\n",
      "  self._figure.tight_layout(*args, **kwargs)\n"
     ]
    },
    {
     "data": {
      "image/png": "[encoded data removed]",
      "text/plain": [
       "<Figure size 372.125x300 with 1 Axes>"
      ]
     },
     "metadata": {},
     "output_type": "display_data"
    }
   ],
   "source": [
    "# ploting the 2d data points with seaborn\n",
    "import seaborn as sn\n",
    "sn.FacetGrid(dataframe,hue=\"label\").map(plt.scatter,\"1st_principal\",\"2nd_principal\").add_legend()\n",
    "plt.show()\n"
   ]
  },
  {
   "cell_type": "markdown",
   "metadata": {
    "id": "uKsTauQs7qmB"
   },
   "source": [
    "### **`PCA using Scikit-Learn`**\n",
    "\n",
    "Reference: https://scikit-learn.org/stable/modules/generated/sklearn.decomposition.PCA.html"
   ]
  },
  {
   "cell_type": "code",
   "execution_count": 20,
   "metadata": {
    "id": "MNir2XEQ7qmB"
   },
   "outputs": [],
   "source": [
    "# import decomposition\n",
    "from sklearn import decomposition\n",
    "# initializing the pca\n",
    "pca = decomposition.PCA()\n",
    "\n"
   ]
  },
  {
   "cell_type": "markdown",
   "metadata": {
    "id": "DhVtT0EA7qmC"
   },
   "source": [
    "#### configuring the parameteres"
   ]
  },
  {
   "cell_type": "code",
   "execution_count": 21,
   "metadata": {
    "id": "pc11qgA07qmD",
    "outputId": "60c8ce0e-dacf-4050-d271-352061391d01"
   },
   "outputs": [
    {
     "data": {
      "text/plain": [
       "(15000, 2)"
      ]
     },
     "execution_count": 21,
     "metadata": {},
     "output_type": "execute_result"
    }
   ],
   "source": [
    "# the number of components = 2\n",
    "pca.n_components = 2\n",
    "\n",
    "# fit transform sample data using pca \n",
    "pca_data = pca.fit_transform(sample_data)\n",
    "\n",
    "# pca_reduced will contain the 2-d projects of simple data\n",
    "pca_data.shape\n",
    "\n",
    "\n"
   ]
  },
  {
   "cell_type": "code",
   "execution_count": 22,
   "metadata": {
    "id": "7bQSHCdl7qmD",
    "outputId": "56260d7f-dab0-4285-c139-1891505b0370"
   },
   "outputs": [
    {
     "name": "stderr",
     "output_type": "stream",
     "text": [
      "/Users/gauravmac/anaconda3/lib/python3.11/site-packages/seaborn/axisgrid.py:118: UserWarning: The figure layout has changed to tight\n",
      "  self._figure.tight_layout(*args, **kwargs)\n"
     ]
    },
    {
     "data": {
      "image/png": "[encoded data removed]",
      "text/plain": [
       "<Figure size 372.125x300 with 1 Axes>"
      ]
     },
     "metadata": {},
     "output_type": "display_data"
    }
   ],
   "source": [
    "# attaching the label for each 2-d data point (Hint: Use np.vstack)\n",
    "pca_data =np.vstack((pca_data.T,labels)).T\n",
    "\n",
    "\n",
    "# creating a new data fram which help us in ploting the result data\n",
    "pca_df = pd.DataFrame(data=pca_data,columns=(\"1st_principal\",\"2nd_principal\",\"label\"))\n",
    "\n",
    "# plot using facetgrid\n",
    "sn.FacetGrid(dataframe,hue=\"label\").map(plt.scatter,\"1st_principal\",\"2nd_principal\").add_legend()\n",
    "plt.show()\n",
    "\n"
   ]
  },
  {
   "cell_type": "markdown",
   "metadata": {
    "id": "pqh1GR7k7qmE"
   },
   "source": [
    "### **`PCA for dimensionality reduction (not for visualization)`**\n",
    "\n",
    "The distribution of explained variance for each principal component gives a sense of how much information will be represented and how much lost when the full, 64-dimensional input is reduced using a principal component model (i.e., a model that utilizes only the first  N  principal components)."
   ]
  },
  {
   "cell_type": "code",
   "execution_count": 23,
   "metadata": {
    "id": "xy_CEX5s7qmE",
    "outputId": "6cb4f846-03a0-465f-95a7-e528c74bc41c"
   },
   "outputs": [
    {
     "data": {
      "image/png": "[encoded data removed]",
      "text/plain": [
       "<Figure size 600x400 with 1 Axes>"
      ]
     },
     "metadata": {},
     "output_type": "display_data"
    }
   ],
   "source": [
    "\n",
    "# the number of components = 784\n",
    "pca.n_components = 784\n",
    "\n",
    "\n",
    "# fit transform sample data using pca \n",
    "pca_data = pca.fit_transform(sample_data)\n",
    "\n",
    "\n",
    "\n",
    "#calculating percentage of variance explained in the data\n",
    "percentage_var_explained = pca.explained_variance_/np.sum(pca.explained_variance_)\n",
    "\n",
    "\n",
    "\n",
    "#cumulative sum of the percentage_var_explained\n",
    "cum_var_explained = np.cumsum(percentage_var_explained)\n",
    "\n",
    "\n",
    "# Plot the PCA spectrum\n",
    "plt.figure(1,figsize=(6,4))\n",
    "plt.clf()\n",
    "plt.plot(cum_var_explained,linewidth=2)\n",
    "plt.axis(\"tight\")\n",
    "plt.grid()\n",
    "plt.xlabel(\"n_comp\")\n",
    "plt.ylabel(\"cumulaative_explained\")\n",
    "plt.show()"
   ]
  },
  {
   "cell_type": "markdown",
   "metadata": {
    "id": "JY0LgA7H7qmE"
   },
   "source": [
    "From above you can see that if we take 200-dimensions, approx. 90% of variance is expalined. \n",
    "\n",
    "Our intention with the princpal component analysis is to reduce the high-dimensional input to a low-dimensional input. Ultimately that low-dimensional input is intended for use in a model, since adding more components increases the cost and the accuracy.\n",
    "\n",
    "\n",
    "\n",
    "### **`PCA is a method that brings together:`**\n",
    "1. A measure of how each variable is associated with one another. (Covariance matrix.)\n",
    "\n",
    "2. The directions in which our data are dispersed. (Eigenvectors.)\n",
    "\n",
    "3. The relative importance of these different directions. (Eigenvalues.)\n",
    "\n",
    "4. PCA combines our predictors and allows us to drop the Eigenvectors that are relatively unimportant.\n",
    "\n",
    "\n",
    "\n"
   ]
  },
  {
   "cell_type": "markdown",
   "metadata": {
    "id": "JGUfvT0zFvgf"
   },
   "source": [
    "### **`Summary`**\n",
    "1. PCA helps you interpret your data, but it will not always find the important patterns. \n",
    "2. Principal component analysis (PCA) simplifies the complexity in high-dimensional data while retaining trends and patterns. \n",
    "3. It does this by transforming the data into fewer dimensions, which act as summaries of features.\n",
    "\n",
    "### **`Conculsion:`**\n",
    "1. Principal Component Analysis (PCA) is a popular and powerful tool in data science.\n",
    "2. It provides a way to reduce redundancy in a set of variables. We’ve seen that this equivalent to an eigenvector decomposition of the data’s covariance matrix. \n",
    "3. Applications for PCA include: dimensionality reduction, clustering, and outlier detection.\n",
    "\n",
    "\n",
    "\n"
   ]
  },
  {
   "cell_type": "markdown",
   "metadata": {
    "id": "acYsryKg-m_u"
   },
   "source": [
    "## **`For full playlist of PCA videos`**: https://youtube.com/playlist?list=PLsR_0x6BuM-HzSiGlea9UFPN8K7UVtHSV"
   ]
  },
  {
   "cell_type": "markdown",
   "metadata": {
    "id": "l4cLYvT0Ftpb"
   },
   "source": [
    "---------------------------------\n",
    "\n",
    "# Give yourself a treat:) Congratulations! you have completed the PCA challenge. \n",
    "\n",
    "--------------------------------\n",
    "\n",
    "# FeedBack\n",
    "We hope you’ve enjoyed this course so far. We’re committed to help you use \"AI for All\" course to its full potential, so that you have a great learning experience. And that’s why we need your help in form of a feedback here.\n",
    "\n",
    "Please fill this feedback form  https://zfrmz.in/MtRG5oWXBdesm6rmSM7N"
   ]
  }
 ],
 "metadata": {
  "colab": {
   "collapsed_sections": [],
   "provenance": []
  },
  "kernelspec": {
   "display_name": "Python 3 (ipykernel)",
   "language": "python",
   "name": "python3"
  },
  "language_info": {
   "codemirror_mode": {
    "name": "ipython",
    "version": 3
   },
   "file_extension": ".py",
   "mimetype": "text/x-python",
   "name": "python",
   "nbconvert_exporter": "python",
   "pygments_lexer": "ipython3",
   "version": "3.12.4"
  }
 },
 "nbformat": 4,
 "nbformat_minor": 4
}
